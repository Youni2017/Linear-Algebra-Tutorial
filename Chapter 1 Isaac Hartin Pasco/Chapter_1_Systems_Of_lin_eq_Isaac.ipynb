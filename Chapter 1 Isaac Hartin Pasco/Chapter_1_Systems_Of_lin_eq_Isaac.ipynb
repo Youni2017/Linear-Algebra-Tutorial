{
 "cells": [
  {
   "cell_type": "markdown",
   "metadata": {
    "collapsed": false
   },
   "source": [
    "\t\t\t\t\t\t\t\t\t\t\t\t\t\t\t\t\t\t\t\t\t\t\t\t# L.A. with sage: Chapter 1\n",
    "Isaac Hartin Pasco"
   ]
  },
  {
   "cell_type": "markdown",
   "metadata": {
    "collapsed": false
   },
   "source": [
    "Preamble: How to very basically use this. Cells are things you can type in and can be run. To run a cell you click on it with the left mouse button and then press shift and enter at the same time. In between Cells you should have a tooltip that appears if you hover your mouse there that says \"Code Text Paste Generate\". Code lets you type sage/python code and you run shift and enter to run it. Text lets you form a text box like this one that you can type $\\LaTeX$  and Markdown in pressing shift and enter in a text box formats it so it looks nice. Don't worry about the paste or generate boxes I don't know what they do. If you want to undo something control+z appears to do that. if you want to delete a cell go to edit in the top left next to file and go to delete cell. If you want to edit a cell you can double click it with the left mouse button. "
   ]
  },
  {
   "cell_type": "markdown",
   "metadata": {
    "collapsed": false
   },
   "source": [
    "A note about variables in python specifically, NOT ABOUT VARIABLES IN THE EQUATION STUFF. A variable in python is a box that contains something. you tell python what kind of something you want you want to have a variable to hold using $\"Variable\" = \"something\"$. but without the quotes. You can set a variable to be the result of a mathematical expression for example $x = 2$ or $x = 2*2$  you use $+$ to add $-$ to subtract $/$ to divide $*$ to multiply and ^ to take something to a power. Note that this works with things that aren't numbers and depending on what they are, for example $x = \"hi\"+\"\\ there\"$ would make x be \"hi there\". you can also declare variables in terms of other variables and mathematical expressions with other variables assuming those variables already exist. Mathematical expressions obey order of operations and you can use parenthesis in them. One final thing. Code cells are evaluated from top to bottom and its a bad idea to do more than one equals sign per line. (the $==$ signifies two things actually being equal and you can have multiple of those just fine). "
   ]
  },
  {
   "cell_type": "markdown",
   "metadata": {
    "collapsed": false
   },
   "source": [
    "Alright. Finally we can get to linear equations. A linear equation is an equation that can be represented in the form s0x0+s1x1+s2x2+...+snxn=ys0​x0​+s1​x1​+s2​x2​+...+sn​xn​=y where each of x0...xnx0​...xn​ is a variable and each of s0...sns0​...sn​ and yy is a scalar. these are very cool and useful for a lot of reasons that can be gotten into later. sage math and computer things make it so you can manipulate and solve them without having to brute force things and allows for generalizations and optimizations in the process of doing algebra that can be very useful. The sage documentation on linear algebra https://doc.sagemath.org/html/en/tutorial/tour_linalg.html is an excellent resource on this sort of thing."
   ]
  },
  {
   "cell_type": "code",
   "execution_count": 13,
   "metadata": {
    "collapsed": false
   },
   "outputs": [
    {
     "name": "stdout",
     "output_type": "stream",
     "text": [
      "Linear equations are fun :3\n",
      "Linear equations are fun :3\n",
      "2\n",
      "see? like this!\n"
     ]
    }
   ],
   "source": [
    "#you can declare variables you can use in equation like this \n",
    "x0,x1 = var(\"x0,x1\");\n",
    "#or like this\n",
    "x = var(\"x1\")\n",
    "#you can declare variables you just want to use but not in a equation specifically like this\n",
    "x = 2\n",
    "y = \"Linear equations are fun :3\"\n",
    "#if you feel like it you can also set variables equal to each other\n",
    "x = y\n",
    "print(x)\n",
    "#note that the assignment here is only to x, y won't be set equal to x by this\n",
    "print(y)\n",
    "#note the second, if you want to print something out specifically you can use print(that thing) to print it \n",
    "print(2)\n",
    "#if you want to print multiple things at once you can use a comma between them in the printing to print both of then out\n",
    "x = \"like this!\"\n",
    "print(\"see?\", x)"
   ]
  },
  {
   "cell_type": "markdown",
   "metadata": {
    "collapsed": false
   },
   "source": [
    "note that the variables can be named almost anything they don't have to be named $x$ or $x Something$. Just make sure they are letters and numbers and don't start with numbers e.g $n3$ is a valid variable name and $nop3s$ is a valid variable name but $3n$ is not and neither is $3$.  They have to be ascii i think\n",
    "\n",
    "."
   ]
  },
  {
   "cell_type": "code",
   "execution_count": 16,
   "metadata": {
    "collapsed": false
   },
   "outputs": [
   ],
   "source": [
    "#you can declare an equation like this\n",
    "x0,x1 = var(\"x0,x1\");\n",
    "f = [x0+x1 == 6]\n"
   ]
  },
  {
   "cell_type": "markdown",
   "metadata": {
    "collapsed": false
   },
   "source": [
    "The equation can be written in normal equation writing like you would type it up, but you use ** instead of power and a $==$ instead of the normal equals signs because those are used to assign stuff to variables. also it doesn't multiply automatically if you put two things together if you want to multiply something you must put * between the two things or else it won't work. The equations also obey PEMDAS if you were curious \n",
    "\n"
   ]
  },
  {
   "cell_type": "code",
   "execution_count": 15,
   "metadata": {
    "collapsed": false
   },
   "outputs": [
   ],
   "source": [
    "#you can declare two equations like this\n",
    "x0,x1 = var(\"x0,x1\");\n",
    "f = [x0+x1 == 6]\n",
    "g = [2*x0+3*x1 == 8]"
   ]
  },
  {
   "cell_type": "markdown",
   "metadata": {
    "collapsed": false
   },
   "source": [
    "Equations and variables use the same naming conventions, anything that can be a valid variable name can be a valid equation name"
   ]
  },
  {
   "cell_type": "code",
   "execution_count": 29,
   "metadata": {
    "collapsed": false
   },
   "outputs": [
    {
     "data": {
      "image/png": "[encoded data removed]",
      "text/plain": "Graphics object consisting of 1 graphics primitive"
     },
     "output_type": "execute_result"
    }
   ],
   "source": [
    "#if you want to see what an equation looks like you can use \n",
    "x = var(\"x\")\n",
    "plot(6-x,(x, -10,10)) #6-x here is turning x0+x1 = 6 into x0 = 6-x1 and graphing that as y = 6-x. "
   ]
  },
  {
   "cell_type": "code",
   "execution_count": 30,
   "metadata": {
    "collapsed": false
   },
   "outputs": [
    {
     "data": {
      "iframe": "d8ae8a7db80ba3ee7f080213a6aeb3fd56cf5300",
      "text/plain": "Graphics3d Object"
     },
     "output_type": "execute_result"
    }
   ],
   "source": [
    "#if you want to plot something in 3d you can use \n",
    "x0,x1 = var(\"x0,x1\")\n",
    "plot3d(2*x0+3*x1, (x0, -10, 10), (x1,-10,10))"
   ]
  },
  {
   "cell_type": "markdown",
   "metadata": {
    "collapsed": false
   },
   "source": [
    "For plotting the first value is an expression that either produces the y value on the graph or the z value of the graph depending on whether it is 3d, and the second and potential third parts tell them what values to evaluate the variables under. For example $(x,-10,10)$ tells python to evaluate the value of x  from -10 to 10"
   ]
  },
  {
   "cell_type": "code",
   "execution_count": 14,
   "metadata": {
    "collapsed": false
   },
   "outputs": [
   ],
   "source": [
    "#you can declare a system of equations like this \n",
    "x0,x1 = var(\"x0,x1\");\n",
    "f = [x0+x1 == 6]\n",
    "g = [2*x0+3*x1 == 8]\n",
    "s = [f,g]"
   ]
  },
  {
   "cell_type": "markdown",
   "metadata": {
    "collapsed": false
   },
   "source": [
    "Systems of equations obey the same naming conventions as everything else. Please do not name things the same name as other things it will make your life very hard."
   ]
  },
  {
   "cell_type": "code",
   "execution_count": 5,
   "metadata": {
    "collapsed": false
   },
   "outputs": [
    {
     "data": {
      "text/plain": [
       "[[x0 == 0, x1 == 0]]"
      ]
     },
     "execution_count": 5,
     "metadata": {
     },
     "output_type": "execute_result"
    }
   ],
   "source": [
    "#you can solve a system of equations like this\n",
    "x0,x1 = var(\"x0,x1\")\n",
    "f = [x0+x1 == 0]\n",
    "g = [2*x0+3*x1 == 0]\n",
    "s = [f,g]\n",
    "solve(s, x0,x1)\n",
    "#or like this \n",
    "solve([f,g],x0,x1)\n",
    "#or like this\n",
    "solve([[x0+x1 == 0], 2*x0+3*x1 == 0],x0,x1)\n",
    "# solve(s,x0,x1) does exactly the same thing as solve([f,g],x0,x1) and solve([[x0+x1 == 6], 2*x0+3*x1 == 8],x0,x1) does \n"
   ]
  },
  {
   "cell_type": "markdown",
   "metadata": {
    "collapsed": false
   },
   "source": [
    "you can represent a system of linear equations by putting the coefficients of the linear equations into a matrix. this makes it so you can do things to that system of equations without having to worry about the original equations and allow you to treat that system as an object you can do math on, \n"
   ]
  },
  {
   "cell_type": "code",
   "execution_count": 3,
   "metadata": {
    "collapsed": false
   },
   "outputs": [
    {
     "name": "stdout",
     "output_type": "stream",
     "text": [
      "[1 1]\n",
      "[2 3]\n"
     ]
    }
   ],
   "source": [
    "#for example you could represent the system of linear equations used above, x0+x1 = 0 and 2x0+3x1 == 0 as \n",
    "A = matrix([[1,1], [2,3]])\n",
    "#you can get the transpose of a matrix just by using \n",
    "A.transpose()\n",
    "#and you can print a matrix the same as anything else by using \n",
    "print(A)"
   ]
  },
  {
   "cell_type": "markdown",
   "metadata": {
    "collapsed": false
   },
   "source": [
    "$\\large{IMPORTANT\\ NOTE}$\n",
    "although the above is a perfectly valid way of creating a matrix for reasons of convention the rest of this will use a different method of writing the collumns of a matrix and then using .transpose to get the matrix right because that is a bit easier to work with"
   ]
  },
  {
   "cell_type": "code",
   "execution_count": 9,
   "metadata": {
    "collapsed": false
   },
   "outputs": [
    {
     "name": "stdout",
     "output_type": "stream",
     "text": [
      "A: \n",
      "[1 1]\n",
      "[2 3]\n",
      "B: \n",
      "[1 1]\n",
      "[2 3]\n"
     ]
    }
   ],
   "source": [
    "#the conventional way of doing matrices\n",
    "A = matrix([[1,2], [1,3]]).transpose()\n",
    "print(\"A: \")\n",
    "print(A)\n",
    "#this is convenient because it lets you declare and manipulate collumn vectors seperately \n",
    "w = [1,2]\n",
    "x = [1,3]\n",
    "B = matrix([w,x]).transpose()\n",
    "print(\"B: \")\n",
    "print(B)"
   ]
  },
  {
   "cell_type": "markdown",
   "metadata": {
    "collapsed": false
   },
   "source": [
    "There are various operations you can do on matrices, but the fundamental ones you might want to use in solving a linear equation are swapping the postions of two rows, multiply a row by something that isn't zero and add a nonzero multiple of a row to another row"
   ]
  },
  {
   "cell_type": "code",
   "execution_count": 10,
   "metadata": {
    "collapsed": false,
    "scrolled": true
   },
   "outputs": [
    {
     "name": "stdout",
     "output_type": "stream",
     "text": [
      "before anything A is\n",
      "[1 2]\n",
      "[1 3]\n",
      "after adding A is\n",
      "[2 5]\n",
      "[1 3]\n",
      "after scaling the first row by 2 A is: \n",
      "[ 4 10]\n",
      "[ 1  3]\n",
      "After swapping the first and second rows A is: \n",
      "[ 1  3]\n",
      "[ 4 10]\n"
     ]
    }
   ],
   "source": [
    "A = matrix([[1,1], [2,3]]).transpose()\n",
    "print(\"before anything A is\")\n",
    "print(A)\n",
    "# to add one row to another use \n",
    "A.add_multiple_of_row(0,1,1) # adds 1 times the second row to the first row, \n",
    "#in order the things 0,1,1 do are, the zeroth row is the row to be added to, the first row is the row to add, multiply the row to add by 1\n",
    "#note that the rows are indexed such that the the first row is called 0, the second row is called 1 etc\n",
    "print(\"after adding A is\")\n",
    "print(A)\n",
    "#to multiply a row by another use\n",
    "A.rescale_row(0,2)\n",
    "print(\"after scaling the first row by 2 A is: \")\n",
    "print(A)\n",
    "#to swap two rows use\n",
    "A.swap_rows(0,1)\n",
    "#order doesn't really matter here but swaps the first and the second row\n",
    "print(\"After swapping the first and second rows A is: \")\n",
    "print(A)"
   ]
  },
  {
   "cell_type": "markdown",
   "metadata": {
    "collapsed": false
   },
   "source": [
    "Matrices can also be added and subtracted etc but that is more complicated so don't worry about it for now $:)$"
   ]
  },
  {
   "cell_type": "markdown",
   "metadata": {
    "collapsed": false
   },
   "source": [
    "You do need to know about python stuff though so one last thing. Python Functions are a way of doing a bunch of extremely cool things. Don't put them into the linear equations we talked about above because they sort of break them but otherwise they are very useful. they work like functions in math in that you can use them with some arguments and depending on the function you get something back out. they can also work as subroutines where your code goes off and does something for a second, and then goes back to what it was doing before. they also might be both."
   ]
  },
  {
   "cell_type": "code",
   "execution_count": 35,
   "metadata": {
    "collapsed": false
   },
   "outputs": [
    {
     "name": "stdout",
     "output_type": "stream",
     "text": [
      "2\n"
     ]
    },
    {
     "data": {
      "text/plain": [
       "'2'"
      ]
     },
     "execution_count": 35,
     "metadata": {
     },
     "output_type": "execute_result"
    }
   ],
   "source": [
    "def f(x): # you define a function using def, the function name and in parenthesis the variables it takes in. functions in python are determined by indentation\n",
    "    #so the continous stuff that is at this level or more of indentation is part of this function\n",
    "    #you put any code you want to run in the function here\n",
    "    print(x) # for example\n",
    "    return str(x) # the value this function returns, if you don't put a return the function returns nothin \n",
    "#this is where the function ends \n",
    "y = f(2) #this calls the function with a value of 2, while inside the function anything called x will actually contain 2, y is the value that is returned"
   ]
  },
  {
   "cell_type": "markdown",
   "metadata": {
    "collapsed": false
   },
   "source": [
    "Note that unlike other things in a python file functions are not run unless called and if they are called they are run at the point where they are called. they are also effectively replaced with whatever they return so y = f(2) is equivalent to y = \"2\" in the above case although nothing would be printed out from f() if it was just y = \"2\""
   ]
  },
  {
   "cell_type": "code",
   "execution_count": 46,
   "metadata": {
    "collapsed": false
   },
   "outputs": [
    {
     "name": "stdout",
     "output_type": "stream",
     "text": [
      "howdy f was called on this\n",
      "howdy f was called on this f was called on this\n",
      "howdy f was called on this\n"
     ]
    }
   ],
   "source": [
    "#functions can be called with nearly anything as long as the operations inside the function are things that can be done to the things passed into it, numbers and strings of characters won't be changed by things done to them in a function other things MAY\n",
    "def f(x):\n",
    "    return str(x)+\" f was called on this\"\n",
    "y = f(\"howdy\")\n",
    "print(y)\n",
    "z = f(y)\n",
    "print(z)\n",
    "print(y)# note that y stays the same after f is called on it "
   ]
  },
  {
   "cell_type": "code",
   "execution_count": 49,
   "metadata": {
    "collapsed": false
   },
   "outputs": [
   ],
   "source": [
    "#you can also have a function that returns nothing \n",
    "def f(x):\n",
    "    x = x+1\n",
    "f(2)\n",
    "#note that this runs even though it doesn't print anything"
   ]
  },
  {
   "cell_type": "markdown",
   "metadata": {
    "collapsed": false
   },
   "source": [
    "$True$ and $False$ are also valid things for a variable to be and you can do things with them or get values of $True$ or $False$ from other expressions. For example $0 == 1$ evaluates to $False$ and $1 == 1$ evaluates to $True$. putting $!$ in front of something changes it to the opposite of whatever it was if it's a boolean value. $!True$ is $False$ for example. You can concatenate boolean(things that are either $True$ or $False$) expressions together to get more complicated logic "
   ]
  },
  {
   "cell_type": "code",
   "execution_count": 53,
   "metadata": {
    "collapsed": false
   },
   "outputs": [
    {
     "name": "stdout",
     "output_type": "stream",
     "text": [
      "False\n",
      "True\n",
      "True\n",
      "False\n",
      "True\n",
      "False\n"
     ]
    }
   ],
   "source": [
    "# x==y is true if x is equal to y or false otherwise\n",
    "a = 0 == 1\n",
    "print(a)\n",
    "b = 1 == 1\n",
    "print(b)\n",
    "# x<y  is true if x<y or false otherwise\n",
    "c = 1<2\n",
    "print(c)\n",
    "# x>y is true if x>y or false otherwise\n",
    "d = 1>2\n",
    "print(d)\n",
    "# x<= y is true if x<=y or false otherwise\n",
    "e = 1<=2\n",
    "print(e)\n",
    "# x>= y is true if x>=y or false otherwsie\n",
    "f = 1>=2\n",
    "print(f)"
   ]
  },
  {
   "cell_type": "code",
   "execution_count": 58,
   "metadata": {
    "collapsed": false
   },
   "outputs": [
    {
     "name": "stdout",
     "output_type": "stream",
     "text": [
      "True\n",
      "True\n"
     ]
    }
   ],
   "source": [
    "#x & y is true if both x and y are true or false otherwise\n",
    "a = (1<2) &(2<3)\n",
    "print(a)\n",
    "#x | y is true if one of x or y are true false if both of them are false\n",
    "b = (1>2) | (2<3)\n",
    "print(b)"
   ]
  },
  {
   "cell_type": "markdown",
   "metadata": {
    "collapsed": false
   },
   "source": [
    "If you want something to only run if some particular thing is true you can use if to do that. if you follow and if with an \"elif\" if the first if expression sn't true the \"elif\" will evalute if the second expression is true. an else will execute if the if preceding it doesn't execute. Note you can chain elifs."
   ]
  },
  {
   "cell_type": "code",
   "execution_count": 65,
   "metadata": {
    "collapsed": false
   },
   "outputs": [
    {
     "name": "stdout",
     "output_type": "stream",
     "text": [
      "x was 1 \n"
     ]
    }
   ],
   "source": [
    "x = 1\n",
    "if x == 1: \n",
    "    print(\"x was 1 \")\n",
    "elif x == 2:\n",
    "    print(\"x was 2 \")\n",
    "else: \n",
    "    print(\"x was neither 1 nor 2\") \n",
    "#note that the rules for whether or not something is inside of an if statement are the statement are the same as the rules for if something is inside a function.\n",
    "#try changing what x is here and seeing what happens \n",
    "#second note much like functions you can run anything inside an if statement. this includes other if statements."
   ]
  },
  {
   "cell_type": "code",
   "execution_count": 3,
   "metadata": {
    "collapsed": false
   },
   "outputs": [
    {
     "name": "stdout",
     "output_type": "stream",
     "text": [
      "True\n"
     ]
    },
    {
     "name": "stdout",
     "output_type": "stream",
     "text": [
      "True\n",
      "True\n"
     ]
    }
   ],
   "source": [
    "#example of nested if statements. THIS IS BAD CODE DO NOT USE IT FOR ANYTHING \n",
    "def is_even(x):\n",
    "    if x == 2:\n",
    "        return True\n",
    "    else:\n",
    "        if x == 4:\n",
    "            return True\n",
    "        else:\n",
    "            if x == 6:\n",
    "                return True\n",
    "            else: \n",
    "                if x == 8:\n",
    "                    return True\n",
    "                else:\n",
    "                    if x == 10: \n",
    "                        return True\n",
    "                    else:\n",
    "                        return -1\n",
    "print(is_even(2))"
   ]
  },
  {
   "cell_type": "code",
   "execution_count": 4,
   "metadata": {
    "collapsed": false
   },
   "outputs": [
    {
     "ename": "TypeError",
     "evalue": "'module' object is not callable",
     "output_type": "error",
     "traceback": [
      "\u001b[0;31m---------------------------------------------------------------------------\u001b[0m",
      "\u001b[0;31mTypeError\u001b[0m                                 Traceback (most recent call last)",
      "Cell \u001b[0;32mIn [4], line 1\u001b[0m\n\u001b[0;32m----> 1\u001b[0m a \u001b[38;5;241m=\u001b[39m \u001b[43mis_even\u001b[49m\u001b[43m(\u001b[49m\u001b[43mInteger\u001b[49m\u001b[43m(\u001b[49m\u001b[38;5;241;43m2\u001b[39;49m\u001b[43m)\u001b[49m\u001b[43m)\u001b[49m\n",
      "\u001b[0;31mTypeError\u001b[0m: 'module' object is not callable"
     ]
    }
   ],
   "source": [
   ]
  },
  {
   "cell_type": "code",
   "execution_count": 0,
   "metadata": {
    "collapsed": false
   },
   "outputs": [
   ],
   "source": [
   ]
  }
 ],
 "metadata": {
  "kernelspec": {
   "argv": [
    "sage-10.2",
    "--python",
    "-m",
    "sage.repl.ipython_kernel",
    "--matplotlib=inline",
    "-f",
    "{connection_file}"
   ],
   "display_name": "SageMath 10.2",
   "env": {
   },
   "language": "sagemath",
   "metadata": {
    "cocalc": {
     "description": "Open-source mathematical software system",
     "priority": 2,
     "url": "https://www.sagemath.org/"
    }
   },
   "name": "sage-10.2",
   "resource_dir": "/ext/jupyter/kernels/sage-10.2"
  },
  "language_info": {
   "codemirror_mode": {
    "name": "ipython",
    "version": 3
   },
   "file_extension": ".py",
   "mimetype": "text/x-python",
   "name": "python",
   "nbconvert_exporter": "python",
   "pygments_lexer": "ipython3",
   "version": "3.11.1"
  }
 },
 "nbformat": 4,
 "nbformat_minor": 4
}