{
 "cells": [
  {
   "cell_type": "code",
   "execution_count": 1,
   "metadata": {
    "collapsed": false
   },
   "outputs": [
   ],
   "source": [
    "## Hello All!  This is a place we can work on our shared Linear Algebra Tutorial.  What should we put in this document?\n",
    "\n",
    "## Here is an existing Sage Tutorial in html format. We can use it as a guide to get started: https://doc.sagemath.org/html/en/tutorial/tour_linalg.html\n",
    "\n",
    "## Here is another example that might be of use:\n",
    "\n",
    "## https://sites.math.washington.edu//~billey/colombia/sage.code/Algebraic%20Combinatorics%20Tutorial.pdf\n",
    "\n"
   ]
  },
  {
   "cell_type": "code",
   "execution_count": 23,
   "metadata": {
    "collapsed": false
   },
   "outputs": [
   ],
   "source": [
    "A = Matrix(QQ, [[1,2,3],[3,2,1],[1,1,1]])"
   ]
  },
  {
   "cell_type": "code",
   "execution_count": 0,
   "metadata": {
    "collapsed": false
   },
   "outputs": [
   ],
   "source": [
   ]
  },
  {
   "cell_type": "code",
   "execution_count": 12,
   "metadata": {
    "collapsed": false
   },
   "outputs": [
    {
     "data": {
      "text/plain": [
       "[1.00000000000000 + 1.00000000000000*I                      2.00000000000000                      3.00000000000000]\n",
       "[                     3.00000000000000                      2.00000000000000                      1.00000000000000]\n",
       "[                     1.00000000000000                      1.00000000000000                      1.00000000000000]"
      ]
     },
     "execution_count": 12,
     "metadata": {
     },
     "output_type": "execute_result"
    }
   ],
   "source": [
    "A"
   ]
  },
  {
   "cell_type": "code",
   "execution_count": 3,
   "metadata": {
    "collapsed": false
   },
   "outputs": [
    {
     "data": {
      "text/plain": [
       "[10  9  8]\n",
       "[10 11 12]\n",
       "[ 5  5  5]"
      ]
     },
     "execution_count": 3,
     "metadata": {
     },
     "output_type": "execute_result"
    }
   ],
   "source": [
    "A*A"
   ]
  },
  {
   "cell_type": "code",
   "execution_count": 4,
   "metadata": {
    "collapsed": false
   },
   "outputs": [
    {
     "data": {
      "text/plain": [
       "[ 1  0 -1]\n",
       "[ 0  1  2]\n",
       "[ 0  0  0]"
      ]
     },
     "execution_count": 4,
     "metadata": {
     },
     "output_type": "execute_result"
    }
   ],
   "source": [
    "A.echelon_form()"
   ]
  },
  {
   "cell_type": "code",
   "execution_count": 5,
   "metadata": {
    "collapsed": false
   },
   "outputs": [
    {
     "data": {
      "text/plain": [
       "0"
      ]
     },
     "execution_count": 5,
     "metadata": {
     },
     "output_type": "execute_result"
    }
   ],
   "source": [
    "A.det()"
   ]
  },
  {
   "cell_type": "code",
   "execution_count": 6,
   "metadata": {
    "collapsed": false
   },
   "outputs": [
    {
     "data": {
      "text/plain": [
       "x^3 - 4*x^2 - 5*x"
      ]
     },
     "execution_count": 6,
     "metadata": {
     },
     "output_type": "execute_result"
    }
   ],
   "source": [
    "A.charpoly()"
   ]
  },
  {
   "cell_type": "code",
   "execution_count": 7,
   "metadata": {
    "collapsed": false
   },
   "outputs": [
    {
     "data": {
      "text/plain": [
       "[5, 0, -1]"
      ]
     },
     "execution_count": 7,
     "metadata": {
     },
     "output_type": "execute_result"
    }
   ],
   "source": [
    "A.eigenvalues()"
   ]
  },
  {
   "cell_type": "code",
   "execution_count": 15,
   "metadata": {
    "collapsed": false
   },
   "outputs": [
    {
     "ename": "ValueError",
     "evalue": "base field must be exact, but Complex Field with 53 bits of precision is not",
     "output_type": "error",
     "traceback": [
      "\u001b[0;31m---------------------------------------------------------------------------\u001b[0m",
      "\u001b[0;31mValueError\u001b[0m                                Traceback (most recent call last)",
      "Cell \u001b[0;32mIn [15], line 1\u001b[0m\n\u001b[0;32m----> 1\u001b[0m \u001b[43mA\u001b[49m\u001b[38;5;241;43m.\u001b[39;49m\u001b[43mis_diagonalizable\u001b[49m\u001b[43m(\u001b[49m\u001b[43m)\u001b[49m\n",
      "File \u001b[0;32m/ext/sage/10.1/src/sage/matrix/matrix2.pyx:11699\u001b[0m, in \u001b[0;36msage.matrix.matrix2.Matrix.is_diagonalizable\u001b[0;34m()\u001b[0m\n\u001b[1;32m  11697\u001b[0m     raise ValueError('matrix entries must be from a field')\n\u001b[1;32m  11698\u001b[0m if not A.base_ring().is_exact():\n\u001b[0;32m> 11699\u001b[0m     raise ValueError('base field must be exact, but {} is not'.format(A.base_ring()))\n\u001b[1;32m  11700\u001b[0m \n\u001b[1;32m  11701\u001b[0m # check if the sum of algebraic multiplicities equals to the number of rows\n",
      "\u001b[0;31mValueError\u001b[0m: base field must be exact, but Complex Field with 53 bits of precision is not"
     ]
    }
   ],
   "source": [
    "A.is_diagonalizable()\n"
   ]
  },
  {
   "cell_type": "code",
   "execution_count": 0,
   "metadata": {
    "collapsed": false
   },
   "outputs": [
   ],
   "source": [
    "A."
   ]
  },
  {
   "cell_type": "code",
   "execution_count": 16,
   "metadata": {
    "collapsed": false
   },
   "outputs": [
   ],
   "source": [
    "A = Matrix(QQ, [[1,2,3],[3,2,1],[1,1,1]])"
   ]
  },
  {
   "cell_type": "code",
   "execution_count": 18,
   "metadata": {
    "collapsed": false
   },
   "outputs": [
    {
     "data": {
      "text/plain": [
       "(\n",
       "[ 5  0  0]  [    1     1     1]\n",
       "[ 0  0  0]  [13/11    -2    -1]\n",
       "[ 0  0 -1], [ 6/11     1     0]\n",
       ")"
      ]
     },
     "execution_count": 18,
     "metadata": {
     },
     "output_type": "execute_result"
    }
   ],
   "source": [
    "A.diagonalization()"
   ]
  },
  {
   "cell_type": "code",
   "execution_count": 21,
   "metadata": {
    "collapsed": false
   },
   "outputs": [
    {
     "ename": "TypeError",
     "evalue": "too many arguments in matrix constructor",
     "output_type": "error",
     "traceback": [
      "\u001b[0;31m---------------------------------------------------------------------------\u001b[0m",
      "\u001b[0;31mTypeError\u001b[0m                                 Traceback (most recent call last)",
      "Cell \u001b[0;32mIn [21], line 1\u001b[0m\n\u001b[0;32m----> 1\u001b[0m B \u001b[38;5;241m=\u001b[39m \u001b[43mMatrix\u001b[49m\u001b[43m(\u001b[49m\u001b[43m_\u001b[49m\u001b[43m \u001b[49m\u001b[43m,\u001b[49m\u001b[43m[\u001b[49m\u001b[43m[\u001b[49m\u001b[43mInteger\u001b[49m\u001b[43m(\u001b[49m\u001b[38;5;241;43m1\u001b[39;49m\u001b[43m)\u001b[49m\u001b[43m,\u001b[49m\u001b[43mInteger\u001b[49m\u001b[43m(\u001b[49m\u001b[38;5;241;43m2\u001b[39;49m\u001b[43m)\u001b[49m\u001b[43m,\u001b[49m\u001b[43mInteger\u001b[49m\u001b[43m(\u001b[49m\u001b[38;5;241;43m3\u001b[39;49m\u001b[43m)\u001b[49m\u001b[43m]\u001b[49m\u001b[43m,\u001b[49m\u001b[43m[\u001b[49m\u001b[43mInteger\u001b[49m\u001b[43m(\u001b[49m\u001b[38;5;241;43m3\u001b[39;49m\u001b[43m)\u001b[49m\u001b[43m,\u001b[49m\u001b[43mInteger\u001b[49m\u001b[43m(\u001b[49m\u001b[38;5;241;43m2\u001b[39;49m\u001b[43m)\u001b[49m\u001b[43m,\u001b[49m\u001b[43mInteger\u001b[49m\u001b[43m(\u001b[49m\u001b[38;5;241;43m1\u001b[39;49m\u001b[43m)\u001b[49m\u001b[43m]\u001b[49m\u001b[43m,\u001b[49m\u001b[43m[\u001b[49m\u001b[43mInteger\u001b[49m\u001b[43m(\u001b[49m\u001b[38;5;241;43m1\u001b[39;49m\u001b[43m)\u001b[49m\u001b[43m,\u001b[49m\u001b[43mInteger\u001b[49m\u001b[43m(\u001b[49m\u001b[38;5;241;43m1\u001b[39;49m\u001b[43m)\u001b[49m\u001b[43m,\u001b[49m\u001b[43mInteger\u001b[49m\u001b[43m(\u001b[49m\u001b[38;5;241;43m1\u001b[39;49m\u001b[43m)\u001b[49m\u001b[43m]\u001b[49m\u001b[43m]\u001b[49m\u001b[43m)\u001b[49m\n",
      "File \u001b[0;32m/ext/sage/10.1/src/sage/matrix/constructor.pyx:643\u001b[0m, in \u001b[0;36msage.matrix.constructor.matrix\u001b[0;34m()\u001b[0m\n\u001b[1;32m    641\u001b[0m \"\"\"\n\u001b[1;32m    642\u001b[0m immutable = kwds.pop('immutable', False)\n\u001b[0;32m--> 643\u001b[0m M = MatrixArgs(*args, **kwds).matrix()\n\u001b[1;32m    644\u001b[0m if immutable:\n\u001b[1;32m    645\u001b[0m     M.set_immutable()\n",
      "File \u001b[0;32m/ext/sage/10.1/src/sage/matrix/args.pyx:356\u001b[0m, in \u001b[0;36msage.matrix.args.MatrixArgs.__init__\u001b[0;34m()\u001b[0m\n\u001b[1;32m    354\u001b[0m         if argi == argc: return\n\u001b[1;32m    355\u001b[0m \n\u001b[0;32m--> 356\u001b[0m     raise TypeError(\"too many arguments in matrix constructor\")\n\u001b[1;32m    357\u001b[0m \n\u001b[1;32m    358\u001b[0m def __repr__(self):\n",
      "\u001b[0;31mTypeError\u001b[0m: too many arguments in matrix constructor"
     ]
    }
   ],
   "source": [
   ]
  },
  {
   "cell_type": "code",
   "execution_count": 0,
   "metadata": {
    "collapsed": false
   },
   "outputs": [
   ],
   "source": [
   ]
  },
  {
   "cell_type": "code",
   "execution_count": 0,
   "metadata": {
    "collapsed": false
   },
   "outputs": [
   ],
   "source": [
   ]
  },
  {
   "cell_type": "markdown",
   "metadata": {
    "collapsed": false
   },
   "source": [
   ]
  }
 ],
 "metadata": {
  "kernelspec": {
   "argv": [
    "sage-10.1",
    "--python",
    "-m",
    "sage.repl.ipython_kernel",
    "--matplotlib=inline",
    "-f",
    "{connection_file}"
   ],
   "display_name": "SageMath 10.1",
   "env": {
   },
   "language": "sagemath",
   "metadata": {
    "cocalc": {
     "description": "Open-source mathematical software system",
     "priority": 10,
     "url": "https://www.sagemath.org/"
    }
   },
   "name": "sage-10.1",
   "resource_dir": "/ext/jupyter/kernels/sage-10.1"
  }
 },
 "nbformat": 4,
 "nbformat_minor": 4
}