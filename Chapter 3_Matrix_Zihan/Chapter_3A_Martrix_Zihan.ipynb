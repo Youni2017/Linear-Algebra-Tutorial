{
 "cells": [
  {
   "cell_type": "markdown",
   "metadata": {
    "collapsed": false
   },
   "source": [
    "© 2024 By Soham Bhosale, Sara Billey, Herman Chau, Zihan Chen, Isaac Hartin Pasco, Jennifer Huang, Snigdha Mahankali, Clare Minerath, and Anna Willis is licensed under [CC BY-ND 4.0](http://creativecommons.org/licenses/by-nd/4.0/?ref=chooser-v1)"
   ]
  },
  {
   "cell_type": "markdown",
   "metadata": {
    "collapsed": false
   },
   "source": [
    "<h2 style=\"text-align: center;\">Welcome to Chapter 3: The Paradise of <i>Matrices</i></h2>\n",
    "<p style=\"text-align: center;\" >Originally created by $Zihan Chen$ | $zchen84@uw.edu$ </p>\n",
    "<h5><strong>Preface:</strong></h5>\n",
    "<p>This <strong>Sage Worksheet</strong> is a part of a $Linear$ $Algebra$ tutorial created by Prof.$Sara$ $Billey$'s 2024 <i>WXML</i> group. Referred to $Linear$ $Algebra$ $with$ $Applications$ $by$ $Holt$, $2^{nd}$ $edition$, this Worksheet is intended to help future $UW$ $Math208$ students with some tools and software to present more visual linear algebra content. This Worksheet will revolve around $Section 3.1$ of $Holt$'s Book.</p>\n",
    "<h5><strong>Get Strart:</strong></h5>\n",
    "<p>I am delighted to share with you the basic knowledge of matrices, an important part of $linear$ $algebra$. But allow me to start with $linear$ $transformations$. You might wonder what the connection between $linear$ $transformations$ and $matrices$ is, but I believe after this section, you will have a better understanding of $linear$ $transformations$. Let's begin with $Section 3.1$: $Linear$ $Transformations$!</p>\n",
    "<h5>$3.1—$ $Linear$ $Transformations$</h5>\n",
    "<p>You might be familiar with what a transformation is, which is the operation of changing the position or appearance of a figure. But what exactly is '$linear$'? Why use '$linear$' to describe a $transformation$?</p>\n",
    "<p>In textbooks, we have a clear definition of linear transformation. </p>\n",
    "\n",
    "<div class=\"text-box\">\n",
    "<p>$Theorem1:$ A function \\( T: \\mathbb{R}^m \\rightarrow \\mathbb{R}^n \\) is a linear transformation if for all vectors \\( u \\) and \\( v \\) in \\( \\mathbb{R}^m \\) and all scalars \\( r \\), we have:</p>\n",
    "<ul>\n",
    "    <li>\\( T(u + v) = T(u) + T(v) \\)</li>\n",
    "    <li>\\( T(ru) = rT(u) \\)</li>\n",
    "</ul>\n",
    "</div>\n",
    "\n",
    "<p>Let's consider a simple example:<p>\n",
    "\n",
    "<div class=\"text-box\">\n",
    "<p>$Example1:$ Let \\( T\\left(\\begin{bmatrix} x \\\\ y \\end{bmatrix}\\right) = \\begin{bmatrix} x^2 \\\\ x + y \\end{bmatrix} \\). We will try to determine whether \\( T \\) is a linear transformation using $Theorem1$.</p>\n",
    "</div>\n"
   ]
  },
  {
   "cell_type": "code",
   "execution_count": 3,
   "metadata": {
    "collapsed": false
   },
   "outputs": [
    {
     "data": {
      "text/plain": [
       "(False, False)"
      ]
     },
     "execution_count": 3,
     "metadata": {
     },
     "output_type": "execute_result"
    }
   ],
   "source": [
    "\"\"\"\n",
    "    This function is for checking 2 conditions of the linear transformation\n",
    "    1. closed under addition\n",
    "    2. closed under scalar multiplication\n",
    "    \n",
    "    Inputs:\n",
    "    -------\n",
    "    variables named x1,x2,y1,y2, in symbolic form\n",
    "    \n",
    "    Outputs:\n",
    "    --------\n",
    "    (additive_check,homogeneity_check), that is, (satisfy condition 1? , satisfy condition 2?)\n",
    "    eg. (satisfy condition 1, not satisfy condition 2)=(True,False)\n",
    "\"\"\"\n",
    "\n",
    "# define unknown symbols（skip choosing concrete numbers here just for demonstrate more representative examples）\n",
    "var('x_1 x_2 y_1 y_2 c')\n",
    "\n",
    "# define x and y, note here SR: Symbolic Ring\n",
    "# we use unknown variables to make our line changes more representative:)\n",
    "x = vector(SR, [x_1, x_2])\n",
    "y = vector(SR, [y_1, y_2])\n",
    "\n",
    "# define transformation T \n",
    "def T(v):\n",
    "    x, y = v\n",
    "    return vector([x^2, x + y])        \n",
    "    # you can change the \"return vector\" if you want)\n",
    "\n",
    "# check first condition: T(x+y) ?=? Tx+Ty\n",
    "additive_check = T(x + y) == T(x) + T(y)\n",
    "\n",
    "# check second condition: cT(x) ?=? T(c*x)\n",
    "homogeneity_check = c * T(x) == T(c * x)\n",
    "\n",
    "# output results\n",
    "(additive_check, homogeneity_check)\n"
   ]
  },
  {
   "cell_type": "markdown",
   "metadata": {
    "collapsed": false
   },
   "source": [
    "<p>This does not seem to be a linear transformation because we checked whether \\(A(x + y) = Ax + Ay\\) and whether \\(cA(x) = A(c \\cdot x)\\). Both of these conditions are false in our example, so we can conclude that this is <strong>not</strong> a linear transformation.</p>\n",
    "<p>Similarly, I encourage you to modify this expression and think about when it would be a linear transformation. ($Hint$: What should be the highest power of the unknowns in a linear transformation?)</p>\n",
    "<p>Let's consider $Example2$ and try to determine whether it is a linear transformation by observing the equation.</p>\n",
    "<div class=\"text-box\">\n",
    "<p>$Example2:$ Let \\( T_2\\left(\\begin{bmatrix} x \\\\ y \\end{bmatrix}\\right) = \\begin{bmatrix} x+y \\\\ x + y+1 \\end{bmatrix} \\). We will try to determine whether \\( T_2 \\) is a linear transformation using $Theorem1$.</p>"
   ]
  },
  {
   "cell_type": "code",
   "execution_count": 4,
   "metadata": {
    "collapsed": false
   },
   "outputs": [
    {
     "data": {
      "text/plain": [
       "(False, False)"
      ]
     },
     "execution_count": 4,
     "metadata": {
     },
     "output_type": "execute_result"
    }
   ],
   "source": [
    "\"\"\"\n",
    "    Same function as before\n",
    " \n",
    "    Inputs:\n",
    "    -------\n",
    "    variables named x1,x2,y1,y2, in symbolic form\n",
    "    \n",
    "    Outputs:\n",
    "    --------\n",
    "    (additive_check,homogeneity_check)\n",
    "\"\"\"\n",
    "\n",
    "var('x_1 x_2 y_1 y_2 c')\n",
    "\n",
    "x = vector(SR, [x_1, x_2])\n",
    "y = vector(SR, [y_1, y_2])\n",
    "\n",
    "def T_2(v):\n",
    "    x, y = v\n",
    "    return vector([x+y, x+y+1])\n",
    "\n",
    "additive_check = T_2(x + y) == T_2(x) + T_2(y)\n",
    "\n",
    "homogeneity_check = c * T_2(x) == T_2(c * x)\n",
    "\n",
    "(additive_check, homogeneity_check)"
   ]
  },
  {
   "cell_type": "markdown",
   "metadata": {
    "collapsed": false
   },
   "source": [
    "<p>I assume you've already understood how to simply observe an expression to conclude whether it's a linear transformation. Now, I want to present another example to help you understand better.</p>\n",
    "<div class=\"text-box\">\n",
    "    <p>$Example3:$ Suppose we have a transformation \\( T_3\\left(\\begin{bmatrix} x \\\\ y \\end{bmatrix}\\right) = \\begin{bmatrix} 2x \\\\ 2y \\end{bmatrix} \\). I'd like you to determine whether this is a linear transformation, but this time, I have a request:</p>\n",
    "<ol>\n",
    "    <li>I hope you can represent this linear transformation in the form: \\( T_3\\left(\\begin{bmatrix} x \\\\ y \\end{bmatrix}\\right) = A\\begin{bmatrix} x \\\\ y \\end{bmatrix} \\).</li>\n",
    "    <li>Insert <strong>any</strong> coordinates you like for $x$ and $y$.</li>\n",
    "    <li>Determine whether this is a linear transformation based on the $Theorem1$.</li>\n",
    "</ol>\n",
    "</div>\n",
    "<p>Of course, I will also provide my answer, let's try it together! </p>\n",
    "<ol>\n",
    "    <li>Represent this linear transformation: \\( T([x, y]) = \\begin{bmatrix} 2 & 0 \\\\ 0 & 2 \\end{bmatrix}([x, y]) \\), where $A=\\begin{bmatrix} 2 & 0 \\\\ 0 & 2 \\end{bmatrix}.$ In response, we defined matrix $A$ in sage:"
   ]
  },
  {
   "cell_type": "code",
   "execution_count": 5,
   "metadata": {
    "collapsed": false
   },
   "outputs": [
    {
     "name": "stdout",
     "output_type": "stream",
     "text": [
      "A=\n"
     ]
    },
    {
     "data": {
      "text/plain": [
       "[2 0]\n",
       "[0 2]"
      ]
     },
     "execution_count": 5,
     "metadata": {
     },
     "output_type": "execute_result"
    }
   ],
   "source": [
    "#step1 define a matrix\n",
    "A = matrix([[2,0],[0,2]])\n",
    "print(\"A=\")\n",
    "A"
   ]
  },
  {
   "cell_type": "markdown",
   "metadata": {
    "collapsed": false
   },
   "source": [
    "<p>2. Insert my favorite coordinates: $u=[1,2]^T, v=[2,3]^T$.</p>\n",
    "<p>3. Check whether it is a linear transformation.</p>"
   ]
  },
  {
   "cell_type": "code",
   "execution_count": 6,
   "metadata": {
    "collapsed": false
   },
   "outputs": [
    {
     "data": {
      "text/plain": [
       "(True, True)"
      ]
     },
     "execution_count": 6,
     "metadata": {
     },
     "output_type": "execute_result"
    }
   ],
   "source": [
    "\"\"\"\"\"\n",
    "     Inputs:\n",
    "     -------\n",
    "     vectors you like, u & v\n",
    "    \n",
    "     Outputs:\n",
    "     --------\n",
    "     (additive_check,homogeneity_check)\n",
    "\"\"\"\"\"\n",
    "\n",
    "#step2 input the vector you want\n",
    "u = vector([1,2])\n",
    "v = vector([2,3])\n",
    "r = 5\n",
    "\n",
    "#step3 determine whether it is linear transformation?    \n",
    "check1 = A*u+A*v == A*(u+v)\n",
    "check2 = r*A*u == A*(r*u)\n",
    "(check1, check2)"
   ]
  },
  {
   "cell_type": "markdown",
   "metadata": {
    "collapsed": false
   },
   "source": [
    "<p>If your attempt concluded that this is a linear transformation, congratulations, you are correct. But is this a coincidence or a necessity? Let's see what the textbook says.</p>\n",
    "<div class=\"text-box\">\n",
    "<p>$Theorem2:$ Let $A$ be an $n×m$ matrix, and define \\( T(x) = Ax \\). Then \\( T: \\mathbb{R}^m \\rightarrow \\mathbb{R}^n \\) is a linear transformation. </p>\n",
    "</div>\n",
    "<p>So, we now know that any matrix can represent a linear transformation. In other words, if a transformation is linear, we can always write it in the form of a matrix. This is indeed a remarkable conclusion! I encourage you to explore more possibilities!</p>\n",
    "<p>Also, I would like to introduce a more abstract concept for you to understand, which is also an effective way to judge linear transformations. This theorem is also in the book. </p>\n",
    "<div class=\"text-box\">\n",
    "<p>$Theorem3:$ Let \\([a_1  a_2  ... a_m]\\) be an $n×m$ matrix, and let \\( T: \\mathbb{R}^m \\rightarrow \\mathbb{R}^n \\) with \\( T(x) = Ax \\) be a linear transformation. Then </p>\n",
    "<ol>\n",
    "<li> The vector \\( w \\) is in the range of \\( T \\) if and only if \\( Ax = w \\) is a consistent linear system.\n",
    "<li> $range$(\\( T \\)) = $span${\\( a_1, …, a_m \\)}. </p>\n",
    "</ol>\n",
    "</div>\n",
    "<p>The proofs are all in the textbook, but I want to give a simple example to illustrate this theorem.</p>\n",
    "<div class=\"text-box\">\n",
    "<p>$Example4$ Suppose we have a simple \\( R^1 \\rightarrow R^1 \\) transformation, \\( T(x) = x^2 \\). Is $T$ a linear transformation？</p>\n",
    "<p><i>Hint:</i> Can you determine the domain and codomain through this linear transformation? </p>\n",
    "    </div>\n",
    "<p>Let's look at a standard example of a linear transformation, but this time, we'll use a graphical representation.</p>"
   ]
  },
  {
   "cell_type": "code",
   "execution_count": 7,
   "metadata": {
    "collapsed": false
   },
   "outputs": [
    {
     "data": {
      "image/png": "[encoded data removed]",
      "text/plain": [
       "Graphics object consisting of 2 graphics primitives"
      ]
     },
     "execution_count": 7,
     "metadata": {
     },
     "output_type": "execute_result"
    }
   ],
   "source": [
    "\"\"\"\n",
    "    This function is for illustrating the rotation transformation.\n",
    "\"\"\"\n",
    "\n",
    "# Define a linear transformation, e.g., a rotation\n",
    "def linear_transform(v):          # Define the rotation matrix, e.g., rotation by 45 degrees\n",
    "    theta = pi / 2                # I suggest modifying this parameter\n",
    "    rotation_matrix = matrix([[cos(theta), -sin(theta)], [sin(theta), cos(theta)]])\n",
    "    return rotation_matrix * v\n",
    "\n",
    "# Create vertices of the initial shape, for example, a unit square\n",
    "square_vertices = [(0,0), (1,0), (1,1), (0,1)]\n",
    "\n",
    "# Apply the linear transformation to each vertex\n",
    "transformed_vertices = [linear_transform(vector(v)) for v in square_vertices]\n",
    "\n",
    "# Create the original shape and the transformed shape\n",
    "square = polygon(square_vertices, color='blue')\n",
    "transformed_square = polygon(transformed_vertices, color='red')\n",
    "\n",
    "# Display the original and the transformed shapes\n",
    "show(square + transformed_square)"
   ]
  },
  {
   "cell_type": "markdown",
   "metadata": {
    "collapsed": false
   },
   "source": [
    "<p>This is what I consider to be the quintessential example of a linear transformation. What did you observe from it? First and foremost, the two shapes appear identical. By calculating the area, we can determine that they are exactly the same. If we take the blue square as the initial state, can you describe the process of transformation from blue to red?</p>\n",
    "<p>What do you notice when you focus your attention on the basis vectors <span style=\"font-family: 'Times New Roman', serif;\">\\( \\begin{bmatrix} 1 \\\\ 0 \\end{bmatrix} \\)</span> and <span style=\"font-family: 'Times New Roman', serif;\">\\( \\begin{bmatrix} 0 \\\\ 1 \\end{bmatrix} \\)</span> represented?"
   ]
  },
  {
   "cell_type": "code",
   "execution_count": 8,
   "metadata": {
    "collapsed": false
   },
   "outputs": [
    {
     "data": {
      "image/png": "[encoded data removed]",
      "text/plain": [
       "Graphics object consisting of 4 graphics primitives"
      ]
     },
     "execution_count": 8,
     "metadata": {
     },
     "output_type": "execute_result"
    }
   ],
   "source": [
    "\"\"\"\n",
    "    This function is for illustrating the rotation transformation as well. \n",
    "\"\"\"\n",
    "    \n",
    "# Define vectors and their transformations\n",
    "vectors = {'original': [(1, 0), (0, 1)], 'transformed': [(0, 1), (-1, 0)]}\n",
    "\n",
    "# Create a plot object\n",
    "p = plot([])\n",
    "\n",
    "# Plot original and transformed vectors\n",
    "for (ox, oy), (tx, ty) in zip(vectors['original'], vectors['transformed']):\n",
    "    # Plot original vector (in blue)\n",
    "    p += arrow((0, 0), (ox, oy), color='blue', linestyle='dashed')\n",
    "    # Plot transformed vector (in red)\n",
    "    p += arrow((0, 0), (tx, ty), color='red')\n",
    "\n",
    "# Set properties of the plot\n",
    "p.show(xmin=-1.5, xmax=1.5, ymin=-1.5, ymax=1.5, aspect_ratio=1)"
   ]
  },
  {
   "cell_type": "markdown",
   "metadata": {
    "collapsed": false
   },
   "source": [
    "<p>As can be seen in the above figure, the vector <span style=\"font-family: 'Times New Roman', serif;\">\\( \\begin{bmatrix} 1 \\\\ 0 \\end{bmatrix} \\)</span> is transformed to <span style=\"font-family: 'Times New Roman', serif;\">\\( \\begin{bmatrix} 0 \\\\ 1 \\end{bmatrix} \\)</span>, and <span style=\"font-family: 'Times New Roman', serif;\">\\( \\begin{bmatrix} 0 \\\\ 1 \\end{bmatrix} \\)</span> is transformed to <span style=\"font-family: 'Times New Roman', serif;\">\\( \\begin{bmatrix} -1 \\\\ 0 \\end{bmatrix} \\)</span>! We have found the trick: by observing the transformation of the basis vectors $e_1, e_2, e_3,$ we can determine the nature of this linear transformation. I am eager to share more interesting examples of linear transformations with you.</p>"
   ]
  },
  {
   "cell_type": "code",
   "execution_count": 9,
   "metadata": {
    "collapsed": false
   },
   "outputs": [
    {
     "data": {
      "image/png": "[encoded data removed]",
      "text/plain": [
       "Graphics object consisting of 2 graphics primitives"
      ]
     },
     "execution_count": 9,
     "metadata": {
     },
     "output_type": "execute_result"
    }
   ],
   "source": [
    "\"\"\"\n",
    "    This function is for illustrating the shear transformation.\n",
    "\"\"\"\n",
    "\n",
    "# Define the shear transformation matrix\n",
    "k = 1  # Shear factor\n",
    "shear_matrix = matrix([[1, k], [0, 1]])\n",
    "\n",
    "# Define the vertices of a square\n",
    "square = matrix([[0, 0], [1, 0], [1, 1], [0, 1], [0, 0]])\n",
    "\n",
    "# Apply the shear transformation\n",
    "transformed_square = square * shear_matrix\n",
    "\n",
    "# Plot the original square and the sheared square\n",
    "original_plot = polygon(list(square), color='blue', fill=False)\n",
    "transformed_plot = polygon(list(transformed_square), color='red', fill=False, linestyle='--')\n",
    "\n",
    "# Display the plot\n",
    "show(original_plot + transformed_plot, xmin=-0.5, xmax=2.5, ymin=-0.5, ymax=2.5, aspect_ratio=1)"
   ]
  },
  {
   "cell_type": "markdown",
   "metadata": {
    "collapsed": false
   },
   "source": [
    "Observe this; it's an interesting shear transformation. Can you tell where each of the basis vectors has been transformed to？"
   ]
  },
  {
   "cell_type": "code",
   "execution_count": 10,
   "metadata": {
    "collapsed": false
   },
   "outputs": [
    {
     "data": {
      "image/png": "[encoded data removed]",
      "text/plain": [
       "Graphics object consisting of 2 graphics primitives"
      ]
     },
     "execution_count": 10,
     "metadata": {
     },
     "output_type": "execute_result"
    }
   ],
   "source": [
    "\"\"\"\n",
    "    This function is for illustrating the scaling transformation.\n",
    "\"\"\"\n",
    "    \n",
    "# Define scale factors\n",
    "s_x = 2  # Scale factor for the X-axis\n",
    "s_y = 0.5  # Scale factor for the Y-axis\n",
    "scale_matrix = matrix([[s_x, 0], [0, s_y]])\n",
    "\n",
    "# Define the vertices of a square\n",
    "square = matrix([[0, 0], [1, 0], [1, 1], [0, 1], [0, 0]])\n",
    "\n",
    "# Apply scaling transformation\n",
    "transformed_square = square * scale_matrix\n",
    "\n",
    "# Plot the original square and the scaled square\n",
    "original_plot = polygon(list(square), color='blue', fill=False)\n",
    "transformed_plot = polygon(list(transformed_square), color='red', fill=False, linestyle='--')\n",
    "\n",
    "# Display the plot\n",
    "show(original_plot + transformed_plot, xmin=-0.5, xmax=3, ymin=-0.5, ymax=1.5, aspect_ratio=1)"
   ]
  },
  {
   "cell_type": "markdown",
   "metadata": {
    "collapsed": false
   },
   "source": [
    "<p>I find the method of observing linear transformations through $base$ $vectors$ particularly useful, especially when dealing with abstract three-dimensional linear transformations. For instance, consider an abstract matrix where its column vectors are given by \\(E_1 = \\begin{bmatrix} 1 \\\\ 0 \\\\ 1 \\end{bmatrix}\\), \\(E_2 = \\begin{bmatrix} 3 \\\\ 1.5 \\\\ 2 \\end{bmatrix}\\), and \\(E_3 = \\begin{bmatrix} 0 \\\\ 2 \\\\ 3 \\end{bmatrix}\\). It might be challenging to visualize this linear transformation at first. So, how can we understand this linear transformation? I suggest we deduce the transformation process by observing the changes in the $base$ $vectors$. Let's focus on the three $base$ $vectors$, labeled in $green$, $red$, and $blue$, respectively. Based on the diagram below, can you identify the characteristics of this linear transformation?</p>"
   ]
  },
  {
   "cell_type": "code",
   "execution_count": 11,
   "metadata": {
    "collapsed": false
   },
   "outputs": [
    {
     "data": {
      "text/html": "\n<iframe srcdoc=\"&lt;!DOCTYPE html&gt;\n&lt;html&gt;\n&lt;head&gt;\n&lt;title&gt;&lt;/title&gt;\n&lt;meta charset=&quot;utf-8&quot;&gt;\n&lt;meta name=viewport content=&quot;width=device-width, user-scalable=no, minimum-scale=1.0, maximum-scale=1.0&quot;&gt;\n&lt;style&gt;\n\n    body { margin: 0px; overflow: hidden; }\n\n    #menu-container { position: absolute; bottom: 30px; right: 40px; cursor: default; }\n\n    #menu-message { position: absolute; bottom: 0px; right: 0px; white-space: nowrap;\n                    display: none; background-color: #F5F5F5; padding: 10px; }\n\n    #menu-content { position: absolute; bottom: 0px; right: 0px;\n                    display: none; background-color: #F5F5F5; border-bottom: 1px solid black;\n                    border-right: 1px solid black; border-left: 1px solid black; }\n\n    #menu-content div { border-top: 1px solid black; padding: 10px; white-space: nowrap; }\n\n    #menu-content div:hover { background-color: #FEFEFE; }\n\n    .dark-theme #menu-container { color: white; }\n\n    .dark-theme #menu-message { background-color: #181818; }\n\n    .dark-theme #menu-content { background-color: #181818; border-color: white; }\n\n    .dark-theme #menu-content div { border-color: white; }\n\n    .dark-theme #menu-content div:hover { background-color: #303030; }\n\n&lt;/style&gt;\n\n&lt;/head&gt;\n\n&lt;body&gt;\n\n&lt;script src=&quot;/nbextensions/threejs-sage/r122/three.min.js&quot;&gt;&lt;/script&gt;\n&lt;script&gt;\n  if ( !window.THREE ) document.write(&#x27; \\\n&lt;script src=&quot;https://cdn.jsdelivr.net/gh/sagemath/threejs-sage@r122/build/three.min.js&quot;&gt;&lt;\\/script&gt; \\\n            &#x27;);\n&lt;/script&gt;\n        &lt;script&gt;// fat_lines.js\n\nvar _fatLines = [];\n\nfunction _createFatLine( lineStrip, geometry, materialOptions ) {\n\n    var vertexCount = geometry.vertices.length;\n    var positions = [];\n    for ( var i=0 ; i &lt; vertexCount ; i++ ) {\n        var v = geometry.vertices[i];\n        positions.push( v.x, v.y, v.z );\n        // For a line strip, duplicate all but the first and last vertices.\n        if ( lineStrip &amp;&amp; i &gt; 0 &amp;&amp; i &lt; vertexCount - 1 ) {\n            positions.push( v.x, v.y, v.z );\n        }\n    }\n\n    geometry = new THREE.LineSegmentsGeometry();\n    geometry.setPositions( positions );\n\n    var material = new THREE.LineMaterial( materialOptions );\n    material.resolution = new THREE.Vector2( window.innerWidth, window.innerHeight );\n\n    var line = new THREE.LineSegments2( geometry, material );\n    line.computeLineDistances();\n    line.scale.set( 1, 1, 1 );\n\n    _fatLines.push( line );\n\n    return line;\n\n}\n\nfunction createFatLineStrip( geometry, materialOptions ) {\n    return _createFatLine( true, geometry, materialOptions );\n}\n\nfunction createFatLineSegments( geometry, materialOptions ) {\n    return _createFatLine( false, geometry, materialOptions );\n}\n\nfunction rescaleFatLines() {\n    var res = new THREE.Vector2( window.innerWidth, window.innerHeight );\n    var n = _fatLines.length;\n    for ( var i=0 ; i &lt; n ; i++ ) {\n        _fatLines[i].material.resolution = res;\n    }\n}\n&lt;/script&gt;\n&lt;script&gt;\n\n    var options = {&quot;animate&quot;: false, &quot;animationControls&quot;: true, &quot;aspectRatio&quot;: [1.0, 1.0, 1.0], &quot;autoScaling&quot;: [false, false, false], &quot;autoPlay&quot;: true, &quot;axes&quot;: false, &quot;axesLabels&quot;: false, &quot;axesLabelsStyle&quot;: null, &quot;decimals&quot;: 2, &quot;delay&quot;: 20, &quot;frame&quot;: false, &quot;loop&quot;: true, &quot;projection&quot;: &quot;perspective&quot;, &quot;theme&quot;: &quot;light&quot;, &quot;viewpoint&quot;: false};\n    var animate = options.animate;\n\n    if ( options.theme === &#x27;dark&#x27; )\n        document.body.className = &#x27;dark-theme&#x27;;\n\n    var scene = new THREE.Scene();\n\n    var renderer = new THREE.WebGLRenderer( { antialias: true, preserveDrawingBuffer: true } );\n    renderer.setPixelRatio( window.devicePixelRatio );\n    renderer.setSize( window.innerWidth, window.innerHeight );\n    renderer.setClearColor( options.theme === &#x27;dark&#x27; ? 0 : 0xffffff, 1 );\n    document.body.appendChild( renderer.domElement );\n\n    var b = [{&quot;x&quot;:0.0, &quot;y&quot;:0.0, &quot;z&quot;:0.0}, {&quot;x&quot;:5.0, &quot;y&quot;:5.0, &quot;z&quot;:5.0}]; // bounds\n\n    if ( b[0].x === b[1].x ) {\n        b[0].x -= 1;\n        b[1].x += 1;\n    }\n    if ( b[0].y === b[1].y ) {\n        b[0].y -= 1;\n        b[1].y += 1;\n    }\n    if ( b[0].z === b[1].z ) {\n        b[0].z -= 1;\n        b[1].z += 1;\n    }\n\n    var rxRange = Math.sqrt( Math.pow( b[1].z - b[0].z, 2 )\n                            + Math.pow( b[1].y - b[0].y, 2 ) );\n    var ryRange = Math.sqrt( Math.pow( b[1].x - b[0].x, 2 )\n                            + Math.pow( b[1].z - b[0].z, 2 ) );\n    var rzRange = Math.sqrt( Math.pow( b[1].x - b[0].x, 2 )\n                            + Math.pow( b[1].y - b[0].y, 2 ) );\n    var xRange = b[1].x - b[0].x;\n    var yRange = b[1].y - b[0].y;\n    var zRange = b[1].z - b[0].z;\n\n    var ar = options.aspectRatio;\n    var a = [ ar[0], ar[1], ar[2] ]; // aspect multipliers\n\n    var autoScaling = options.autoScaling;\n    var autoAspect = 2.5;\n    if ( xRange &gt; autoAspect * rxRange &amp;&amp; autoScaling[0] ) a[0] = autoAspect * rxRange / xRange;\n    if ( yRange &gt; autoAspect * ryRange &amp;&amp; autoScaling[1] ) a[1] = autoAspect * ryRange / yRange;\n    if ( zRange &gt; autoAspect * rzRange &amp;&amp; autoScaling[2] ) a[2] = autoAspect * rzRange / zRange;\n\n    // Distance from (xMid,yMid,zMid) to any corner of the bounding box, after applying aspectRatio\n    var midToCorner = Math.sqrt( a[0]*a[0]*xRange*xRange + a[1]*a[1]*yRange*yRange + a[2]*a[2]*zRange*zRange ) / 2;\n\n    var xMid = ( b[0].x + b[1].x ) / 2;\n    var yMid = ( b[0].y + b[1].y ) / 2;\n    var zMid = ( b[0].z + b[1].z ) / 2;\n\n    var box = new THREE.Geometry();\n    box.vertices.push( new THREE.Vector3( a[0]*b[0].x, a[1]*b[0].y, a[2]*b[0].z ) );\n    box.vertices.push( new THREE.Vector3( a[0]*b[1].x, a[1]*b[1].y, a[2]*b[1].z ) );\n    var boxMesh = new THREE.Line( box );\n    var boxColor = options.theme === &#x27;dark&#x27; ? &#x27;white&#x27; : &#x27;black&#x27;;\n    if ( options.frame ) scene.add( new THREE.BoxHelper( boxMesh, boxColor ) );\n\n    if ( options.axesLabels ) {\n\n        var d = options.decimals; // decimals\n        var offsetRatio = 0.1;\n        var al = options.axesLabels;\n        var als = options.axesLabelsStyle || [{}, {}, {}];\n\n        var offset = offsetRatio * a[1]*( b[1].y - b[0].y );\n        var xm = xMid.toFixed(d);\n        if ( /^-0.?0*$/.test(xm) ) xm = xm.substr(1);\n        addLabel( al[0] + &#x27;=&#x27; + xm, a[0]*xMid, a[1]*b[1].y+offset, a[2]*b[0].z, als[0] );\n        addLabel( ( b[0].x ).toFixed(d), a[0]*b[0].x, a[1]*b[1].y+offset, a[2]*b[0].z, als[0] );\n        addLabel( ( b[1].x ).toFixed(d), a[0]*b[1].x, a[1]*b[1].y+offset, a[2]*b[0].z, als[0] );\n\n        var offset = offsetRatio * a[0]*( b[1].x - b[0].x );\n        var ym = yMid.toFixed(d);\n        if ( /^-0.?0*$/.test(ym) ) ym = ym.substr(1);\n        addLabel( al[1] + &#x27;=&#x27; + ym, a[0]*b[1].x+offset, a[1]*yMid, a[2]*b[0].z, als[1] );\n        addLabel( ( b[0].y ).toFixed(d), a[0]*b[1].x+offset, a[1]*b[0].y, a[2]*b[0].z, als[1] );\n        addLabel( ( b[1].y ).toFixed(d), a[0]*b[1].x+offset, a[1]*b[1].y, a[2]*b[0].z, als[1] );\n\n        var offset = offsetRatio * a[1]*( b[1].y - b[0].y );\n        var zm = zMid.toFixed(d);\n        if ( /^-0.?0*$/.test(zm) ) zm = zm.substr(1);\n        addLabel( al[2] + &#x27;=&#x27; + zm, a[0]*b[1].x, a[1]*b[0].y-offset, a[2]*zMid, als[2] );\n        addLabel( ( b[0].z ).toFixed(d), a[0]*b[1].x, a[1]*b[0].y-offset, a[2]*b[0].z, als[2] );\n        addLabel( ( b[1].z ).toFixed(d), a[0]*b[1].x, a[1]*b[0].y-offset, a[2]*b[1].z, als[2] );\n\n    }\n\n    function addLabel( text, x, y, z, style ) {\n\n        var color = style.color || &#x27;black&#x27;;\n        var fontSize = style.fontSize || 14;\n        var fontFamily = style.fontFamily || &#x27;monospace&#x27;;\n        var fontStyle = style.fontStyle || &#x27;normal&#x27;;\n        var fontWeight = style.fontWeight || &#x27;normal&#x27;;\n        var opacity = style.opacity || 1;\n\n        if ( options.theme === &#x27;dark&#x27; )\n            if ( color === &#x27;black&#x27; || color === &#x27;#000000&#x27; )\n                color = &#x27;white&#x27;;\n\n        if ( Array.isArray( fontStyle ) ) {\n            fontFamily = fontFamily.map( function( f ) {\n                // Need to put quotes around fonts that have whitespace in their names.\n                return /\\s/.test( f ) ? &#x27;&quot;&#x27; + f + &#x27;&quot;&#x27; : f;\n            }).join(&#x27;, &#x27;);\n        }\n\n        var canvas = document.createElement( &#x27;canvas&#x27; );\n        var context = canvas.getContext( &#x27;2d&#x27; );\n        var pixelRatio = Math.round( window.devicePixelRatio );\n\n        // For example: italic bold 20px &quot;Times New Roman&quot;, Georgia, serif\n        var font = [fontStyle, fontWeight, fontSize + &#x27;px&#x27;, fontFamily].join(&#x27; &#x27;);\n\n        context.font = font;\n        var width = context.measureText( text ).width;\n        var height = fontSize;\n\n        // The dimensions of the canvas&#x27;s underlying image data need to be powers\n        // of two in order for the resulting texture to support mipmapping.\n        canvas.width = THREE.MathUtils.ceilPowerOfTwo( width * pixelRatio );\n        canvas.height = THREE.MathUtils.ceilPowerOfTwo( height * pixelRatio );\n\n        // Re-compute the unscaled dimensions after the power of two conversion.\n        width = canvas.width / pixelRatio;\n        height = canvas.height / pixelRatio;\n\n        canvas.style.width = width + &#x27;px&#x27;;\n        canvas.style.height = height + &#x27;px&#x27;;\n\n        context.scale( pixelRatio, pixelRatio );\n        context.fillStyle = color;\n        context.font = font; // Must be set again after measureText.\n        context.textAlign = &#x27;center&#x27;;\n        context.textBaseline = &#x27;middle&#x27;;\n        context.fillText( text, width/2, height/2 );\n\n        var texture = new THREE.Texture( canvas );\n        texture.needsUpdate = true;\n\n        var materialOptions = { map: texture, sizeAttenuation: false, depthWrite: false };\n        if ( opacity &lt; 1 ) {\n            // Setting opacity=1 would cause the texture&#x27;s alpha component to be\n            // discarded, giving the text a black background instead of the\n            // background being transparent.\n            materialOptions.opacity = opacity;\n        }\n        var sprite = new THREE.Sprite( new THREE.SpriteMaterial( materialOptions ) );\n        sprite.position.set( x, y, z );\n\n        // Scaling factor, chosen somewhat arbitrarily so that the size of the text\n        // is consistent with previously generated plots.\n        var scale = 1/625;\n        if ( options.projection === &#x27;orthographic&#x27; ) {\n            scale = midToCorner/256; // Needs to scale along with the plot itself.\n        }\n        sprite.scale.set( scale * width, scale * height, 1 );\n\n        scene.add( sprite );\n\n        return sprite;\n\n    }\n\n    if ( options.axes ) scene.add( new THREE.AxesHelper( Math.min( a[0]*b[1].x, a[1]*b[1].y, a[2]*b[1].z ) ) );\n\n    var camera = createCamera();\n    camera.up.set( 0, 0, 1 );\n    camera.position.set( a[0]*xMid, a[1]*yMid, a[2]*zMid );\n\n    // camera is positioned so that the line from the camera to the center\n    // of the bounding sphere of the objects makes an angle of 60 degrees with x-axis\n    // and an angle of 30 degrees with z-axis and the field of view of the camera looking\n    // at the center has an angle of 45 degrees.\n    const sin8 = Math.sin(Math.PI / 8);\n    const sin5 = Math.sin(Math.PI / 5);\n    const cos5 = Math.cos(Math.PI / 5);\n    const sin3 = Math.sin(Math.PI / 3);\n    const cos3 = Math.cos(Math.PI / 3);\n    var r = midToCorner / sin8;\n    var offset = new THREE.Vector3( r * sin3 * cos5, r * sin3 * sin5, r * cos3 );\n\n    if ( options.viewpoint ) {\n\n        var aa = options.viewpoint;\n        var axis = new THREE.Vector3( aa[0][0], aa[0][1], aa[0][2] ).normalize();\n        var angle = aa[1] * Math.PI / 180;\n        var q = new THREE.Quaternion().setFromAxisAngle( axis, angle ).inverse();\n\n        offset.set( 0, 0, offset.length() );\n        offset.applyQuaternion( q );\n\n    }\n\n    camera.position.add( offset );\n\n    function createCamera() {\n\n        var aspect = window.innerWidth / window.innerHeight;\n\n        // Scale the near and far clipping planes along with the overall plot size.\n        var nearClip = 0.01 * midToCorner;\n        var farClip = 100 * midToCorner;\n\n        if ( options.projection === &#x27;orthographic&#x27; ) {\n            var camera = new THREE.OrthographicCamera( -1, 1, 1, -1, -farClip, farClip );\n            updateCameraAspect( camera, aspect );\n            return camera;\n        }\n\n        return new THREE.PerspectiveCamera( 45, aspect, nearClip, farClip );\n\n    }\n\n    function updateCameraAspect( camera, aspect ) {\n\n        if ( camera.isPerspectiveCamera ) {\n            camera.aspect = aspect;\n        } else if ( camera.isOrthographicCamera ) {\n            // Fit the camera frustum to the bounding box&#x27;s diagonal so that the entire plot fits\n            // within at the default zoom level and camera position.\n            if ( aspect &gt; 1 ) { // Wide window\n                camera.top = midToCorner;\n                camera.right = midToCorner * aspect;\n            } else { // Tall or square window\n                camera.top = midToCorner / aspect;\n                camera.right = midToCorner;\n            }\n            camera.bottom = -camera.top;\n            camera.left = -camera.right;\n        }\n\n        camera.updateProjectionMatrix();\n\n    }\n\n    var lights = [{&quot;x&quot;:-5, &quot;y&quot;:3, &quot;z&quot;:0, &quot;color&quot;:&quot;#7f7f7f&quot;, &quot;parent&quot;:&quot;camera&quot;}];\n    for ( var i=0 ; i &lt; lights.length ; i++ ) {\n        var light = new THREE.DirectionalLight( lights[i].color, 1 );\n        light.position.set( a[0]*lights[i].x, a[1]*lights[i].y, a[2]*lights[i].z );\n        if ( lights[i].parent === &#x27;camera&#x27; ) {\n            light.target.position.set( a[0]*xMid, a[1]*yMid, a[2]*zMid );\n            scene.add( light.target );\n            camera.add( light );\n        } else scene.add( light );\n    }\n    scene.add( camera );\n\n    var ambient = {&quot;color&quot;:&quot;#7f7f7f&quot;};\n    scene.add( new THREE.AmbientLight( ambient.color, 1 ) );\n\n    var controls = new THREE.OrbitControls( camera, renderer.domElement );\n    controls.target.set( a[0]*xMid, a[1]*yMid, a[2]*zMid );\n    controls.addEventListener( &#x27;change&#x27;, function() { if ( !animate ) render(); } );\n\n    window.addEventListener( &#x27;resize&#x27;, function() {\n\n        renderer.setSize( window.innerWidth, window.innerHeight );\n        updateCameraAspect( camera, window.innerWidth / window.innerHeight );\n        if ( window.rescaleFatLines ) rescaleFatLines();\n        if ( !animate ) render();\n\n    } );\n\n    var texts = [];\n    for ( var i=0 ; i &lt; texts.length ; i++ ) addText( texts[i] );\n\n    function addText( json ) {\n        var sprite = addLabel( json.text, a[0]*json.x, a[1]*json.y, a[2]*json.z, json );\n        sprite.userData = json;\n    }\n\n    var points = [{&quot;point&quot;: [1.0, 0.0, 0.0], &quot;size&quot;: 1.0, &quot;color&quot;: &quot;#808080&quot;, &quot;opacity&quot;: 1.0}, {&quot;point&quot;: [0.0, 1.0, 0.0], &quot;size&quot;: 1.0, &quot;color&quot;: &quot;#808080&quot;, &quot;opacity&quot;: 1.0}, {&quot;point&quot;: [0.0, 0.0, 1.0], &quot;size&quot;: 1.0, &quot;color&quot;: &quot;#808080&quot;, &quot;opacity&quot;: 1.0}, {&quot;point&quot;: [1.0, 0.0, 1.0], &quot;size&quot;: 1.0, &quot;color&quot;: &quot;#808080&quot;, &quot;opacity&quot;: 1.0}, {&quot;point&quot;: [3.0, 1.5, 2.0], &quot;size&quot;: 1.0, &quot;color&quot;: &quot;#808080&quot;, &quot;opacity&quot;: 1.0}, {&quot;point&quot;: [0.0, 2.0, 3.0], &quot;size&quot;: 1.0, &quot;color&quot;: &quot;#808080&quot;, &quot;opacity&quot;: 1.0}];\n    for ( var i=0 ; i &lt; points.length ; i++ ) addPoint( points[i] );\n\n    function addPoint( json ) {\n\n        var geometry = new THREE.Geometry();\n        var v = json.point;\n        geometry.vertices.push( new THREE.Vector3( a[0]*v[0], a[1]*v[1], a[2]*v[2] ) );\n\n        var canvas = document.createElement( &#x27;canvas&#x27; );\n        canvas.width = 128;\n        canvas.height = 128;\n\n        var context = canvas.getContext( &#x27;2d&#x27; );\n        context.arc( 64, 64, 64, 0, 2 * Math.PI );\n        context.fillStyle = json.color;\n        context.fill();\n\n        var texture = new THREE.Texture( canvas );\n        texture.needsUpdate = true;\n\n        var transparent = json.opacity &lt; 1 ? true : false;\n        var size = camera.isOrthographicCamera ? json.size : json.size/100;\n        var material = new THREE.PointsMaterial( { size: size, map: texture,\n                                                   transparent: transparent, opacity: json.opacity,\n                                                   alphaTest: .1 } );\n\n        var c = new THREE.Vector3();\n        geometry.computeBoundingBox();\n        geometry.boundingBox.getCenter( c );\n        geometry.translate( -c.x, -c.y, -c.z );\n\n        var mesh = new THREE.Points( geometry, material );\n        mesh.position.set( c.x, c.y, c.z );\n        mesh.userData = json;\n        scene.add( mesh );\n\n    }\n\n    var lines = [{&quot;points&quot;: [[0.0, 0.0, 0.0], [1.0, 0.0, 0.0]], &quot;color&quot;: &quot;#006400&quot;, &quot;opacity&quot;: 1.0, &quot;linewidth&quot;: 2.0}, {&quot;points&quot;: [[0.0, 0.0, 0.0], [0.0, 1.0, 0.0]], &quot;color&quot;: &quot;#8b0000&quot;, &quot;opacity&quot;: 1.0, &quot;linewidth&quot;: 2.0}, {&quot;points&quot;: [[0.0, 0.0, 0.0], [0.0, 0.0, 1.0]], &quot;color&quot;: &quot;#00008b&quot;, &quot;opacity&quot;: 1.0, &quot;linewidth&quot;: 2.0}, {&quot;points&quot;: [[0.0, 0.0, 0.0], [1.0, 0.0, 1.0]], &quot;color&quot;: &quot;#008000&quot;, &quot;opacity&quot;: 1.0, &quot;linewidth&quot;: 4.0}, {&quot;points&quot;: [[0.0, 0.0, 0.0], [3.0, 1.5, 2.0]], &quot;color&quot;: &quot;#ff0000&quot;, &quot;opacity&quot;: 1.0, &quot;linewidth&quot;: 4.0}, {&quot;points&quot;: [[0.0, 0.0, 0.0], [0.0, 2.0, 3.0]], &quot;color&quot;: &quot;#0000ff&quot;, &quot;opacity&quot;: 1.0, &quot;linewidth&quot;: 4.0}, {&quot;points&quot;: [[0.0, 0.0, 0.0], [0.0, 0.0, 5.0]], &quot;color&quot;: &quot;#d3d3d3&quot;, &quot;opacity&quot;: 1.0, &quot;linewidth&quot;: 1.0}, {&quot;points&quot;: [[0.0, 0.0, 0.0], [0.0, 5.0, 0.0]], &quot;color&quot;: &quot;#d3d3d3&quot;, &quot;opacity&quot;: 1.0, &quot;linewidth&quot;: 1.0}, {&quot;points&quot;: [[0.0, 0.0, 0.0], [5.0, 0.0, 0.0]], &quot;color&quot;: &quot;#d3d3d3&quot;, &quot;opacity&quot;: 1.0, &quot;linewidth&quot;: 1.0}, {&quot;points&quot;: [[0.0, 1.0, 0.0], [0.0, 1.0, 5.0]], &quot;color&quot;: &quot;#d3d3d3&quot;, &quot;opacity&quot;: 1.0, &quot;linewidth&quot;: 1.0}, {&quot;points&quot;: [[0.0, 0.0, 1.0], [0.0, 5.0, 1.0]], &quot;color&quot;: &quot;#d3d3d3&quot;, &quot;opacity&quot;: 1.0, &quot;linewidth&quot;: 1.0}, {&quot;points&quot;: [[0.0, 0.0, 1.0], [5.0, 0.0, 1.0]], &quot;color&quot;: &quot;#d3d3d3&quot;, &quot;opacity&quot;: 1.0, &quot;linewidth&quot;: 1.0}, {&quot;points&quot;: [[0.0, 2.0, 0.0], [0.0, 2.0, 5.0]], &quot;color&quot;: &quot;#d3d3d3&quot;, &quot;opacity&quot;: 1.0, &quot;linewidth&quot;: 1.0}, {&quot;points&quot;: [[0.0, 0.0, 2.0], [0.0, 5.0, 2.0]], &quot;color&quot;: &quot;#d3d3d3&quot;, &quot;opacity&quot;: 1.0, &quot;linewidth&quot;: 1.0}, {&quot;points&quot;: [[0.0, 0.0, 2.0], [5.0, 0.0, 2.0]], &quot;color&quot;: &quot;#d3d3d3&quot;, &quot;opacity&quot;: 1.0, &quot;linewidth&quot;: 1.0}, {&quot;points&quot;: [[0.0, 3.0, 0.0], [0.0, 3.0, 5.0]], &quot;color&quot;: &quot;#d3d3d3&quot;, &quot;opacity&quot;: 1.0, &quot;linewidth&quot;: 1.0}, {&quot;points&quot;: [[0.0, 0.0, 3.0], [0.0, 5.0, 3.0]], &quot;color&quot;: &quot;#d3d3d3&quot;, &quot;opacity&quot;: 1.0, &quot;linewidth&quot;: 1.0}, {&quot;points&quot;: [[0.0, 0.0, 3.0], [5.0, 0.0, 3.0]], &quot;color&quot;: &quot;#d3d3d3&quot;, &quot;opacity&quot;: 1.0, &quot;linewidth&quot;: 1.0}, {&quot;points&quot;: [[0.0, 4.0, 0.0], [0.0, 4.0, 5.0]], &quot;color&quot;: &quot;#d3d3d3&quot;, &quot;opacity&quot;: 1.0, &quot;linewidth&quot;: 1.0}, {&quot;points&quot;: [[0.0, 0.0, 4.0], [0.0, 5.0, 4.0]], &quot;color&quot;: &quot;#d3d3d3&quot;, &quot;opacity&quot;: 1.0, &quot;linewidth&quot;: 1.0}, {&quot;points&quot;: [[0.0, 0.0, 4.0], [5.0, 0.0, 4.0]], &quot;color&quot;: &quot;#d3d3d3&quot;, &quot;opacity&quot;: 1.0, &quot;linewidth&quot;: 1.0}, {&quot;points&quot;: [[0.0, 5.0, 0.0], [0.0, 5.0, 5.0]], &quot;color&quot;: &quot;#d3d3d3&quot;, &quot;opacity&quot;: 1.0, &quot;linewidth&quot;: 1.0}, {&quot;points&quot;: [[0.0, 0.0, 5.0], [0.0, 5.0, 5.0]], &quot;color&quot;: &quot;#d3d3d3&quot;, &quot;opacity&quot;: 1.0, &quot;linewidth&quot;: 1.0}, {&quot;points&quot;: [[0.0, 0.0, 5.0], [5.0, 0.0, 5.0]], &quot;color&quot;: &quot;#d3d3d3&quot;, &quot;opacity&quot;: 1.0, &quot;linewidth&quot;: 1.0}, {&quot;points&quot;: [[1.0, 0.0, 0.0], [1.0, 0.0, 5.0]], &quot;color&quot;: &quot;#d3d3d3&quot;, &quot;opacity&quot;: 1.0, &quot;linewidth&quot;: 1.0}, {&quot;points&quot;: [[1.0, 0.0, 0.0], [1.0, 5.0, 0.0]], &quot;color&quot;: &quot;#d3d3d3&quot;, &quot;opacity&quot;: 1.0, &quot;linewidth&quot;: 1.0}, {&quot;points&quot;: [[0.0, 1.0, 0.0], [5.0, 1.0, 0.0]], &quot;color&quot;: &quot;#d3d3d3&quot;, &quot;opacity&quot;: 1.0, &quot;linewidth&quot;: 1.0}, {&quot;points&quot;: [[1.0, 1.0, 0.0], [1.0, 1.0, 5.0]], &quot;color&quot;: &quot;#d3d3d3&quot;, &quot;opacity&quot;: 1.0, &quot;linewidth&quot;: 1.0}, {&quot;points&quot;: [[1.0, 0.0, 1.0], [1.0, 5.0, 1.0]], &quot;color&quot;: &quot;#d3d3d3&quot;, &quot;opacity&quot;: 1.0, &quot;linewidth&quot;: 1.0}, {&quot;points&quot;: [[0.0, 1.0, 1.0], [5.0, 1.0, 1.0]], &quot;color&quot;: &quot;#d3d3d3&quot;, &quot;opacity&quot;: 1.0, &quot;linewidth&quot;: 1.0}, {&quot;points&quot;: [[1.0, 2.0, 0.0], [1.0, 2.0, 5.0]], &quot;color&quot;: &quot;#d3d3d3&quot;, &quot;opacity&quot;: 1.0, &quot;linewidth&quot;: 1.0}, {&quot;points&quot;: [[1.0, 0.0, 2.0], [1.0, 5.0, 2.0]], &quot;color&quot;: &quot;#d3d3d3&quot;, &quot;opacity&quot;: 1.0, &quot;linewidth&quot;: 1.0}, {&quot;points&quot;: [[0.0, 1.0, 2.0], [5.0, 1.0, 2.0]], &quot;color&quot;: &quot;#d3d3d3&quot;, &quot;opacity&quot;: 1.0, &quot;linewidth&quot;: 1.0}, {&quot;points&quot;: [[1.0, 3.0, 0.0], [1.0, 3.0, 5.0]], &quot;color&quot;: &quot;#d3d3d3&quot;, &quot;opacity&quot;: 1.0, &quot;linewidth&quot;: 1.0}, {&quot;points&quot;: [[1.0, 0.0, 3.0], [1.0, 5.0, 3.0]], &quot;color&quot;: &quot;#d3d3d3&quot;, &quot;opacity&quot;: 1.0, &quot;linewidth&quot;: 1.0}, {&quot;points&quot;: [[0.0, 1.0, 3.0], [5.0, 1.0, 3.0]], &quot;color&quot;: &quot;#d3d3d3&quot;, &quot;opacity&quot;: 1.0, &quot;linewidth&quot;: 1.0}, {&quot;points&quot;: [[1.0, 4.0, 0.0], [1.0, 4.0, 5.0]], &quot;color&quot;: &quot;#d3d3d3&quot;, &quot;opacity&quot;: 1.0, &quot;linewidth&quot;: 1.0}, {&quot;points&quot;: [[1.0, 0.0, 4.0], [1.0, 5.0, 4.0]], &quot;color&quot;: &quot;#d3d3d3&quot;, &quot;opacity&quot;: 1.0, &quot;linewidth&quot;: 1.0}, {&quot;points&quot;: [[0.0, 1.0, 4.0], [5.0, 1.0, 4.0]], &quot;color&quot;: &quot;#d3d3d3&quot;, &quot;opacity&quot;: 1.0, &quot;linewidth&quot;: 1.0}, {&quot;points&quot;: [[1.0, 5.0, 0.0], [1.0, 5.0, 5.0]], &quot;color&quot;: &quot;#d3d3d3&quot;, &quot;opacity&quot;: 1.0, &quot;linewidth&quot;: 1.0}, {&quot;points&quot;: [[1.0, 0.0, 5.0], [1.0, 5.0, 5.0]], &quot;color&quot;: &quot;#d3d3d3&quot;, &quot;opacity&quot;: 1.0, &quot;linewidth&quot;: 1.0}, {&quot;points&quot;: [[0.0, 1.0, 5.0], [5.0, 1.0, 5.0]], &quot;color&quot;: &quot;#d3d3d3&quot;, &quot;opacity&quot;: 1.0, &quot;linewidth&quot;: 1.0}, {&quot;points&quot;: [[2.0, 0.0, 0.0], [2.0, 0.0, 5.0]], &quot;color&quot;: &quot;#d3d3d3&quot;, &quot;opacity&quot;: 1.0, &quot;linewidth&quot;: 1.0}, {&quot;points&quot;: [[2.0, 0.0, 0.0], [2.0, 5.0, 0.0]], &quot;color&quot;: &quot;#d3d3d3&quot;, &quot;opacity&quot;: 1.0, &quot;linewidth&quot;: 1.0}, {&quot;points&quot;: [[0.0, 2.0, 0.0], [5.0, 2.0, 0.0]], &quot;color&quot;: &quot;#d3d3d3&quot;, &quot;opacity&quot;: 1.0, &quot;linewidth&quot;: 1.0}, {&quot;points&quot;: [[2.0, 1.0, 0.0], [2.0, 1.0, 5.0]], &quot;color&quot;: &quot;#d3d3d3&quot;, &quot;opacity&quot;: 1.0, &quot;linewidth&quot;: 1.0}, {&quot;points&quot;: [[2.0, 0.0, 1.0], [2.0, 5.0, 1.0]], &quot;color&quot;: &quot;#d3d3d3&quot;, &quot;opacity&quot;: 1.0, &quot;linewidth&quot;: 1.0}, {&quot;points&quot;: [[0.0, 2.0, 1.0], [5.0, 2.0, 1.0]], &quot;color&quot;: &quot;#d3d3d3&quot;, &quot;opacity&quot;: 1.0, &quot;linewidth&quot;: 1.0}, {&quot;points&quot;: [[2.0, 2.0, 0.0], [2.0, 2.0, 5.0]], &quot;color&quot;: &quot;#d3d3d3&quot;, &quot;opacity&quot;: 1.0, &quot;linewidth&quot;: 1.0}, {&quot;points&quot;: [[2.0, 0.0, 2.0], [2.0, 5.0, 2.0]], &quot;color&quot;: &quot;#d3d3d3&quot;, &quot;opacity&quot;: 1.0, &quot;linewidth&quot;: 1.0}, {&quot;points&quot;: [[0.0, 2.0, 2.0], [5.0, 2.0, 2.0]], &quot;color&quot;: &quot;#d3d3d3&quot;, &quot;opacity&quot;: 1.0, &quot;linewidth&quot;: 1.0}, {&quot;points&quot;: [[2.0, 3.0, 0.0], [2.0, 3.0, 5.0]], &quot;color&quot;: &quot;#d3d3d3&quot;, &quot;opacity&quot;: 1.0, &quot;linewidth&quot;: 1.0}, {&quot;points&quot;: [[2.0, 0.0, 3.0], [2.0, 5.0, 3.0]], &quot;color&quot;: &quot;#d3d3d3&quot;, &quot;opacity&quot;: 1.0, &quot;linewidth&quot;: 1.0}, {&quot;points&quot;: [[0.0, 2.0, 3.0], [5.0, 2.0, 3.0]], &quot;color&quot;: &quot;#d3d3d3&quot;, &quot;opacity&quot;: 1.0, &quot;linewidth&quot;: 1.0}, {&quot;points&quot;: [[2.0, 4.0, 0.0], [2.0, 4.0, 5.0]], &quot;color&quot;: &quot;#d3d3d3&quot;, &quot;opacity&quot;: 1.0, &quot;linewidth&quot;: 1.0}, {&quot;points&quot;: [[2.0, 0.0, 4.0], [2.0, 5.0, 4.0]], &quot;color&quot;: &quot;#d3d3d3&quot;, &quot;opacity&quot;: 1.0, &quot;linewidth&quot;: 1.0}, {&quot;points&quot;: [[0.0, 2.0, 4.0], [5.0, 2.0, 4.0]], &quot;color&quot;: &quot;#d3d3d3&quot;, &quot;opacity&quot;: 1.0, &quot;linewidth&quot;: 1.0}, {&quot;points&quot;: [[2.0, 5.0, 0.0], [2.0, 5.0, 5.0]], &quot;color&quot;: &quot;#d3d3d3&quot;, &quot;opacity&quot;: 1.0, &quot;linewidth&quot;: 1.0}, {&quot;points&quot;: [[2.0, 0.0, 5.0], [2.0, 5.0, 5.0]], &quot;color&quot;: &quot;#d3d3d3&quot;, &quot;opacity&quot;: 1.0, &quot;linewidth&quot;: 1.0}, {&quot;points&quot;: [[0.0, 2.0, 5.0], [5.0, 2.0, 5.0]], &quot;color&quot;: &quot;#d3d3d3&quot;, &quot;opacity&quot;: 1.0, &quot;linewidth&quot;: 1.0}, {&quot;points&quot;: [[3.0, 0.0, 0.0], [3.0, 0.0, 5.0]], &quot;color&quot;: &quot;#d3d3d3&quot;, &quot;opacity&quot;: 1.0, &quot;linewidth&quot;: 1.0}, {&quot;points&quot;: [[3.0, 0.0, 0.0], [3.0, 5.0, 0.0]], &quot;color&quot;: &quot;#d3d3d3&quot;, &quot;opacity&quot;: 1.0, &quot;linewidth&quot;: 1.0}, {&quot;points&quot;: [[0.0, 3.0, 0.0], [5.0, 3.0, 0.0]], &quot;color&quot;: &quot;#d3d3d3&quot;, &quot;opacity&quot;: 1.0, &quot;linewidth&quot;: 1.0}, {&quot;points&quot;: [[3.0, 1.0, 0.0], [3.0, 1.0, 5.0]], &quot;color&quot;: &quot;#d3d3d3&quot;, &quot;opacity&quot;: 1.0, &quot;linewidth&quot;: 1.0}, {&quot;points&quot;: [[3.0, 0.0, 1.0], [3.0, 5.0, 1.0]], &quot;color&quot;: &quot;#d3d3d3&quot;, &quot;opacity&quot;: 1.0, &quot;linewidth&quot;: 1.0}, {&quot;points&quot;: [[0.0, 3.0, 1.0], [5.0, 3.0, 1.0]], &quot;color&quot;: &quot;#d3d3d3&quot;, &quot;opacity&quot;: 1.0, &quot;linewidth&quot;: 1.0}, {&quot;points&quot;: [[3.0, 2.0, 0.0], [3.0, 2.0, 5.0]], &quot;color&quot;: &quot;#d3d3d3&quot;, &quot;opacity&quot;: 1.0, &quot;linewidth&quot;: 1.0}, {&quot;points&quot;: [[3.0, 0.0, 2.0], [3.0, 5.0, 2.0]], &quot;color&quot;: &quot;#d3d3d3&quot;, &quot;opacity&quot;: 1.0, &quot;linewidth&quot;: 1.0}, {&quot;points&quot;: [[0.0, 3.0, 2.0], [5.0, 3.0, 2.0]], &quot;color&quot;: &quot;#d3d3d3&quot;, &quot;opacity&quot;: 1.0, &quot;linewidth&quot;: 1.0}, {&quot;points&quot;: [[3.0, 3.0, 0.0], [3.0, 3.0, 5.0]], &quot;color&quot;: &quot;#d3d3d3&quot;, &quot;opacity&quot;: 1.0, &quot;linewidth&quot;: 1.0}, {&quot;points&quot;: [[3.0, 0.0, 3.0], [3.0, 5.0, 3.0]], &quot;color&quot;: &quot;#d3d3d3&quot;, &quot;opacity&quot;: 1.0, &quot;linewidth&quot;: 1.0}, {&quot;points&quot;: [[0.0, 3.0, 3.0], [5.0, 3.0, 3.0]], &quot;color&quot;: &quot;#d3d3d3&quot;, &quot;opacity&quot;: 1.0, &quot;linewidth&quot;: 1.0}, {&quot;points&quot;: [[3.0, 4.0, 0.0], [3.0, 4.0, 5.0]], &quot;color&quot;: &quot;#d3d3d3&quot;, &quot;opacity&quot;: 1.0, &quot;linewidth&quot;: 1.0}, {&quot;points&quot;: [[3.0, 0.0, 4.0], [3.0, 5.0, 4.0]], &quot;color&quot;: &quot;#d3d3d3&quot;, &quot;opacity&quot;: 1.0, &quot;linewidth&quot;: 1.0}, {&quot;points&quot;: [[0.0, 3.0, 4.0], [5.0, 3.0, 4.0]], &quot;color&quot;: &quot;#d3d3d3&quot;, &quot;opacity&quot;: 1.0, &quot;linewidth&quot;: 1.0}, {&quot;points&quot;: [[3.0, 5.0, 0.0], [3.0, 5.0, 5.0]], &quot;color&quot;: &quot;#d3d3d3&quot;, &quot;opacity&quot;: 1.0, &quot;linewidth&quot;: 1.0}, {&quot;points&quot;: [[3.0, 0.0, 5.0], [3.0, 5.0, 5.0]], &quot;color&quot;: &quot;#d3d3d3&quot;, &quot;opacity&quot;: 1.0, &quot;linewidth&quot;: 1.0}, {&quot;points&quot;: [[0.0, 3.0, 5.0], [5.0, 3.0, 5.0]], &quot;color&quot;: &quot;#d3d3d3&quot;, &quot;opacity&quot;: 1.0, &quot;linewidth&quot;: 1.0}, {&quot;points&quot;: [[4.0, 0.0, 0.0], [4.0, 0.0, 5.0]], &quot;color&quot;: &quot;#d3d3d3&quot;, &quot;opacity&quot;: 1.0, &quot;linewidth&quot;: 1.0}, {&quot;points&quot;: [[4.0, 0.0, 0.0], [4.0, 5.0, 0.0]], &quot;color&quot;: &quot;#d3d3d3&quot;, &quot;opacity&quot;: 1.0, &quot;linewidth&quot;: 1.0}, {&quot;points&quot;: [[0.0, 4.0, 0.0], [5.0, 4.0, 0.0]], &quot;color&quot;: &quot;#d3d3d3&quot;, &quot;opacity&quot;: 1.0, &quot;linewidth&quot;: 1.0}, {&quot;points&quot;: [[4.0, 1.0, 0.0], [4.0, 1.0, 5.0]], &quot;color&quot;: &quot;#d3d3d3&quot;, &quot;opacity&quot;: 1.0, &quot;linewidth&quot;: 1.0}, {&quot;points&quot;: [[4.0, 0.0, 1.0], [4.0, 5.0, 1.0]], &quot;color&quot;: &quot;#d3d3d3&quot;, &quot;opacity&quot;: 1.0, &quot;linewidth&quot;: 1.0}, {&quot;points&quot;: [[0.0, 4.0, 1.0], [5.0, 4.0, 1.0]], &quot;color&quot;: &quot;#d3d3d3&quot;, &quot;opacity&quot;: 1.0, &quot;linewidth&quot;: 1.0}, {&quot;points&quot;: [[4.0, 2.0, 0.0], [4.0, 2.0, 5.0]], &quot;color&quot;: &quot;#d3d3d3&quot;, &quot;opacity&quot;: 1.0, &quot;linewidth&quot;: 1.0}, {&quot;points&quot;: [[4.0, 0.0, 2.0], [4.0, 5.0, 2.0]], &quot;color&quot;: &quot;#d3d3d3&quot;, &quot;opacity&quot;: 1.0, &quot;linewidth&quot;: 1.0}, {&quot;points&quot;: [[0.0, 4.0, 2.0], [5.0, 4.0, 2.0]], &quot;color&quot;: &quot;#d3d3d3&quot;, &quot;opacity&quot;: 1.0, &quot;linewidth&quot;: 1.0}, {&quot;points&quot;: [[4.0, 3.0, 0.0], [4.0, 3.0, 5.0]], &quot;color&quot;: &quot;#d3d3d3&quot;, &quot;opacity&quot;: 1.0, &quot;linewidth&quot;: 1.0}, {&quot;points&quot;: [[4.0, 0.0, 3.0], [4.0, 5.0, 3.0]], &quot;color&quot;: &quot;#d3d3d3&quot;, &quot;opacity&quot;: 1.0, &quot;linewidth&quot;: 1.0}, {&quot;points&quot;: [[0.0, 4.0, 3.0], [5.0, 4.0, 3.0]], &quot;color&quot;: &quot;#d3d3d3&quot;, &quot;opacity&quot;: 1.0, &quot;linewidth&quot;: 1.0}, {&quot;points&quot;: [[4.0, 4.0, 0.0], [4.0, 4.0, 5.0]], &quot;color&quot;: &quot;#d3d3d3&quot;, &quot;opacity&quot;: 1.0, &quot;linewidth&quot;: 1.0}, {&quot;points&quot;: [[4.0, 0.0, 4.0], [4.0, 5.0, 4.0]], &quot;color&quot;: &quot;#d3d3d3&quot;, &quot;opacity&quot;: 1.0, &quot;linewidth&quot;: 1.0}, {&quot;points&quot;: [[0.0, 4.0, 4.0], [5.0, 4.0, 4.0]], &quot;color&quot;: &quot;#d3d3d3&quot;, &quot;opacity&quot;: 1.0, &quot;linewidth&quot;: 1.0}, {&quot;points&quot;: [[4.0, 5.0, 0.0], [4.0, 5.0, 5.0]], &quot;color&quot;: &quot;#d3d3d3&quot;, &quot;opacity&quot;: 1.0, &quot;linewidth&quot;: 1.0}, {&quot;points&quot;: [[4.0, 0.0, 5.0], [4.0, 5.0, 5.0]], &quot;color&quot;: &quot;#d3d3d3&quot;, &quot;opacity&quot;: 1.0, &quot;linewidth&quot;: 1.0}, {&quot;points&quot;: [[0.0, 4.0, 5.0], [5.0, 4.0, 5.0]], &quot;color&quot;: &quot;#d3d3d3&quot;, &quot;opacity&quot;: 1.0, &quot;linewidth&quot;: 1.0}, {&quot;points&quot;: [[5.0, 0.0, 0.0], [5.0, 0.0, 5.0]], &quot;color&quot;: &quot;#d3d3d3&quot;, &quot;opacity&quot;: 1.0, &quot;linewidth&quot;: 1.0}, {&quot;points&quot;: [[5.0, 0.0, 0.0], [5.0, 5.0, 0.0]], &quot;color&quot;: &quot;#d3d3d3&quot;, &quot;opacity&quot;: 1.0, &quot;linewidth&quot;: 1.0}, {&quot;points&quot;: [[0.0, 5.0, 0.0], [5.0, 5.0, 0.0]], &quot;color&quot;: &quot;#d3d3d3&quot;, &quot;opacity&quot;: 1.0, &quot;linewidth&quot;: 1.0}, {&quot;points&quot;: [[5.0, 1.0, 0.0], [5.0, 1.0, 5.0]], &quot;color&quot;: &quot;#d3d3d3&quot;, &quot;opacity&quot;: 1.0, &quot;linewidth&quot;: 1.0}, {&quot;points&quot;: [[5.0, 0.0, 1.0], [5.0, 5.0, 1.0]], &quot;color&quot;: &quot;#d3d3d3&quot;, &quot;opacity&quot;: 1.0, &quot;linewidth&quot;: 1.0}, {&quot;points&quot;: [[0.0, 5.0, 1.0], [5.0, 5.0, 1.0]], &quot;color&quot;: &quot;#d3d3d3&quot;, &quot;opacity&quot;: 1.0, &quot;linewidth&quot;: 1.0}, {&quot;points&quot;: [[5.0, 2.0, 0.0], [5.0, 2.0, 5.0]], &quot;color&quot;: &quot;#d3d3d3&quot;, &quot;opacity&quot;: 1.0, &quot;linewidth&quot;: 1.0}, {&quot;points&quot;: [[5.0, 0.0, 2.0], [5.0, 5.0, 2.0]], &quot;color&quot;: &quot;#d3d3d3&quot;, &quot;opacity&quot;: 1.0, &quot;linewidth&quot;: 1.0}, {&quot;points&quot;: [[0.0, 5.0, 2.0], [5.0, 5.0, 2.0]], &quot;color&quot;: &quot;#d3d3d3&quot;, &quot;opacity&quot;: 1.0, &quot;linewidth&quot;: 1.0}, {&quot;points&quot;: [[5.0, 3.0, 0.0], [5.0, 3.0, 5.0]], &quot;color&quot;: &quot;#d3d3d3&quot;, &quot;opacity&quot;: 1.0, &quot;linewidth&quot;: 1.0}, {&quot;points&quot;: [[5.0, 0.0, 3.0], [5.0, 5.0, 3.0]], &quot;color&quot;: &quot;#d3d3d3&quot;, &quot;opacity&quot;: 1.0, &quot;linewidth&quot;: 1.0}, {&quot;points&quot;: [[0.0, 5.0, 3.0], [5.0, 5.0, 3.0]], &quot;color&quot;: &quot;#d3d3d3&quot;, &quot;opacity&quot;: 1.0, &quot;linewidth&quot;: 1.0}, {&quot;points&quot;: [[5.0, 4.0, 0.0], [5.0, 4.0, 5.0]], &quot;color&quot;: &quot;#d3d3d3&quot;, &quot;opacity&quot;: 1.0, &quot;linewidth&quot;: 1.0}, {&quot;points&quot;: [[5.0, 0.0, 4.0], [5.0, 5.0, 4.0]], &quot;color&quot;: &quot;#d3d3d3&quot;, &quot;opacity&quot;: 1.0, &quot;linewidth&quot;: 1.0}, {&quot;points&quot;: [[0.0, 5.0, 4.0], [5.0, 5.0, 4.0]], &quot;color&quot;: &quot;#d3d3d3&quot;, &quot;opacity&quot;: 1.0, &quot;linewidth&quot;: 1.0}, {&quot;points&quot;: [[5.0, 5.0, 0.0], [5.0, 5.0, 5.0]], &quot;color&quot;: &quot;#d3d3d3&quot;, &quot;opacity&quot;: 1.0, &quot;linewidth&quot;: 1.0}, {&quot;points&quot;: [[5.0, 0.0, 5.0], [5.0, 5.0, 5.0]], &quot;color&quot;: &quot;#d3d3d3&quot;, &quot;opacity&quot;: 1.0, &quot;linewidth&quot;: 1.0}, {&quot;points&quot;: [[0.0, 5.0, 5.0], [5.0, 5.0, 5.0]], &quot;color&quot;: &quot;#d3d3d3&quot;, &quot;opacity&quot;: 1.0, &quot;linewidth&quot;: 1.0}];\n    for ( var i=0 ; i &lt; lines.length ; i++ ) addLine( lines[i] );\n\n    function addLine( json ) {\n\n        var geometry = new THREE.Geometry();\n        for ( var i=0 ; i &lt; json.points.length ; i++ ) {\n            var v = json.points[i];\n            geometry.vertices.push( new THREE.Vector3( a[0]*v[0], a[1]*v[1], a[2]*v[2] ) );\n        }\n\n        var c = new THREE.Vector3();\n        geometry.computeBoundingBox();\n        geometry.boundingBox.getCenter( c );\n        geometry.translate( -c.x, -c.y, -c.z );\n\n        var transparent = json.opacity &lt; 1 ? true : false;\n        var materialOptions = { color: json.color, linewidth: json.linewidth,\n                                transparent: transparent, opacity: json.opacity };\n\n        var mesh;\n        if ( json.linewidth &gt; 1 &amp;&amp; window.createFatLineStrip ) {\n            mesh = createFatLineStrip( geometry, materialOptions );\n        } else {\n            var material = new THREE.LineBasicMaterial( materialOptions );\n            mesh = new THREE.Line( geometry, material );\n        }\n\n        mesh.position.set( c.x, c.y, c.z );\n        mesh.userData = json;\n        scene.add( mesh );\n\n    }\n\n    var surfaces = [];\n    for ( var i=0 ; i &lt; surfaces.length ; i++ ) addSurface( surfaces[i] );\n\n    function addSurface( json ) {\n\n        var useFaceColors = &#x27;faceColors&#x27; in json ? true : false;\n\n        var geometry = new THREE.Geometry();\n        for ( var i=0 ; i &lt; json.vertices.length ; i++ ) {\n            var v = json.vertices[i];\n            geometry.vertices.push( new THREE.Vector3( a[0]*v.x, a[1]*v.y, a[2]*v.z ) );\n        }\n        for ( var i=0 ; i &lt; json.faces.length ; i++ ) {\n            var f = json.faces[i];\n            for ( var j=0 ; j &lt; f.length - 2 ; j++ ) {\n                var face = new THREE.Face3( f[0], f[j+1], f[j+2] );\n                if ( useFaceColors ) face.color.set( json.faceColors[i] );\n                geometry.faces.push( face );\n            }\n        }\n        geometry.computeVertexNormals();\n\n        var side = json.singleSide ? THREE.FrontSide : THREE.DoubleSide;\n        var transparent = json.opacity &lt; 1 ? true : false;\n        var depthWrite = &#x27;depthWrite&#x27; in json ? json.depthWrite : !transparent;\n        var flatShading = json.useFlatShading ? json.useFlatShading : false;\n\n        var material = new THREE.MeshPhongMaterial( { side: side,\n                                     color: useFaceColors ? &#x27;white&#x27; : json.color,\n                                     vertexColors: useFaceColors ? THREE.FaceColors : THREE.NoColors,\n                                     transparent: transparent, opacity: json.opacity,\n                                     shininess: 20, flatShading: flatShading,\n                                     depthWrite: depthWrite } );\n\n        var c = new THREE.Vector3();\n        geometry.computeBoundingBox();\n        geometry.boundingBox.getCenter( c );\n        geometry.translate( -c.x, -c.y, -c.z );\n\n        var mesh = new THREE.Mesh( geometry, material );\n        mesh.position.set( c.x, c.y, c.z );\n        if ( transparent &amp;&amp; json.renderOrder ) mesh.renderOrder = json.renderOrder;\n        mesh.userData = json;\n        scene.add( mesh );\n\n        if ( json.showMeshGrid ) addSurfaceMeshGrid( json );\n\n    }\n\n    function addSurfaceMeshGrid( json ) {\n\n        var geometry = new THREE.Geometry();\n\n        for ( var i=0 ; i &lt; json.faces.length ; i++ ) {\n            var f = json.faces[i];\n            for ( var j=0 ; j &lt; f.length ; j++ ) {\n                var k = j === f.length-1 ? 0 : j+1;\n                var v1 = json.vertices[f[j]];\n                var v2 = json.vertices[f[k]];\n                // vertices in opposite directions on neighboring faces\n                var nudge = f[j] &lt; f[k] ? .0005*zRange : -.0005*zRange;\n                geometry.vertices.push( new THREE.Vector3( a[0]*v1.x, a[1]*v1.y, a[2]*(v1.z+nudge) ) );\n                geometry.vertices.push( new THREE.Vector3( a[0]*v2.x, a[1]*v2.y, a[2]*(v2.z+nudge) ) );\n            }\n        }\n\n        var c = new THREE.Vector3();\n        geometry.computeBoundingBox();\n        geometry.boundingBox.getCenter( c );\n        geometry.translate( -c.x, -c.y, -c.z );\n\n        var gridColor = options.theme === &#x27;dark&#x27; ? &#x27;white&#x27; : &#x27;black&#x27;;\n        var linewidth = json.linewidth || 1;\n        var materialOptions = { color: gridColor, linewidth: linewidth };\n\n        var mesh;\n        if ( linewidth &gt; 1 &amp;&amp; window.createFatLineSegments ) {\n            mesh = createFatLineSegments( geometry, materialOptions );\n        } else {\n            var material = new THREE.LineBasicMaterial( materialOptions );\n            mesh = new THREE.LineSegments( geometry, material );\n        }\n\n        mesh.position.set( c.x, c.y, c.z );\n        mesh.userData = json;\n        scene.add( mesh );\n\n    }\n\n    function render() {\n\n        if ( window.updateAnimation ) animate = updateAnimation();\n        if ( animate ) requestAnimationFrame( render );\n\n        renderer.render( scene, camera );\n\n    }\n\n    render();\n    controls.update();\n    if ( !animate ) render();\n\n\n    // menu functions\n\n    function toggleMenu() {\n\n        var m = document.getElementById( &#x27;menu-content&#x27; );\n        if ( m.style.display === &#x27;block&#x27; ) m.style.display = &#x27;none&#x27;\n        else m.style.display = &#x27;block&#x27;;\n\n    }\n\n\n    function saveAsPNG() {\n\n        var a = document.body.appendChild( document.createElement( &#x27;a&#x27; ) );\n        a.href = renderer.domElement.toDataURL( &#x27;image/png&#x27; );\n        a.download = &#x27;screenshot&#x27;;\n        a.click();\n\n    }\n\n    function saveAsHTML() {\n\n        toggleMenu(); // otherwise visible in output\n        event.stopPropagation();\n\n        var blob = new Blob( [ &#x27;&lt;!DOCTYPE html&gt;\\n&#x27; + document.documentElement.outerHTML ] );\n        var a = document.body.appendChild( document.createElement( &#x27;a&#x27; ) );\n        a.href = window.URL.createObjectURL( blob );\n        a.download = suggestFilename();\n        a.click();\n\n        function suggestFilename() {\n            if ( !document.title ) {\n                return &#x27;graphic.html&#x27;;\n            } else if ( /\\.html?$/i.test( document.title ) ) {\n                return document.title; // already ends in .htm or .html\n            } else {\n                return document.title + &#x27;.html&#x27;;\n            }\n        }\n\n    }\n\n    function getViewpoint() {\n\n        function roundTo( x, n ) { return +x.toFixed(n); }\n\n        var v = camera.quaternion.inverse();\n        var r = Math.sqrt( v.x*v.x + v.y*v.y + v.z*v.z );\n        var axis = [ roundTo( v.x / r, 4 ), roundTo( v.y / r, 4 ), roundTo( v.z / r, 4 ) ];\n        var angle = roundTo( 2 * Math.atan2( r, v.w ) * 180 / Math.PI, 2 );\n\n        var textArea = document.createElement( &#x27;textarea&#x27; );\n        textArea.textContent = JSON.stringify( axis ) + &#x27;,&#x27; + angle;\n        textArea.style.csstext = &#x27;position: absolute; top: -100%&#x27;;\n        document.body.append( textArea );\n        textArea.select();\n        document.execCommand( &#x27;copy&#x27; );\n\n        var m = document.getElementById( &#x27;menu-message&#x27; );\n        m.innerHTML = &#x27;Viewpoint copied to clipboard&#x27;;\n        m.style.display = &#x27;block&#x27;;\n        setTimeout( function() { m.style.display = &#x27;none&#x27;; }, 2000 );\n\n    }\n\n    function getCamera() {\n\n        function roundTo( x, n ) { return +x.toFixed(n); }\n\n        var pos = camera.position;\n        var pos_r = [ roundTo( pos.x, 4 ), roundTo( pos.y, 4 ), roundTo( pos.z, 4 ) ];\n   //     var up = camera.up; // up is always (0,0,1)\n        var textArea = document.createElement(&#x27;textarea&#x27;);\n        var cam_position = JSON.stringify(pos_r);\n        textArea.textContent = &#x27;,camera_position=&#x27; + cam_position;\n        textArea.style.csstext = &#x27;position: absolute; top: -100%&#x27;;\n        document.body.append( textArea );\n        textArea.select();\n        document.execCommand( &#x27;copy&#x27; );\n\n        var m = document.getElementById( &#x27;menu-message&#x27; );\n        m.innerHTML = &#x27;Camera position &#x27;+ cam_position+&#x27; copied to clipboard&#x27;;\n        m.style.display = &#x27;block&#x27;;\n        setTimeout( function() { m.style.display = &#x27;none&#x27;; }, 2000 );\n\n    }\n\n&lt;/script&gt;\n\n&lt;div id=&quot;menu-container&quot; onclick=&quot;toggleMenu()&quot;&gt;&amp;#x24d8;\n&lt;div id=&quot;menu-message&quot;&gt;&lt;/div&gt;\n&lt;div id=&quot;menu-content&quot;&gt;\n&lt;div onclick=&quot;saveAsPNG()&quot;&gt;Save as PNG&lt;/div&gt;\n&lt;div onclick=&quot;saveAsHTML()&quot;&gt;Save as HTML&lt;/div&gt;\n&lt;div onclick=&quot;getCamera()&quot;&gt;Get camera&lt;/div&gt;\n&lt;div onclick=&quot;getViewpoint()&quot;&gt;Get viewpoint&lt;/div&gt;\n&lt;div&gt;Close Menu&lt;/div&gt;\n&lt;/div&gt;&lt;/div&gt;\n\n\n&lt;/body&gt;\n&lt;/html&gt;\n\"\n        width=\"100%\"\n        height=\"400\"\n        style=\"border: 0;\">\n</iframe>\n",
      "text/plain": [
       "Graphics3d Object"
      ]
     },
     "execution_count": 11,
     "metadata": {
     },
     "output_type": "execute_result"
    }
   ],
   "source": [
    "# Import required libraries for 3D visualization\n",
    "from sage.all import line3d, vector, Graphics, point3d\n",
    "\n",
    "# Define base vectors\n",
    "e1 = vector([1, 0, 0])\n",
    "e2 = vector([0, 1, 0])\n",
    "e3 = vector([0, 0, 1])\n",
    "\n",
    "# Define transformed vectors\n",
    "E1 = vector([1, 0, 1])\n",
    "E2 = vector([3, 1.5, 2])\n",
    "E3 = vector([0, 2, 3])\n",
    "\n",
    "# Create lines representing base vectors and transformed vectors\n",
    "lines = line3d([vector([0,0,0]), e1], color='darkgreen', thickness=2) + \\\n",
    "        line3d([vector([0,0,0]), e2], color='darkred', thickness=2) + \\\n",
    "        line3d([vector([0,0,0]), e3], color='darkblue', thickness=2) + \\\n",
    "        line3d([vector([0,0,0]), E1], color='green', thickness=4) + \\\n",
    "        line3d([vector([0,0,0]), E2], color='red', thickness=4) + \\\n",
    "        line3d([vector([0,0,0]), E3], color='blue', thickness=4)\n",
    "\n",
    "# Place distinct markers at the tips of each vector\n",
    "marks = point3d([e1, e2, e3, E1, E2, E3], color='grey', size=1)\n",
    "\n",
    "# Create a dashed 3D grid (upper half)\n",
    "def create_dashed_3d_grid(size, color, thickness=1, linestyle='--'):\n",
    "    grid = Graphics()\n",
    "    for i in range(0, size + 1):\n",
    "        for j in range(0, size + 1):\n",
    "            grid += line3d([(i, j, 0), (i, j, size)], color=color, thickness=thickness, linestyle=linestyle) # Z-axis lines\n",
    "            grid += line3d([(i, 0, j), (i, size, j)], color=color, thickness=thickness, linestyle=linestyle) # Y-axis lines\n",
    "            grid += line3d([(0, i, j), (size, i, j)], color=color, thickness=thickness, linestyle=linestyle) # X-axis lines\n",
    "    return grid\n",
    "\n",
    "# Create the dashed grid for visualization\n",
    "grid = create_dashed_3d_grid(5, 'lightgrey', thickness=1, linestyle='--')\n",
    "\n",
    "# Display the 3D plot\n",
    "plot = lines + marks + grid\n",
    "plot.show(frame=False, aspect_ratio=1)"
   ]
  },
  {
   "cell_type": "markdown",
   "metadata": {
    "collapsed": false
   },
   "source": [
    "<p>Now let's look at one-to-one and onto linear transformations. As usual, let's start with the textbook definitions.</p>\n",
    "\n",
    "<p>First, let's consider $one-to-one$:<br>\n",
    "    <div class=\"text-box\">\n",
    "Let $A$ be an $n×m$ matrix and define \\( T: \\mathbb{R}^m \\rightarrow \\mathbb{R}^n \\) by \\( T(\\mathbf{x}) = A\\mathbf{x} \\). Then<br>\n",
    "<ol>\n",
    "<li> \\( T \\) is one-to-one if and only if the columns of \\( A \\) are linearly independent.<br>\n",
    "<li> If \\( A \\sim B \\) and \\( B \\) is in echelon form, then \\( T \\) is one-to-one if and only if \\( B \\) has a pivot position in every column.<br>\n",
    "<li> If \\( n < m \\), then \\( T \\) is not one-to-one.</p>\n",
    "</ol>\n",
    "</div>\n",
    "<p>Next, the definition of $onto$:<br>\n",
    "    <div class=\"text-box\">\n",
    "Let A be an n × m matrix and define \\( T: \\mathbb{R}^m \\rightarrow \\mathbb{R}^n \\) by \\( T(\\mathbf{x}) = A\\mathbf{x} \\). Then<br>\n",
    "<ol>\n",
    "<li> \\( T \\) is onto if and only if the columns of \\( A \\) span the codomain \\( \\mathbb{R}^n \\).<br>\n",
    "<li>  If \\( A \\sim B \\) and \\( B \\) is in echelon form, then \\( T \\) is onto if and only if \\( B \\) has a pivot position in every row.<br>\n",
    "<li> If \\( n > m \\), then \\( T \\) is not onto.</p>\n",
    "</ol>\n",
    "</div>\n",
    "<p>Can you find commonalities between these two definitions and summarize them? I think a good way to check is to see if there is a pivot in every row and column after reducing to echelon form. In other words, we can check if a linear transformation is one-to-one by checking for pivots in every column, and check if it's onto by checking for pivots in every row, which will be more helpful for our judgment! Let's start with an example.</p>\n",
    "<div class=\"text-box\">\n",
    "    $Example5$ Suppose we have a $2×3$ matrix $B$=\\( \\begin{bmatrix} 1 & 2 \\\\ 3 & 4 \\\\ 5 & 6 \\end{bmatrix} \\), and determine whether it is one-to-one and onto.</p>"
   ]
  },
  {
   "cell_type": "code",
   "execution_count": 12,
   "metadata": {
    "collapsed": false
   },
   "outputs": [
    {
     "name": "stdout",
     "output_type": "stream",
     "text": [
      "Matrix B is\n",
      "[1 2]\n",
      "[3 4]\n",
      "[5 6]\n",
      "RREF of B is\n",
      "[1 0]\n",
      "[0 1]\n",
      "[0 0]\n"
     ]
    }
   ],
   "source": [
    "B=matrix(3,2,[1,2,3,4,5,6])\n",
    "B_2=B.rref()\n",
    "print(\"Matrix B is\")\n",
    "print(B)\n",
    "print(\"RREF of B is\")\n",
    "print(B_2)"
   ]
  },
  {
   "cell_type": "markdown",
   "metadata": {
    "collapsed": false
   },
   "source": [
    "<p>Let's examine this example! We observe that there is a pivot in each column, so it is one-to-one, but not in every row, which leads us to conclude that this linear transformation is not onto. Think about why it is not onto. Can we see this conclusion at a glance? Let's go back to the definition: the primary definition of onto is that the columns of matrix $A$ span the entire \\( \\mathbb{R}^3 \\). Is this true in our case? The answer is no, because we know that any two column vectors cannot span \\( \\mathbb{R}^3 \\). In other words, we need at least three column vectors for the transformation to be onto. Therefore, we conclude that a linear transformation from \\( \\mathbb{R}^m \\) to \\( \\mathbb{R}^n \\) is never onto when \\( m > n \\). Now, let's look at another example. </p>\n",
    "<div class=\"text-box\">\n",
    "    <p>$Example6$ Suppose we have a new matrix \\( C = \\begin{bmatrix} 2 & 1 & 1 \\\\ 1 & 2 & 0 \\\\ 1 & 3 & 0 \\end{bmatrix} \\). Determine whether it is one-to-one and onto.</p>\n",
    "</div>"
   ]
  },
  {
   "cell_type": "code",
   "execution_count": 13,
   "metadata": {
    "collapsed": false
   },
   "outputs": [
    {
     "name": "stdout",
     "output_type": "stream",
     "text": [
      "Matrix C is\n",
      "[2 1 1]\n",
      "[1 2 0]\n",
      "[1 3 0]\n",
      "RREF of C is\n",
      "[1 0 0]\n",
      "[0 1 0]\n",
      "[0 0 1]\n"
     ]
    }
   ],
   "source": [
    "C=matrix([[2,1,1],[1,2,0],[1,3,0]])\n",
    "C_2=C.rref()\n",
    "print(\"Matrix C is\")\n",
    "print(C)\n",
    "print(\"RREF of C is\")\n",
    "print(C_2)"
   ]
  },
  {
   "cell_type": "markdown",
   "metadata": {
    "collapsed": false
   },
   "source": [
    "<p>I'm sure you've noticed that this is both a one-to-one and onto linear transformation! Take note that this is a $3×3$ matrix. I encourage you to try out several $n×n$ matrices and see if there is a certain correlation between being one-to-one and onto for $n×n$ matrices.</p>"
   ]
  },
  {
   "cell_type": "markdown",
   "metadata": {
    "collapsed": false
   },
   "source": [
    "© 2024 By Soham Bhosale, Sara Billey, Herman Chau, Zihan Chen, Isaac Hartin Pasco, Jennifer Huang, Snigdha Mahankali, Clare Minerath, and Anna Willis is licensed under [CC BY-ND 4.0](http://creativecommons.org/licenses/by-nd/4.0/?ref=chooser-v1)"
   ]
  }
 ],
 "metadata": {
  "kernelspec": {
   "argv": [
    "sage-10.3",
    "--python",
    "-m",
    "sage.repl.ipython_kernel",
    "--matplotlib=inline",
    "-f",
    "{connection_file}"
   ],
   "display_name": "SageMath 10.3",
   "env": {
   },
   "language": "sagemath",
   "metadata": {
    "cocalc": {
     "description": "Open-source mathematical software system",
     "priority": 10,
     "url": "https://www.sagemath.org/"
    }
   },
   "name": "sage-10.3",
   "resource_dir": "/ext/jupyter/kernels/sage-10.3"
  },
  "language_info": {
   "codemirror_mode": {
    "name": "ipython",
    "version": 3
   },
   "file_extension": ".py",
   "mimetype": "text/x-python",
   "name": "python",
   "nbconvert_exporter": "python",
   "pygments_lexer": "ipython3",
   "version": "3.11.1"
  }
 },
 "nbformat": 4,
 "nbformat_minor": 4
}