{
 "cells": [
  {
   "cell_type": "markdown",
   "metadata": {
    "collapsed": false
   },
   "source": [
    "© 2024 By Soham Bhosale, Sara Billey, Herman Chau, Zihan Chen, Isaac Hartin Pasco, Jennifer Huang, Snigdha Mahankali, Clare Minerath, and Anna Willis is licensed under [CC BY-ND 4.0](http://creativecommons.org/licenses/by-nd/4.0/?ref=chooser-v1)"
   ]
  },
  {
   "cell_type": "markdown",
   "metadata": {
    "collapsed": false
   },
   "source": [
    "<h2 style=\"text-align: center;\">Welcome to Chapter 3: The Paradise of <i>Matrices</i></h2>\n",
    "<p style=\"text-align: center;\" >Originally created by $Zihan Chen$ | $zchen84@uw.edu$ </p>\n",
    "<h5><strong>Preface:</strong></h5>\n",
    "<p>This <strong>Sage Worksheet</strong> is a part of a $Linear$ $Algebra$ tutorial created by Prof.$Sara$ $Billey$'s 2024 <i>WXML</i> group. Referred to $Linear$ $Algebra$ $with$ $Applications$ $by$ $Holt$, $2^{nd}$ $edition$, this Worksheet is intended to help future $UW$ $Math208$ students with some tools and software to present more visual linear algebra content. This Worksheet will revolve around $Section$ $3.2-3.5$ of $Holt$'s Book.</p>\n",
    "\n",
    "<h5>$3.2/3.3-Matrix$ $Computations$ </h5>\n",
    "<p>Next, let's take a look at matrix computations, which I believe are crucial in linear algebra. First, we'll explore matrix addition and subtraction.</p>\n",
    "\n",
    "<html lang=\"zh-CN\">\n",
    "<head>\n",
    "<meta charset=\"UTF-8\">\n",
    "<title>Text Box Example</title>\n",
    "<style>\n",
    "    .text-box {\n",
    "        border: 1px solid #000;\n",
    "        padding: 10px;\n",
    "        margin: 10px 0;\n",
    "        width: fit-content;\n",
    "        display: inline-block;\n",
    "        background-color: #f0f0f0;\n",
    "    }\n",
    "</style>\n",
    "</head>\n",
    "<body>\n",
    "\n",
    "<div class=\"text-box\">\n",
    "    <p>$Example7$ Suppose we have matrices \\( D = \\begin{bmatrix} 4 & -1 \\\\ 2 & -3 \\\\ 7 & 0 \\end{bmatrix} \\) and \\( E = \\begin{bmatrix} 3 & -1 \\\\ 5 & 0 \\\\ 0 & 2 \\end{bmatrix} \\). We want to calculate \\( 3D \\) and \\( D - 2E \\). </p>\n",
    "    </div>\n",
    "<p>Implementing this in Sage is quite straightforward, as follows:</p>\n",
    "\n",
    "<p>To begin with, let's consider the computation of $2E$. Actually, it's the same as multiply scalar $2$ in every entries in matrix $E$ . We will computer $2E$ by using sage as below.</p>\n",
    "\n"
   ]
  },
  {
   "cell_type": "code",
   "execution_count": 3,
   "metadata": {
    "collapsed": false
   },
   "outputs": [
    {
     "name": "stdout",
     "output_type": "stream",
     "text": [
      "3*D is\n",
      "2*E is\n",
      "D-2*E is\n",
      "D+E is\n"
     ]
    },
    {
     "data": {
      "text/plain": [
       "[ 7 -2]\n",
       "[ 7 -3]\n",
       "[ 7  2]"
      ]
     },
     "execution_count": 3,
     "metadata": {
     },
     "output_type": "execute_result"
    }
   ],
   "source": [
    "D=matrix([[4,-1],[2,-3],[7,0]])\n",
    "E=matrix([[3,-1],[5,0],[0,2]])\n",
    "print(\"3*D is\")\n",
    "3*D\n",
    "print(\"2*E is\")\n",
    "2*E\n",
    "print(\"D-2*E is\")\n",
    "D-2*E\n",
    "print(\"D+E is\")\n",
    "D+E"
   ]
  },
  {
   "cell_type": "markdown",
   "metadata": {
    "collapsed": false
   },
   "source": [
    "<p>In the last line, I also calculated \\( D + E \\). When we see \\( D + E \\), we should consider whether the result of \\( D + E \\) is the same as that of \\( E + D \\). Let's give it a try.</p>"
   ]
  },
  {
   "cell_type": "code",
   "execution_count": 4,
   "metadata": {
    "collapsed": false
   },
   "outputs": [
    {
     "name": "stdout",
     "output_type": "stream",
     "text": [
      "E+D is\n"
     ]
    },
    {
     "data": {
      "text/plain": [
       "[ 7 -2]\n",
       "[ 7 -3]\n",
       "[ 7  2]"
      ]
     },
     "execution_count": 4,
     "metadata": {
     },
     "output_type": "execute_result"
    }
   ],
   "source": [
    "print(\"E+D is\")\n",
    "E+D"
   ]
  },
  {
   "cell_type": "markdown",
   "metadata": {
    "collapsed": false
   },
   "source": [
    "<p>The results are the same. For three matrices, does addition follow the commutative law? I encourage you to check this conclusion yourself, and you should find that it is correct. Next, let's take a look at matrix multiplication. I won't go into the specific steps of multiplication, as you can learn about them from reading relevant materials. What I want you to check now is whether matrix multiplication follows the commutative law. </p>\n",
    "\n",
    "<div class=\"text-box\">\n",
    "<p>$Example8$ Suppose we have two matrices \\( F = \\begin{bmatrix} 3 & 1 \\\\ -2 & 0 \\end{bmatrix} \\) and \\( G = \\begin{bmatrix} -1 & 0 & 2 \\\\ 4 & -3 & -1 \\end{bmatrix} \\). Let's calculate \\( FG \\) and \\( GF \\) to see if the results of these two are the same.</p>\n",
    "</div>"
   ]
  },
  {
   "cell_type": "code",
   "execution_count": 5,
   "metadata": {
    "collapsed": false
   },
   "outputs": [
    {
     "name": "stdout",
     "output_type": "stream",
     "text": [
      "F*G is\n",
      "[ 1 -3  5]\n",
      "[ 2  0 -4]\n",
      "G*F is\n"
     ]
    },
    {
     "ename": "TypeError",
     "evalue": "unsupported operand parent(s) for *: 'Full MatrixSpace of 2 by 3 dense matrices over Integer Ring' and 'Full MatrixSpace of 2 by 2 dense matrices over Integer Ring'",
     "output_type": "error",
     "traceback": [
      "\u001b[0;31m---------------------------------------------------------------------------\u001b[0m",
      "\u001b[0;31mTypeError\u001b[0m                                 Traceback (most recent call last)",
      "Cell \u001b[0;32mIn[5], line 6\u001b[0m\n\u001b[1;32m      4\u001b[0m \u001b[38;5;28mprint\u001b[39m(\u001b[38;5;28mstr\u001b[39m(F\u001b[38;5;241m*\u001b[39mG))\n\u001b[1;32m      5\u001b[0m \u001b[38;5;28mprint\u001b[39m(\u001b[38;5;124m\"\u001b[39m\u001b[38;5;124mG*F is\u001b[39m\u001b[38;5;124m\"\u001b[39m)\n\u001b[0;32m----> 6\u001b[0m \u001b[43mG\u001b[49m\u001b[38;5;241;43m*\u001b[39;49m\u001b[43mF\u001b[49m\n",
      "File \u001b[0;32m/ext/sage/10.3/src/sage/structure/element.pyx:4090\u001b[0m, in \u001b[0;36msage.structure.element.Matrix.__mul__\u001b[0;34m()\u001b[0m\n\u001b[1;32m   4088\u001b[0m \n\u001b[1;32m   4089\u001b[0m         if BOTH_ARE_ELEMENT(cl):\n\u001b[0;32m-> 4090\u001b[0m             return coercion_model.bin_op(left, right, mul)\n\u001b[1;32m   4091\u001b[0m \n\u001b[1;32m   4092\u001b[0m         cdef long value\n",
      "File \u001b[0;32m/ext/sage/10.3/src/sage/structure/coerce.pyx:1278\u001b[0m, in \u001b[0;36msage.structure.coerce.CoercionModel.bin_op\u001b[0;34m()\u001b[0m\n\u001b[1;32m   1276\u001b[0m     # We should really include the underlying error.\n\u001b[1;32m   1277\u001b[0m     # This causes so much headache.\n\u001b[0;32m-> 1278\u001b[0m     raise bin_op_exception(op, x, y)\n\u001b[1;32m   1279\u001b[0m \n\u001b[1;32m   1280\u001b[0m cpdef canonical_coercion(self, x, y) noexcept:\n",
      "\u001b[0;31mTypeError\u001b[0m: unsupported operand parent(s) for *: 'Full MatrixSpace of 2 by 3 dense matrices over Integer Ring' and 'Full MatrixSpace of 2 by 2 dense matrices over Integer Ring'"
     ]
    }
   ],
   "source": [
    "F=matrix([[3,1],[-2,0]])\n",
    "G=matrix([[-1,0,2],[4,-3,-1]])\n",
    "print(\"F*G is\")\n",
    "print(str(F*G))\n",
    "print(\"G*F is\")\n",
    "G*F"
   ]
  },
  {
   "cell_type": "markdown",
   "metadata": {
    "collapsed": false
   },
   "source": [
    "<p>We observe that the result of \\( G \\times F \\) cannot be produced, while \\( F \\times G \\) yields a result. Does this, to some extent, explain why \\( F \\times G \\) is not equal to \\( G \\times F \\)? This serves as a reminder that in the matrix multiplication of \\( F \\times G \\), the number of columns in matrix \\( F \\) must be the same as the number of rows in matrix \\( G \\) for the computation to be possible. Using this reminder, let's try to see if the multiplication of $n×n$ matrices follows the commutative law. We'll set \\( H = \\begin{bmatrix} 2 & -1 \\\\ 1 & 3 \\end{bmatrix} \\) and \\( J = \\begin{bmatrix} 4 & -2 \\\\ -1 & 1 \\end{bmatrix} \\) as $Example8$.</p>"
   ]
  },
  {
   "cell_type": "code",
   "execution_count": 6,
   "metadata": {
    "collapsed": false
   },
   "outputs": [
    {
     "name": "stdout",
     "output_type": "stream",
     "text": [
      "H*J is\n",
      "J*H is\n"
     ]
    },
    {
     "data": {
      "text/plain": [
       "[  6 -10]\n",
       "[ -1   4]"
      ]
     },
     "execution_count": 6,
     "metadata": {
     },
     "output_type": "execute_result"
    }
   ],
   "source": [
    "H=matrix(2,2,[2,-1,1,3])\n",
    "J=matrix(2,2,[4,-2,-1,1])\n",
    "print(\"H*J is\")\n",
    "H*J\n",
    "print(\"J*H is\")\n",
    "J*H"
   ]
  },
  {
   "cell_type": "markdown",
   "metadata": {
    "collapsed": false
   },
   "source": [
    "<p>Now, I think we can summarize our conclusion that matrix multiplication does not follow the commutative law. Similarly, we are curious about other properties like the associative law and distributive law, and we can also perform self-checks for these. Here, I'll use the distributive law as an example.</p>\n",
    "\n",
    "<div class=\"text-box\">\n",
    "    <p>$Example9$ Suppose we have three matrices $A_1, A_2, A_3$, where \\( A_1 = \\begin{bmatrix} 2 & -3 \\\\ 1 & 5 \\end{bmatrix} \\), \\( A_2 = \\begin{bmatrix} 0 & 7 \\\\ 4 & -2 \\end{bmatrix} \\), and \\( A_3 = \\begin{bmatrix} -3 & -4 \\\\ 0 & -1 \\end{bmatrix} \\). Let's check if \\( (A_1 + A_2) \\times A_3 = A_1 \\times A_3 + A_2 \\times A_3 \\) holds true.</p>\n",
    "</div>"
   ]
  },
  {
   "cell_type": "code",
   "execution_count": 7,
   "metadata": {
    "collapsed": false
   },
   "outputs": [
    {
     "name": "stdout",
     "output_type": "stream",
     "text": [
      "(A1+A2)*A3 is\n",
      "A1*A3+A2*A3 is\n"
     ]
    },
    {
     "data": {
      "text/plain": [
       "[ -6 -12]\n",
       "[-15 -23]"
      ]
     },
     "execution_count": 7,
     "metadata": {
     },
     "output_type": "execute_result"
    }
   ],
   "source": [
    "A1=matrix([[2,-3],[1,5]])\n",
    "A2=matrix([[0,7],[4,-2]])\n",
    "A3=matrix([[-3,-4],[0,-1]])\n",
    "print(\"(A1+A2)*A3 is\")\n",
    "(A1+A2)*A3\n",
    "print(\"A1*A3+A2*A3 is\")\n",
    "A1*A3+A2*A3"
   ]
  },
  {
   "cell_type": "markdown",
   "metadata": {
    "collapsed": false
   },
   "source": [
    "<p>I think we have concluded on our own that matrix multiplication does comply with the distributive law. Let's continue to explore another important matrix operation: $transpose$. The main idea of transpose is to switch coordinates. If we have a matrix \\( A = \\begin{bmatrix} A & B \\\\ C & D \\end{bmatrix} \\), then \\( A^T \\) would be \\( \\begin{bmatrix} A & C \\\\ B & D \\end{bmatrix} \\). I'm sure you, being clever, have already spotted the pattern. Can you summarize it? For example, if the coordinates in \\( A \\) are \\( \\begin{bmatrix} a_{11} & a_{12} \\\\ a_{21} & a_{22} \\end{bmatrix} \\), what would the corresponding coordinates in \\( A^T \\) be? Let's find the answer through an example.</p>\n",
    "<div class=\"text-box\">\n",
    "    <p>$Example10$ Suppose we have a matrix \\( K = \\begin{bmatrix} 1 & 2 & 3 \\\\ 4 & 5 & 6 \\\\ 7 & 8 & 9 \\end{bmatrix} \\), what should \\( K^T \\) be? We can still implement this through Sage.</p>\n",
    "</div>"
   ]
  },
  {
   "cell_type": "code",
   "execution_count": 8,
   "metadata": {
    "collapsed": false
   },
   "outputs": [
    {
     "name": "stdout",
     "output_type": "stream",
     "text": [
      "K is\n",
      "K^T is\n"
     ]
    },
    {
     "data": {
      "text/plain": [
       "[1 4 7]\n",
       "[2 5 8]\n",
       "[3 6 9]"
      ]
     },
     "execution_count": 8,
     "metadata": {
     },
     "output_type": "execute_result"
    }
   ],
   "source": [
    "K=matrix([[1,2,3],[4,5,6],[7,8,9]])\n",
    "print(\"K is\")\n",
    "K\n",
    "print(\"K^T is\")\n",
    "K.transpose()\n",
    "#or we can use K.T"
   ]
  },
  {
   "cell_type": "markdown",
   "metadata": {
    "collapsed": false
   },
   "source": [
    "<p>Matrix transpose also satisfies many properties. For example, \\( (A + B)^T = A^T + B^T \\) and \\( (AB)^T = B^T A^T \\). We will use the following example to demonstrate the latter conclusion.</p>\n",
    "<div class=\"text-box\">\n",
    "<p>$Example11$ Let's calculate \\( (L_1 \\cdot L_2)^T \\) and \\( L_2^T \\cdot L_1^T \\) for the given vectors: \\( L_1 = \\begin{bmatrix} 1 & -2 & 0 \\\\ 3 & 1 & -4 \\end{bmatrix} \\)，\\( L_2 = \\begin{bmatrix} 5 & 0 \\\\ -1 & 2 \\\\ 0 &  3 \\end{bmatrix} \\)</p>\n",
    "</div>"
   ]
  },
  {
   "cell_type": "code",
   "execution_count": 9,
   "metadata": {
    "collapsed": false
   },
   "outputs": [
    {
     "name": "stdout",
     "output_type": "stream",
     "text": [
      "L1 is\n",
      "L2 is\n",
      "(L1*L2)^T is\n",
      "(L2^T)*(L1^T) is\n"
     ]
    },
    {
     "data": {
      "text/plain": [
       "[  7  14]\n",
       "[ -4 -10]"
      ]
     },
     "execution_count": 9,
     "metadata": {
     },
     "output_type": "execute_result"
    }
   ],
   "source": [
    "L1=matrix([[1,-2,0],[3,1,-4]])\n",
    "L2=matrix([[5,0],[-1,2],[0,3]])\n",
    "print(\"L1 is\")\n",
    "L1\n",
    "print(\"L2 is\")\n",
    "L2\n",
    "print(\"(L1*L2)^T is\")\n",
    "(L1*L2).transpose()\n",
    "print(\"(L2^T)*(L1^T) is\")\n",
    "L2.transpose() * L1.transpose()"
   ]
  },
  {
   "cell_type": "markdown",
   "metadata": {
    "collapsed": false
   },
   "source": [
    "<p>Here, I'd like to pose a question to you. Do you know how to calculate the power of a matrix? Is matrix power simply raising each entry of the matrix to the corresponding power? In fact, this conclusion holds true for diagonal matrices, but not for non-diagonal matrices. However, don't worry, at this stage, we won't be calculating very high powers of matrices. If we encounter something like \\(A^2\\), we can simply compute \\(A \\cdot A\\) instead. The specifics of calculating high powers of matrices will be covered in Chapter $6$ on $diagonalization$.</p>"
   ]
  },
  {
   "cell_type": "markdown",
   "metadata": {
    "collapsed": false
   },
   "source": [
    "<p>I'd like to include the concept of $inverses$ in the matrix calculations discussed in section 3.2 because finding the inverse of a matrix is also a matrix operation. Let's consider a $2×2$ matrix $A$:</p>\n",
    "<p>\\[ A = \\begin{bmatrix} a & b \\\\ c & d \\end{bmatrix} \\]</p>\n",
    "<p>We have a handy formula to find the inverse of this matrix:</p>\n",
    "<p>\\[ A^{-1} = \\frac{1}{{ad - bc}} \\begin{bmatrix} d & -b \\\\ -c & a \\end{bmatrix} \\]</p>\n",
    "<p>However, for matrices larger than $2×2$, there are methods to find the inverse, but it's often efficient to compute the inverse of a matrix using SageMath.\n",
    "<div class=\"text-box\">\n",
    "    <p>$Example12$ Let's take an example with a matrix $M$: \\[ M = \\begin{bmatrix} 1 & 2 & -1 \\\\ 2 & 5 & -1 \\\\ 1 & 2 & 0 \\end{bmatrix} \\]\n",
    "    We will now find its inverse and verify our result by checking if \\( MM^{-1} = I \\).</p>\n",
    "</div>"
   ]
  },
  {
   "cell_type": "code",
   "execution_count": 10,
   "metadata": {
    "collapsed": false
   },
   "outputs": [
    {
     "name": "stdout",
     "output_type": "stream",
     "text": [
      "M inverse is\n",
      "[ 2 -2  3]\n",
      "[-1  1 -1]\n",
      "[-1  0  1]\n",
      "Check M*M_inv\n",
      "[1 0 0]\n",
      "[0 1 0]\n",
      "[0 0 1]\n"
     ]
    }
   ],
   "source": [
    "M=matrix([[1,2,-1],[2,5,-1],[1,2,0]])\n",
    "M_inv=M.inverse()\n",
    "print (\"M inverse is\")\n",
    "print (M_inv)\n",
    "print (\"Check M*M_inv\")\n",
    "print (M*M_inv)"
   ]
  },
  {
   "cell_type": "markdown",
   "metadata": {
    "collapsed": false
   },
   "source": [
    "<p>So what we've found is the inverse of matrix $A$. Of course, we won't stop here; knowledge of inverse matrices is not only applicable in this chapter but also comes into play in section $4.4$, \"$Change$ $of$ $Basis$,\" particularly in the operations mentioned below:</p>\n",
    "<div class=\"text-box\">\n",
    "<ol>\n",
    "    <li>\\((A^{-1})^{-1} = A\\)</li>\n",
    "    <li>\\((AB)^{-1} = B^{-1}A^{-1}\\)</li>\n",
    "</ol>\n",
    "</div>\n",
    "<p>Let's explore the second operation through a simple example.</p>\n",
    "\n",
    "<div class=\"text-box\">\n",
    "    <p>$Example13$ Let's calculate \\((NO)^{-1}\\)  and  \\(O^{-1}N^{-1}\\).</p>\n",
    "\\[N = \\begin{bmatrix} 1 & 2 & -1 \\\\ 2 & 5 & -1 \\\\ 1 & 2 & 0 \\end{bmatrix}, O = \\begin{bmatrix} 2 & 3 & 1 \\\\ 4 & 6 & -1 \\\\ 4 & 2 & 0 \\end{bmatrix}\\]\n",
    "</div>"
   ]
  },
  {
   "cell_type": "code",
   "execution_count": 11,
   "metadata": {
    "collapsed": false
   },
   "outputs": [
    {
     "name": "stdout",
     "output_type": "stream",
     "text": [
      "N*O's inverse is\n",
      "[-11/24   1/12   5/24]\n",
      "[  5/12   -1/6   1/12]\n",
      "[   5/3   -5/3    7/3]\n",
      "Ainverse *Binverse is\n",
      "[-11/24   1/12   5/24]\n",
      "[  5/12   -1/6   1/12]\n",
      "[   5/3   -5/3    7/3]\n"
     ]
    }
   ],
   "source": [
    "N=matrix([[1,2,-1],[2,5,-1],[1,2,0]])\n",
    "O=matrix([[2,3,1],[4,6,-1],[4,2,0]])\n",
    "print (\"N*O's inverse is\")\n",
    "print((N*O).inverse())\n",
    "N_2=N.inverse()\n",
    "O_2=O.inverse()\n",
    "print (\"Ainverse *Binverse is\")\n",
    "print(O_2*N_2)"
   ]
  },
  {
   "cell_type": "markdown",
   "metadata": {
    "collapsed": false
   },
   "source": [
    "<p>We can observe that they are the same. How can you remember this formula, and why is it to first find the inverse of $B$ and then multiply it by the inverse of $A$? Let's think about a process: when you define $A$ as putting on your socks and $B$ as putting on your shoes, when we want to undo these steps, you should first take off your shoes, and then take off your socks. In other words, \\((AB)^{-1} = B^{-1}  A^{-1}\\).</p>"
   ]
  },
  {
   "cell_type": "markdown",
   "metadata": {
    "collapsed": false
   },
   "source": [
    "<h5>$3.5^*-$$Markov$ $Chains$ </h5>\n",
    "<p>What is a Markov matrix? I believe the most important thing is that it satisfies two conditions. The first is that the matrix is non-negative, which means that every entry \\(a_{ij}\\) in the Markov matrix should be greater than or equal to $0$. Another important property of a Markov matrix is that the sum of each of its columns is equal to $1$. A Markov matrix is a fascinating matrix, and I'll do my best to introduce you to some Markov matrices that I know.</p>\n",
    "\n",
    "<p>First, we can generate matrices that satisfy the above properties randomly. Each run will produce a different matrix because it's a random process.</p>"
   ]
  },
  {
   "cell_type": "code",
   "execution_count": 13,
   "metadata": {
    "collapsed": false
   },
   "outputs": [
    {
     "name": "stdout",
     "output_type": "stream",
     "text": [
      "[  0 1/3   0]\n",
      "[  0   0 1/2]\n",
      "[  1 2/3 1/2]\n"
     ]
    }
   ],
   "source": [
    "# Define the size of the matrix\n",
    "n = 3  # Size of the matrix\n",
    "\n",
    "# Generate a random Markov matrix\n",
    "markov_matrix = random_matrix(QQ, n, n)  # Using QQ to represent the rational number field\n",
    "\n",
    "# Ensure that the generated matrix is a Markov matrix (the sum of elements in each column equals 1)\n",
    "for j in range(n):\n",
    "    col_sum = sum(markov_matrix[i, j] for i in range(n))\n",
    "    markov_matrix[:, j] = markov_matrix[:, j] / col_sum\n",
    "\n",
    "# Print the generated Markov matrix\n",
    "print(markov_matrix)"
   ]
  },
  {
   "cell_type": "markdown",
   "metadata": {
    "collapsed": false
   },
   "source": [
    "<p>Observe the randomly generated matrices above and determine whether each generation results in a Markov matrix. I would like to discuss a fascinating property of Markov matrices, which is that the product of two Markov matrices is still a Markov matrix. We will also verify this property using randomly generated matrices.</p>"
   ]
  },
  {
   "cell_type": "code",
   "execution_count": 15,
   "metadata": {
    "collapsed": false
   },
   "outputs": [
    {
     "name": "stdout",
     "output_type": "stream",
     "text": [
      "testMarkow_1\n",
      "[ 1/3    0 -1/2]\n",
      "[   0    1  1/2]\n",
      "[ 2/3    0    1]\n",
      "testMarkow_2\n",
      "[-2/9    0 -2/3]\n",
      "[ 1/3    1    1]\n",
      "[ 8/9    0  2/3]\n",
      "testMarkow_3\n",
      "[-14/27      0   -5/9]\n",
      "[   7/9      1    4/3]\n",
      "[ 20/27      0    2/9]\n",
      "testMarkow_4\n",
      "[-44/81      0  -8/27]\n",
      "[ 31/27      1   13/9]\n",
      "[ 32/81      0  -4/27]\n"
     ]
    }
   ],
   "source": [
    "\"\"\"\n",
    "   This function is to define a random Markow matrix\n",
    "\"\"\"\n",
    "\n",
    "# Define the size of the matrix\n",
    "n = 3  # Matrix size\n",
    "\n",
    "# Generate a random Markov matrix\n",
    "markov_matrix = random_matrix(QQ, n, n)  # Using QQ to represent the rational number field\n",
    "\n",
    "# Ensure that the generated matrix is a Markov matrix (the sum of elements in each column equals 1)\n",
    "for j in range(n):\n",
    "    col_sum = sum(markov_matrix[i, j] for i in range(n))\n",
    "    markov_matrix[:, j] = markov_matrix[:, j] / col_sum\n",
    "\n",
    "# Print the generated Markov matrix\n",
    "print(\"testMarkow_1\")\n",
    "print(markov_matrix)\n",
    "print(\"testMarkow_2\")\n",
    "print(markov_matrix*markov_matrix)\n",
    "print(\"testMarkow_3\")\n",
    "print(markov_matrix*markov_matrix*markov_matrix)\n",
    "print(\"testMarkow_4\")\n",
    "print(markov_matrix*markov_matrix*markov_matrix*markov_matrix)"
   ]
  },
  {
   "cell_type": "markdown",
   "metadata": {
    "collapsed": false
   },
   "source": [
    "<p>We have observed through the multiplication of multiple random matrices that Markov matrices do indeed exhibit this characteristic. Can you think of why? (Hint: You can try using the row vector \\(1^T\\) multiplied on the far left.) For Markov matrices, what we are most concerned with is their contribution to studying long-term behavior. Let's look at a specific example below.</p>"
   ]
  },
  {
   "cell_type": "code",
   "execution_count": 16,
   "metadata": {
    "collapsed": false
   },
   "outputs": [
    {
     "name": "stdout",
     "output_type": "stream",
     "text": [
      "All eigenvectors are\n",
      "[1, -0.3333333333333334? - 0.745355992499930?*I, -0.3333333333333334? + 0.745355992499930?*I]\n",
      "All eigenvectors are\n"
     ]
    },
    {
     "name": "stdout",
     "output_type": "stream",
     "text": [
      "[(1, [\n",
      "(1, 1, 3/2)\n",
      "], 1), (-0.3333333333333334? - 0.745355992499930?*I, [(1, -0.500000000000000? + 1.118033988749895?*I, -0.500000000000000? - 1.118033988749895?*I)], 1), (-0.3333333333333334? + 0.745355992499930?*I, [(1, -0.500000000000000? - 1.118033988749895?*I, -0.500000000000000? + 1.118033988749895?*I)], 1)]\n"
     ]
    }
   ],
   "source": [
    "G=matrix(3,3,[0,0,2/3,1,0,0,0,1,1/3])\n",
    "G\n",
    "print(\"All eigenvectors are\")\n",
    "print(G.eigenvalues())\n",
    "print(\"All eigenvectors are\")\n",
    "print(G.right_eigenvectors())"
   ]
  },
  {
   "cell_type": "markdown",
   "metadata": {
    "collapsed": false
   },
   "source": [
    "<p>By observing the eigenvalues we have outputted, we can see that the absolute values of the other two eigenvalues are all within \\(|1|\\), meaning that the absolute values of the other eigenvalues do not exceed \\(1\\). Another thing we can observe is that only the dominant eigenvector is a non-negative vector.</p>"
   ]
  },
  {
   "cell_type": "code",
   "execution_count": 17,
   "metadata": {
    "collapsed": false
   },
   "outputs": [
    {
     "name": "stdout",
     "output_type": "stream",
     "text": [
      "(72670611493141823277045902932/42391158275216203514294433201, 24223543699881339092309899804/14130386091738734504764811067, 109005707058511380531790996862/42391158275216203514294433201)\n",
      "(1.7, 1.7, 2.6)\n"
     ]
    }
   ],
   "source": [
    "\"\"\"\n",
    "    This function is to computer the eigenvalue/eigenvector for our Markov matrix, studying the long term behavior.\n",
    "\"\"\"\n",
    "\n",
    "# Define a non-negative matrix A\n",
    "A = matrix([[0, 0, 2/3], [1, 0, 0], [0, 1, 1/3]])  # fill in with non-negative values\n",
    "\n",
    "# Define a non-negative initial vector w0\n",
    "w0 = vector([1, 2, 3])  # fill in with non-negative values\n",
    "\n",
    "# Compute the eigenvalues and right eigenvectors of A\n",
    "eigenvalues = A.eigenvalues()\n",
    "eigenvectors = A.eigenvectors_right()\n",
    "\n",
    "# Find the dominant eigenvalue and its corresponding eigenvector\n",
    "dominant_eigenvalue = max(eigenvalues, key=abs)\n",
    "dominant_eigenvector = None\n",
    "for eigenvalue, eigenvector_list, multiplicity in eigenvectors:\n",
    "    if eigenvalue == dominant_eigenvalue:\n",
    "        dominant_eigenvector = eigenvector_list[0]\n",
    "        break\n",
    "\n",
    "# Normalize the dominant eigenvector for comparison\n",
    "dominant_eigenvector_normalized = dominant_eigenvector / dominant_eigenvector.norm()\n",
    "\n",
    "# Initialize a variable for the result\n",
    "result = w0\n",
    "\n",
    "# Set a maximum number of iterations\n",
    "max_iterations = 100\n",
    "\n",
    "# Set a tolerance for convergence\n",
    "tolerance = 1e-6\n",
    "\n",
    "# Iterate and multiply\n",
    "for k in range(max_iterations):\n",
    "    new_result = A^k * w0\n",
    "    # Normalize the result for comparison\n",
    "    new_result_normalized = new_result / new_result.norm()\n",
    "\n",
    "    # Check for convergence using a tolerance\n",
    "    if (new_result_normalized - dominant_eigenvector_normalized).norm() < tolerance:\n",
    "        break\n",
    "\n",
    "    result = new_result\n",
    "\n",
    "# Display the result\n",
    "print(result)\n",
    "print(result.n(digits=2))"
   ]
  },
  {
   "cell_type": "markdown",
   "metadata": {
    "collapsed": false
   },
   "source": [
    "<p>Super cool! It seems like we've discovered a fascinating aspect of Markov matrices. Taking a closer look at the dominant eigenvector above, you'll notice that it's just a scalar multiple of the dominant eigenvector! Isn't that intriguing? Indeed, we can use this to study long-term behavior! I can't wait to share with you how it works in google pagerank.</p>\n",
    "<div class=\"text-box\">\n",
    "    <p>$Example13$ Compute the page rank of the $5$ webpages you see in the following directed graph. An arrow from $i$ to $j$ indicates that page $i$ links to page $j$. Use the rule that when you are at a webpage you will teleport with probability \\(\\frac{1}{4}\\) and follow a link with probability \\(\\frac{3}{4}\\). Assume that all links from a page have equal probability of being followed.</p>\n",
    "</div>"
   ]
  },
  {
   "cell_type": "code",
   "execution_count": 18,
   "metadata": {
    "collapsed": false
   },
   "outputs": [
    {
     "data": {
      "image/png": "[encoded data removed]",
      "text/plain": [
       "<Figure size 640x480 with 1 Axes>"
      ]
     },
     "execution_count": 18,
     "metadata": {
     },
     "output_type": "execute_result"
    }
   ],
   "source": [
    "import networkx as nx\n",
    "import matplotlib.pyplot as plt\n",
    "\n",
    "# Create a directed graph\n",
    "G = nx.DiGraph()\n",
    "\n",
    "# Add nodes\n",
    "nodes = [1, 2, 3, 4, 5]\n",
    "G.add_nodes_from(nodes)\n",
    "\n",
    "# Add edges\n",
    "edges = [(1, 4), (2, 1), (3, 1), (4, 2), (4, 5), (5, 3)]\n",
    "G.add_edges_from(edges)\n",
    "\n",
    "# Draw the graph\n",
    "pos = nx.spring_layout(G)  # Choose a layout method (spring layout in this case)\n",
    "nx.draw(G, pos, with_labels=True, node_size=500, node_color='skyblue', font_size=12, font_color='black', arrowsize=15)\n",
    "\n",
    "# Show the graph\n",
    "plt.show()"
   ]
  },
  {
   "cell_type": "markdown",
   "metadata": {
    "collapsed": false
   },
   "source": [
    "<p>Based on the instructions in the question and with reference to the diagram, we can construct the following matrices:</p>\n",
    "<p>$Link$ = \\(\\begin{bmatrix}\n",
    "0 & 1 & 1 & 0 & 0 \\\\\n",
    "0 & 0 & 0 & \\frac{1}{3} & 0 \\\\\n",
    "0 & 0 & 0 & \\frac{1}{3} & 1 \\\\\n",
    "1 & 0 & 0 & 0 & 0 \\\\\n",
    "0 & 0 & 0 & \\frac{1}{3} & 0 \\\\\n",
    "\\end{bmatrix}\\)\n",
    ",  $Teleport$ = \\(\\begin{bmatrix}\n",
    "\\frac{1}{5} & \\frac{1}{5} & \\frac{1}{5} & \\frac{1}{5} & \\frac{1}{5} \\\\\n",
    "\\frac{1}{5} & \\frac{1}{5} & \\frac{1}{5} & \\frac{1}{5} & \\frac{1}{5} \\\\\n",
    "\\frac{1}{5} & \\frac{1}{5} & \\frac{1}{5} & \\frac{1}{5} & \\frac{1}{5} \\\\\n",
    "\\frac{1}{5} & \\frac{1}{5} & \\frac{1}{5} & \\frac{1}{5} & \\frac{1}{5} \\\\\n",
    "\\frac{1}{5} & \\frac{1}{5} & \\frac{1}{5} & \\frac{1}{5} & \\frac{1}{5} \\\\\n",
    "\\end{bmatrix}\\)</p>\n",
    "\n",
    "<p>Now, the matrix that combines these with teleportation, known as the transition matrix with teleportation, can be represented as: $Page$ = \\(\\frac{3}{4} \\cdot\\) $Link$ + \\(\\frac{1}{4} \\cdot\\) $Teleport$</p>\n",
    "\n",
    "<p>We will calculate this transition matrix using Sage:</p>"
   ]
  },
  {
   "cell_type": "code",
   "execution_count": 19,
   "metadata": {
    "collapsed": false
   },
   "outputs": [
    {
     "name": "stdout",
     "output_type": "stream",
     "text": [
      "[1/20  4/5  4/5 1/20 1/20]\n",
      "[1/20 1/20 1/20 3/10 1/20]\n",
      "[1/20 1/20 1/20 3/10  4/5]\n",
      "[ 4/5 1/20 1/20 1/20 1/20]\n",
      "[1/20 1/20 1/20 3/10 1/20]\n"
     ]
    }
   ],
   "source": [
    "# Define the Link matrix\n",
    "Link = Matrix([[0, 1, 1, 0, 0],\n",
    "               [0, 0, 0, 1/3, 0],\n",
    "               [0, 0, 0, 1/3, 1],\n",
    "               [1, 0, 0, 0, 0],\n",
    "               [0, 0, 0, 1/3, 0]])\n",
    "\n",
    "# Define the Teleport matrix\n",
    "Teleport = Matrix([[1/5, 1/5, 1/5, 1/5, 1/5],\n",
    "                   [1/5, 1/5, 1/5, 1/5, 1/5],\n",
    "                   [1/5, 1/5, 1/5, 1/5, 1/5],\n",
    "                   [1/5, 1/5, 1/5, 1/5, 1/5],\n",
    "                   [1/5, 1/5, 1/5, 1/5, 1/5]])\n",
    "\n",
    "# Define the transition matrix with teleportation\n",
    "Page = (3/4) * Link + (1/4) * Teleport\n",
    "print(Page)"
   ]
  },
  {
   "cell_type": "code",
   "execution_count": 20,
   "metadata": {
    "collapsed": false
   },
   "outputs": [
    {
     "data": {
      "text/plain": [
       "[1, 0, -0.3318700005183316?, -0.2090649997408343? - 0.6164633182425810?*I, -0.2090649997408343? + 0.6164633182425810?*I]"
      ]
     },
     "execution_count": 20,
     "metadata": {
     },
     "output_type": "execute_result"
    }
   ],
   "source": [
    "Page.eigenvalues()"
   ]
  },
  {
   "cell_type": "code",
   "execution_count": 21,
   "metadata": {
    "collapsed": false
   },
   "outputs": [
    {
     "data": {
      "text/plain": [
       "[(1,\n",
       "  [\n",
       "  (1, 92/229, 161/229, 211/229, 92/229)\n",
       "  ],\n",
       "  1),\n",
       " (0,\n",
       "  [\n",
       "  (0, 1, -1, 0, 0)\n",
       "  ],\n",
       "  1),\n",
       " (-0.3318700005183316?,\n",
       "  [(1, 1.702414383919316?, -2.144907717943758?, -2.259921049894873?, 1.702414383919316?)],\n",
       "  1),\n",
       " (-0.2090649997408343? - 0.6164633182425810?*I,\n",
       "  [(1, -0.3512071919596577? - 0.2691725449816134?*I, 0.07245385897187869? - 0.5527785460084946?*I, -0.3700394750525635? + 1.091123635971722?*I, -0.3512071919596577? - 0.2691725449816134?*I)],\n",
       "  1),\n",
       " (-0.2090649997408343? + 0.6164633182425810?*I,\n",
       "  [(1, -0.3512071919596577? + 0.2691725449816134?*I, 0.07245385897187869? + 0.5527785460084946?*I, -0.3700394750525635? - 1.091123635971722?*I, -0.3512071919596577? + 0.2691725449816134?*I)],\n",
       "  1)]"
      ]
     },
     "execution_count": 21,
     "metadata": {
     },
     "output_type": "execute_result"
    }
   ],
   "source": [
    "Page.right_eigenvectors()"
   ]
  },
  {
   "cell_type": "markdown",
   "metadata": {
    "collapsed": false
   },
   "source": [
    "Maybe we need to rescale it to make sure the probability is $1$, but maybe we can figure out the order of preference for these sites directly from the first column of dominant eigenvector, which we call the page rank vector.That is $1>4>3>5=2$"
   ]
  },
  {
   "cell_type": "markdown",
   "metadata": {
    "collapsed": false
   },
   "source": [
    "<h5>$3.4^*-PA=LU$ </h5>\n",
    "<p> It represents the relationship between matrix decomposition and permutation, commonly used in linear algebra and numerical analysis. Let me explain the meaning of each symbol:</p>\n",
    "    <ul>\n",
    "        <li>\"$P$\" stands for the $permutation$ $matrix$, which represents the permutation of rows. The $P$ matrix is a square matrix with the characteristic that each row and each column have exactly one element equal to $1$, and all other elements are $0$. The position of this $1$ indicates the row permutation, i.e., the reordering of rows in the original matrix.</li>\n",
    "        <li>\"$A$\" represents the original matrix, which is the matrix that needs to undergo $LU$ decomposition.</li>\n",
    "        <li>\"$L$\" represents the lower triangular matrix, which is the lower triangular part of the $LU$ decomposition, with all elements above the main diagonal being $0$, and some elements below the main diagonal may be non-zero. The $L$ matrix is used to represent the lower triangular part of the original matrix $A$.</li>\n",
    "        <li>\"$U$\" represents the upper triangular matrix, which is the upper triangular part of the $LU$ decomposition, with all elements below the main diagonal being $0$, and some elements above the main diagonal may be non-zero. The U matrix is used to represent the upper triangular part of the original matrix $A$.</li>\n",
    "    </ul>"
   ]
  },
  {
   "cell_type": "code",
   "execution_count": 22,
   "metadata": {
    "collapsed": false
   },
   "outputs": [
    {
     "name": "stdout",
     "output_type": "stream",
     "text": [
      "A=\n",
      "[ 2  1  1]\n",
      "[ 4 -6  0]\n",
      "[-2  7  2]\n",
      "\n",
      "P (row permutation matrix)=\n",
      "[1 0 0]\n",
      "[0 1 0]\n",
      "[0 0 1]\n",
      "\n",
      "L (lower triangular matrix)=\n",
      "[ 1  0  0]\n",
      "[ 2  1  0]\n",
      "[-1 -1  1]\n",
      "\n",
      "U (upper triangular matrix)=\n",
      "[ 2  1  1]\n",
      "[ 0 -8 -2]\n",
      "[ 0  0  1]\n"
     ]
    }
   ],
   "source": [
    "\"\"\"\n",
    "    This function is for illustrating the process of LU decomposition.\n",
    "   \n",
    "    Inputs:\n",
    "    -------\n",
    "    The matrix we want to use the LU decomposition.\n",
    "    \n",
    "    Outputs:\n",
    "    --------\n",
    "    P: the permutation matrix\n",
    "    A: origin matrix we used\n",
    "    L: lower triangular matrix\n",
    "    U: upper triangular matrix\n",
    "\"\"\"\n",
    "    \n",
    "# Create matrix A\n",
    "A = matrix([(2,1,1),(4,-6,0),(-2,7,2)])\n",
    "\n",
    "# Perform LU decomposition and obtain P, L, and U matrices\n",
    "# Use pivot='nonzero' to select non-zero pivots for numerical stability and correctness\n",
    "P, L, U = A.LU(pivot='nonzero')\n",
    "\n",
    "# Transpose the P matrix (to convert column permutation matrix into row permutation matrix)\n",
    "P = P.T\n",
    "\n",
    "# Print the original matrix A\n",
    "print(f'A=\\n{A}\\n')\n",
    "\n",
    "# Print the permutation matrix P\n",
    "print(f'P (row permutation matrix)=\\n{P}\\n')\n",
    "\n",
    "# Print the lower triangular matrix L\n",
    "print(f'L (lower triangular matrix)=\\n{L}\\n')\n",
    "\n",
    "# Print the upper triangular matrix U\n",
    "print(f'U (upper triangular matrix)=\\n{U}')"
   ]
  },
  {
   "cell_type": "markdown",
   "metadata": {
    "collapsed": false
   },
   "source": [
    "> _Dear linear algebraist：This is the end of my introduction to the matrix, thank you for your use, I hope this tool can help you more or less a little, I hope everything goes well with your future studies, if you encounter any problems, feel free to contact me:\\)_\n",
    ">\n",
    "> Best Regards,\n",
    ">\n",
    "> Zihan@UW\n",
    "\n"
   ]
  }
 ],
 "metadata": {
  "kernelspec": {
   "argv": [
    "sage-10.3",
    "--python",
    "-m",
    "sage.repl.ipython_kernel",
    "--matplotlib=inline",
    "-f",
    "{connection_file}"
   ],
   "display_name": "SageMath 10.3",
   "env": {
   },
   "language": "sagemath",
   "metadata": {
    "cocalc": {
     "description": "Open-source mathematical software system",
     "priority": 10,
     "url": "https://www.sagemath.org/"
    }
   },
   "name": "sage-10.3",
   "resource_dir": "/ext/jupyter/kernels/sage-10.3"
  },
  "language_info": {
   "codemirror_mode": {
    "name": "ipython",
    "version": 2
   },
   "file_extension": ".py",
   "mimetype": "text/x-python",
   "name": "python",
   "nbconvert_exporter": "python",
   "pygments_lexer": "ipython2",
   "version": "2.7.12+"
  }
 },
 "nbformat": 4,
 "nbformat_minor": 4
}