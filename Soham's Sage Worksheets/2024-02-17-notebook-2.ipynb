{
 "cells": [
  {
   "cell_type": "markdown",
   "metadata": {
    "collapsed": false
   },
   "source": [
    "0216/examples"
   ]
  },
  {
   "cell_type": "code",
   "execution_count": 18,
   "metadata": {
    "collapsed": false
   },
   "outputs": [
   ],
   "source": [
    "import itertools\n",
    "\n",
    "def mutate(M, i):\n",
    "    # Return M mutated at vertex i.\n",
    "    n = len(M)\n",
    "    M_ = [row[::] for row in M]\n",
    "    for j in range(len(M)):\n",
    "        for k in range(len(M)):\n",
    "            if j != k and M[j][i] > 0 and M[i][k] > 0:\n",
    "                print(j,k)\n",
    "                M_[j][k] += M[j][i] * M[i][k]\n",
    "                M_[k][j] -= M[j][i] * M[i][k]\n",
    "    for j in range(len(M)):\n",
    "        M_[j][i] *= -1\n",
    "        M_[i][j] *= -1\n",
    "    return M_\n",
    "\n",
    "def is_3_cyclic(M):\n",
    "    # Returns whether M contains a 3 cycle or not.\n",
    "    n = len(M)\n",
    "    for (a,b,c) in itertools.permutations(range(n), 3):\n",
    "        if M[a][b] > 0 and M[b][c] > 0 and M[c][a] > 0:\n",
    "            return True\n",
    "    return False\n",
    "\n",
    "def is_4_cyclic(M):\n",
    "    # Returns whether M contains a 4 cycle or not.\n",
    "    n = len(M)\n",
    "    for (a,b,c,d) in itertools.permutations(range(n), 4):\n",
    "        if M[a][b] > 0 and M[b][c] > 0 and M[c][d] > 0 and M[d][a] > 0:\n",
    "            return True\n",
    "    return False\n",
    "\n",
    "for (a,b,c,d,e,f) in itertools.combinations(range(-10, 11), 6):\n",
    "    M = [\n",
    "        [0,  a,  b,  c],\n",
    "        [-a, 0,  d,  e],\n",
    "        [-b, -d, 0,  f],\n",
    "        [-c, -e, -f, 0],\n",
    "    ]"
   ]
  },
  {
   "cell_type": "code",
   "execution_count": 19,
   "metadata": {
    "collapsed": false
   },
   "outputs": [
    {
     "name": "stdout",
     "output_type": "stream",
     "text": [
      "True\n",
      "False\n"
     ]
    }
   ],
   "source": [
    "#Herman's Example\n",
    "M = [[0, -3, -3, -3], [3, 0, -3, 1], [3, 3, 0, -3], [3, -1, 3, 0]]\n",
    "print(is_3_cyclic(M))\n",
    "print(is_4_cyclic(M))"
   ]
  },
  {
   "cell_type": "code",
   "execution_count": 7,
   "metadata": {
    "collapsed": false
   },
   "outputs": [
    {
     "name": "stdout",
     "output_type": "stream",
     "text": [
      "False\n",
      "True\n"
     ]
    }
   ],
   "source": [
    "#Our Original Example\n",
    "M = [[0,-1,0,1],[1,0,-1,0],[0,1,0,-1], [-1,0,1,0]]\n",
    "print(is_3_cyclic(M))\n",
    "print(is_4_cyclic(M))"
   ]
  },
  {
   "cell_type": "code",
   "execution_count": 8,
   "metadata": {
    "collapsed": false
   },
   "outputs": [
    {
     "name": "stdout",
     "output_type": "stream",
     "text": [
      "True\n",
      "False\n"
     ]
    }
   ],
   "source": [
    "#Mutatation at 1 of our original example, mutate at 3 also works. here we are mutating at 1 \n",
    "M = [[0,-1,0,1],[1,0,1,-1],[0,-1,0,1], [-1,1,1,0]]\n",
    "print(is_3_cyclic(M))\n",
    "print(is_4_cyclic(M))"
   ]
  },
  {
   "cell_type": "code",
   "execution_count": 9,
   "metadata": {
    "collapsed": false
   },
   "outputs": [
    {
     "name": "stdout",
     "output_type": "stream",
     "text": [
      "True\n",
      "False\n"
     ]
    }
   ],
   "source": [
    "#Mutatation at 2 of our original example\n",
    "M = [[0,1,-1,1],[-1,0,1,0],[1,-1,0,-1], [-1,0,1,0]]\n",
    "print(is_3_cyclic(M))\n",
    "print(is_4_cyclic(M))"
   ]
  },
  {
   "cell_type": "code",
   "execution_count": 10,
   "metadata": {
    "collapsed": false
   },
   "outputs": [
    {
     "name": "stdout",
     "output_type": "stream",
     "text": [
      "True\n",
      "False\n"
     ]
    }
   ],
   "source": [
    "#Mutatation at 3 of our original example\n",
    "M = [[0,-1,0,1],[1,0,1,-1],[0,-1,0,1], [-1,1,-1,0]]\n",
    "print(is_3_cyclic(M))\n",
    "print(is_4_cyclic(M))"
   ]
  },
  {
   "cell_type": "code",
   "execution_count": 11,
   "metadata": {
    "collapsed": false
   },
   "outputs": [
    {
     "name": "stdout",
     "output_type": "stream",
     "text": [
      "True\n",
      "False\n"
     ]
    }
   ],
   "source": [
    "#Mutatation at 4 of our original example\n",
    "M = [[0,-1,1,-1],[1,0,-1,0],[-1,1,0,1], [1,0,-1,0]]\n",
    "print(is_3_cyclic(M))\n",
    "print(is_4_cyclic(M))"
   ]
  },
  {
   "cell_type": "code",
   "execution_count": 12,
   "metadata": {
    "collapsed": false
   },
   "outputs": [
    {
     "name": "stdout",
     "output_type": "stream",
     "text": [
      "False\n",
      "False\n"
     ]
    }
   ],
   "source": [
    "#Mutatation at 3,4 of our original example -> acylic\n",
    "P = [[0,0,0,1],[0,0,0,-1],[0,0,0,1], [-1,1,-1,0]]\n",
    "print(is_3_cyclic(P))\n",
    "print(is_4_cyclic(P))"
   ]
  }
 ],
 "metadata": {
  "kernelspec": {
   "argv": [
    "/usr/bin/python3",
    "-m",
    "ipykernel",
    "--HistoryManager.enabled=False",
    "--matplotlib=inline",
    "-c",
    "%config InlineBackend.figure_formats = set(['retina'])\nimport matplotlib; matplotlib.rcParams['figure.figsize'] = (12, 7)",
    "-f",
    "{connection_file}"
   ],
   "display_name": "Python 3 (system-wide)",
   "env": {
   },
   "language": "python",
   "metadata": {
    "cocalc": {
     "description": "Python 3 programming language",
     "priority": 100,
     "url": "https://www.python.org/"
    }
   },
   "name": "python3",
   "resource_dir": "/ext/jupyter/kernels/python3"
  },
  "language_info": {
   "codemirror_mode": {
    "name": "ipython",
    "version": 3
   },
   "file_extension": ".py",
   "mimetype": "text/x-python",
   "name": "python",
   "nbconvert_exporter": "python",
   "pygments_lexer": "ipython3",
   "version": "3.10.12"
  }
 },
 "nbformat": 4,
 "nbformat_minor": 4
}