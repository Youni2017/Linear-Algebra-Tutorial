{
 "cells": [
  {
   "cell_type": "markdown",
   "metadata": {
    "collapsed": false
   },
   "source": [
   ]
  },
  {
   "cell_type": "markdown",
   "metadata": {
    "collapsed": false
   },
   "source": [
    "<span style='font-size:large'>**Chapter 5: Determinants**</span><span style='font-size:large'> </span>\n",
    "\n",
    "<span style='font-size:large'>By: Soham Bhosale</span>\n",
    "\n",
    "<span style='font-size:large'>The determinant of a matrix is a single numerical value which is used when calculating the inverse or when solving systems of linear equations. Let's look at some basic examples first.</span>\n",
    "\n"
   ]
  },
  {
   "cell_type": "code",
   "execution_count": 3,
   "metadata": {
    "collapsed": false
   },
   "outputs": [
    {
     "data": {
      "text/plain": [
       "[-3  1  2]\n",
       "[ 5  5 -8]\n",
       "[ 4  2 -5]"
      ]
     },
     "execution_count": 3,
     "metadata": {
     },
     "output_type": "execute_result"
    }
   ],
   "source": [
    "A = Matrix(ZZ, [[-3,1,2],[5,5,-8],[4,2,-5]])\n",
    "A"
   ]
  },
  {
   "cell_type": "code",
   "execution_count": 4,
   "metadata": {
    "collapsed": false
   },
   "outputs": [
    {
     "data": {
      "text/plain": [
       "0"
      ]
     },
     "execution_count": 4,
     "metadata": {
     },
     "output_type": "execute_result"
    }
   ],
   "source": [
    "A.det()"
   ]
  },
  {
   "cell_type": "code",
   "execution_count": 8,
   "metadata": {
    "collapsed": false
   },
   "outputs": [
    {
     "data": {
      "text/plain": [
       "[ 4 -1  1  0]\n",
       "[ 1  7  3  5]\n",
       "[ 0 -3 -2  1]\n",
       "[ 2  4  8 -1]"
      ]
     },
     "execution_count": 8,
     "metadata": {
     },
     "output_type": "execute_result"
    }
   ],
   "source": [
    "B = Matrix(ZZ, [[4, -1, 1, 0],[1, 7, 3, 5],[0,-3, -2, 1], [2, 4, 8, -1]])\n",
    "B"
   ]
  },
  {
   "cell_type": "code",
   "execution_count": 9,
   "metadata": {
    "collapsed": false
   },
   "outputs": [
    {
     "data": {
      "text/plain": [
       "-413"
      ]
     },
     "execution_count": 9,
     "metadata": {
     },
     "output_type": "execute_result"
    }
   ],
   "source": [
    "B.det()"
   ]
  },
  {
   "cell_type": "markdown",
   "metadata": {
    "collapsed": false
   },
   "source": [
    "![](.2024-01-26-notebook-4.ipynb.upload/paste-0.5911853387532666)\n"
   ]
  },
  {
   "cell_type": "markdown",
   "metadata": {
    "collapsed": false
   },
   "source": [
   ]
  },
  {
   "cell_type": "markdown",
   "metadata": {
    "collapsed": false
   },
   "source": [
    "### <span style='font-size:large'>Now we are going to look at some interesting properties of Determinants. </span>\n",
    "\n",
    "## <span style='font-size:large'>The first property of determinants we are going to look at is </span>\n",
    "\n",
    "$det(A*B) = det(A) * det(B)$\n",
    "\n",
    "<span style='font-size:large'>And</span>\n",
    "\n",
    "$det(B*A) = det(B) * det(A)$\n",
    "\n"
   ]
  },
  {
   "cell_type": "code",
   "execution_count": 2,
   "metadata": {
    "collapsed": false
   },
   "outputs": [
    {
     "data": {
      "text/plain": [
       "[-1  1 -1  1]\n",
       "[11  0 -3  4]\n",
       "[ 2  1 -1 -2]\n",
       "[ 0  1 -4 -1]"
      ]
     },
     "execution_count": 2,
     "metadata": {
     },
     "output_type": "execute_result"
    }
   ],
   "source": [
    "C=random_matrix(ZZ,4,4)\n",
    "C"
   ]
  },
  {
   "cell_type": "code",
   "execution_count": 3,
   "metadata": {
    "collapsed": false
   },
   "outputs": [
    {
     "data": {
      "text/plain": [
       "[  2   1  -1   0]\n",
       "[ 14 -47 -16  -1]\n",
       "[  1   1  -1   1]\n",
       "[ -1   4   1  -2]"
      ]
     },
     "execution_count": 3,
     "metadata": {
     },
     "output_type": "execute_result"
    }
   ],
   "source": [
    "D=random_matrix(ZZ,4,4)\n",
    "D"
   ]
  },
  {
   "cell_type": "code",
   "execution_count": 4,
   "metadata": {
    "collapsed": false
   },
   "outputs": [
    {
     "data": {
      "text/plain": [
       "[ 10 -45 -13  -4]\n",
       "[ 15  24  -4 -11]\n",
       "[ 19 -54 -19   2]\n",
       "[ 11 -55 -13  -3]"
      ]
     },
     "execution_count": 4,
     "metadata": {
     },
     "output_type": "execute_result"
    }
   ],
   "source": [
    "C*D"
   ]
  },
  {
   "cell_type": "code",
   "execution_count": 5,
   "metadata": {
    "collapsed": false
   },
   "outputs": [
    {
     "data": {
      "text/plain": [
       "-22752"
      ]
     },
     "execution_count": 5,
     "metadata": {
     },
     "output_type": "execute_result"
    }
   ],
   "source": [
    "det(C*D)"
   ]
  },
  {
   "cell_type": "code",
   "execution_count": 6,
   "metadata": {
    "collapsed": false
   },
   "outputs": [
    {
     "data": {
      "text/plain": [
       "-22752"
      ]
     },
     "execution_count": 6,
     "metadata": {
     },
     "output_type": "execute_result"
    }
   ],
   "source": [
    "det(C) * det(D)"
   ]
  },
  {
   "cell_type": "code",
   "execution_count": 7,
   "metadata": {
    "collapsed": false
   },
   "outputs": [
    {
     "data": {
      "text/plain": [
       "[   7    1   -4    8]\n",
       "[-563   -3  147 -141]\n",
       "[   8    1   -7    6]\n",
       "[  47   -2   -4   15]"
      ]
     },
     "execution_count": 7,
     "metadata": {
     },
     "output_type": "execute_result"
    }
   ],
   "source": [
    "D*C"
   ]
  },
  {
   "cell_type": "code",
   "execution_count": 8,
   "metadata": {
    "collapsed": false
   },
   "outputs": [
    {
     "data": {
      "text/plain": [
       "-22752"
      ]
     },
     "execution_count": 8,
     "metadata": {
     },
     "output_type": "execute_result"
    }
   ],
   "source": [
    "det(D*C)"
   ]
  },
  {
   "cell_type": "code",
   "execution_count": 9,
   "metadata": {
    "collapsed": false
   },
   "outputs": [
    {
     "data": {
      "text/plain": [
       "-22752"
      ]
     },
     "execution_count": 9,
     "metadata": {
     },
     "output_type": "execute_result"
    }
   ],
   "source": [
    "det(D) * det(C)"
   ]
  },
  {
   "cell_type": "markdown",
   "metadata": {
    "collapsed": false
   },
   "source": [
    "<span style='font-size:large'>The addition equivalent of this property, namely, </span>$det(A+B) = det(A)+det(B)$<span style='font-size:large'> is not always true. Here's an example</span>\n"
   ]
  },
  {
   "cell_type": "code",
   "execution_count": 10,
   "metadata": {
    "collapsed": false
   },
   "outputs": [
    {
     "name": "stdout",
     "output_type": "stream",
     "text": [
      "det(C+D) =  1776\n",
      "det(C) + det(D) =  -14\n"
     ]
    }
   ],
   "source": [
    "print(\"det(C+D) = \", det(C + D))\n",
    "print(\"det(C) + det(D) = \", det(C) + det(D))"
   ]
  },
  {
   "cell_type": "markdown",
   "metadata": {
    "collapsed": false
   },
   "source": [
    "<span style='font-size:large'>Now let's look at elementary matrices and their effect on the determinants</span>\n",
    "\n"
   ]
  },
  {
   "cell_type": "code",
   "execution_count": 0,
   "metadata": {
    "collapsed": false
   },
   "outputs": [
   ],
   "source": [
    "elementary_matrix?"
   ]
  },
  {
   "cell_type": "code",
   "execution_count": 21,
   "metadata": {
    "collapsed": false
   },
   "outputs": [
    {
     "data": {
      "text/plain": [
       "[1 0 0]\n",
       "[0 1 4]\n",
       "[0 0 1]"
      ]
     },
     "execution_count": 21,
     "metadata": {
     },
     "output_type": "execute_result"
    }
   ],
   "source": [
    "E = elementary_matrix(3, row1 = 1, row2 = 2, scale = 4)\n",
    "E"
   ]
  },
  {
   "cell_type": "markdown",
   "metadata": {
    "collapsed": false
   },
   "source": [
    "### <span style='font-size:large'>Determinants of matrices can be calculated using something called the cofactor expansion method.</span>\n",
    "\n",
    "<span style='font-size:large'>Here is the formula: </span>\n",
    "\n",
    "$det(A) = a_{11}C_{11} + a_{12}C_{12} + ...  a_{1n}C_{1n}$\n",
    "\n",
    "<span style='font-size:large'>Where </span>$C_{11}...C_{1n}$<span style='font-size:large'> are the cofactors of </span>$a_{11}...a_{1n}$<span style='font-size:large'>.</span>\n",
    "\n",
    "<span style='font-size:large'>We can represent this using an example to see how sage calculates it</span>\n"
   ]
  },
  {
   "cell_type": "markdown",
   "metadata": {
    "collapsed": false
   },
   "source": [
   ]
  },
  {
   "cell_type": "code",
   "execution_count": 12,
   "metadata": {
    "collapsed": false
   },
   "outputs": [
    {
     "data": {
      "text/plain": [
       "[a b c]\n",
       "[d e f]\n",
       "[g h i]"
      ]
     },
     "execution_count": 12,
     "metadata": {
     },
     "output_type": "execute_result"
    }
   ],
   "source": [
    "var('a', 'b', 'c', 'd', 'e', 'f', 'g', 'h', 'i')\n",
    "A=matrix(3, 3, [a, b, c, d, e, f, g, h, i])\n",
    "A"
   ]
  },
  {
   "cell_type": "code",
   "execution_count": 13,
   "metadata": {
    "collapsed": false
   },
   "outputs": [
    {
     "data": {
      "text/plain": [
       "-(f*h - e*i)*a + (c*h - b*i)*d - (c*e - b*f)*g"
      ]
     },
     "execution_count": 13,
     "metadata": {
     },
     "output_type": "execute_result"
    }
   ],
   "source": [
    "A.det()"
   ]
  },
  {
   "cell_type": "markdown",
   "metadata": {
    "collapsed": false
   },
   "source": [
   ]
  },
  {
   "cell_type": "markdown",
   "metadata": {
    "collapsed": false
   },
   "source": [
    "<span style='font-size:large'>Can also see how elementary matrices change a matrix \\(row\\-operations\\)</span>\n",
    "\n"
   ]
  },
  {
   "cell_type": "code",
   "execution_count": 14,
   "metadata": {
    "collapsed": false
   },
   "outputs": [
    {
     "data": {
      "text/plain": [
       "[1 0 0]\n",
       "[0 1 4]\n",
       "[0 0 1]"
      ]
     },
     "execution_count": 14,
     "metadata": {
     },
     "output_type": "execute_result"
    }
   ],
   "source": [
    "E = elementary_matrix(3, row1 = 1, row2 = 2, scale = 4)\n",
    "E"
   ]
  },
  {
   "cell_type": "code",
   "execution_count": 15,
   "metadata": {
    "collapsed": false
   },
   "outputs": [
    {
     "data": {
      "text/plain": [
       "[      a       b       c]\n",
       "[d + 4*g e + 4*h f + 4*i]\n",
       "[      g       h       i]"
      ]
     },
     "execution_count": 15,
     "metadata": {
     },
     "output_type": "execute_result"
    }
   ],
   "source": [
    "E*A"
   ]
  },
  {
   "cell_type": "code",
   "execution_count": 16,
   "metadata": {
    "collapsed": false
   },
   "outputs": [
    {
     "data": {
      "text/plain": [
       "[      a       b 4*b + c]\n",
       "[      d       e 4*e + f]\n",
       "[      g       h 4*h + i]"
      ]
     },
     "execution_count": 16,
     "metadata": {
     },
     "output_type": "execute_result"
    }
   ],
   "source": [
    "A*E"
   ]
  },
  {
   "cell_type": "code",
   "execution_count": 27,
   "metadata": {
    "collapsed": false
   },
   "outputs": [
    {
     "data": {
      "text/plain": [
       "[  8   1  -2]\n",
       "[-12 -19   0]\n",
       "[ -1   0  -1]"
      ]
     },
     "execution_count": 27,
     "metadata": {
     },
     "output_type": "execute_result"
    }
   ],
   "source": [
    "B=random_matrix(ZZ, 3, 3)\n",
    "B"
   ]
  },
  {
   "cell_type": "code",
   "execution_count": 28,
   "metadata": {
    "collapsed": false
   },
   "outputs": [
    {
     "data": {
      "text/plain": [
       "[  8   1  -2]\n",
       "[-16 -19  -4]\n",
       "[ -1   0  -1]"
      ]
     },
     "execution_count": 28,
     "metadata": {
     },
     "output_type": "execute_result"
    }
   ],
   "source": [
    "E*B"
   ]
  },
  {
   "cell_type": "code",
   "execution_count": 32,
   "metadata": {
    "collapsed": false
   },
   "outputs": [
    {
     "data": {
      "text/plain": [
       "178"
      ]
     },
     "execution_count": 32,
     "metadata": {
     },
     "output_type": "execute_result"
    }
   ],
   "source": [
    "det(E*B)"
   ]
  },
  {
   "cell_type": "markdown",
   "metadata": {
    "collapsed": false
   },
   "source": [
    "<span style='font-size:medium'>Determinant does not change with when a new matrix is produced by adding one multiple of a row to another row</span>\n"
   ]
  },
  {
   "cell_type": "code",
   "execution_count": 33,
   "metadata": {
    "collapsed": false
   },
   "outputs": [
    {
     "data": {
      "text/plain": [
       "178"
      ]
     },
     "execution_count": 33,
     "metadata": {
     },
     "output_type": "execute_result"
    }
   ],
   "source": [
    "B.det()"
   ]
  },
  {
   "cell_type": "markdown",
   "metadata": {
    "collapsed": false
   },
   "source": [
    "### Elementary Matrix Switching Rows\n",
    "\n",
    "<span style='font-size:medium'>The determinant of the matrix produced by interchanging two rows of the original matrix is \\-det\\(B\\)</span>\n"
   ]
  },
  {
   "cell_type": "code",
   "execution_count": 0,
   "metadata": {
    "collapsed": false
   },
   "outputs": [
   ],
   "source": [
   ]
  },
  {
   "cell_type": "code",
   "execution_count": 34,
   "metadata": {
    "collapsed": false
   },
   "outputs": [
    {
     "data": {
      "text/plain": [
       "[0 0 1]\n",
       "[0 1 0]\n",
       "[1 0 0]"
      ]
     },
     "execution_count": 34,
     "metadata": {
     },
     "output_type": "execute_result"
    }
   ],
   "source": [
    "F=elementary_matrix(3, row1=0, row2=2)\n",
    "F"
   ]
  },
  {
   "cell_type": "code",
   "execution_count": 35,
   "metadata": {
    "collapsed": false
   },
   "outputs": [
    {
     "data": {
      "text/plain": [
       "-178"
      ]
     },
     "execution_count": 35,
     "metadata": {
     },
     "output_type": "execute_result"
    }
   ],
   "source": [
    "det(F*B)"
   ]
  },
  {
   "cell_type": "markdown",
   "metadata": {
    "collapsed": false
   },
   "source": [
    "### **Multiplying a row by a constant multiplies the determinant by that constnant c**\n",
    "\n"
   ]
  },
  {
   "cell_type": "code",
   "execution_count": 0,
   "metadata": {
    "collapsed": false
   },
   "outputs": [
   ],
   "source": [
   ]
  },
  {
   "cell_type": "code",
   "execution_count": 36,
   "metadata": {
    "collapsed": false
   },
   "outputs": [
    {
     "data": {
      "text/plain": [
       "[1 0 0]\n",
       "[0 1 0]\n",
       "[0 0 5]"
      ]
     },
     "execution_count": 36,
     "metadata": {
     },
     "output_type": "execute_result"
    }
   ],
   "source": [
    "G=elementary_matrix(3, row1=2, scale=5)\n",
    "G"
   ]
  },
  {
   "cell_type": "code",
   "execution_count": 37,
   "metadata": {
    "collapsed": false
   },
   "outputs": [
    {
     "data": {
      "text/plain": [
       "[  8   1  -2]\n",
       "[-12 -19   0]\n",
       "[ -1   0  -1]"
      ]
     },
     "execution_count": 37,
     "metadata": {
     },
     "output_type": "execute_result"
    }
   ],
   "source": [
    "B"
   ]
  },
  {
   "cell_type": "code",
   "execution_count": 38,
   "metadata": {
    "collapsed": false
   },
   "outputs": [
    {
     "data": {
      "text/plain": [
       "890"
      ]
     },
     "execution_count": 38,
     "metadata": {
     },
     "output_type": "execute_result"
    }
   ],
   "source": [
    "det(G*B)"
   ]
  },
  {
   "cell_type": "markdown",
   "metadata": {
    "collapsed": false
   },
   "source": [
    "## <span style='font-size:medium'>Now here is a function I wrote that represents the recursive nature of finding determinants using cofactor expansion</span>\n",
    "\n"
   ]
  },
  {
   "cell_type": "code",
   "execution_count": 40,
   "metadata": {
    "collapsed": false
   },
   "outputs": [
   ],
   "source": [
    "def myDet(M):\n",
    "    if M.ncols() != M.nrows():\n",
    "        return(\"not a square matrix so no determinant\")\n",
    "    else: \n",
    "        col=M.ncols()\n",
    "        if col==1: \n",
    "            return M[0,0]\n",
    "        else:\n",
    "            D = 0\n",
    "            N=M.matrix_from_columns(range(1,col))\n",
    "            for i in range(col):\n",
    "                D=D + (-1)^i * M[i,0] * myDet(N.matrix_from_rows(list(range(i)) + list(range(i+1, col))))\n",
    "            return D"
   ]
  },
  {
   "cell_type": "code",
   "execution_count": 41,
   "metadata": {
    "collapsed": false
   },
   "outputs": [
   ],
   "source": [
    "A=random_matrix(ZZ, 5,5)"
   ]
  },
  {
   "cell_type": "code",
   "execution_count": 42,
   "metadata": {
    "collapsed": false
   },
   "outputs": [
    {
     "data": {
      "text/plain": [
       "-4736"
      ]
     },
     "execution_count": 42,
     "metadata": {
     },
     "output_type": "execute_result"
    }
   ],
   "source": [
    "det(A)"
   ]
  },
  {
   "cell_type": "code",
   "execution_count": 44,
   "metadata": {
    "collapsed": false
   },
   "outputs": [
    {
     "data": {
      "text/plain": [
       "-4736"
      ]
     },
     "execution_count": 44,
     "metadata": {
     },
     "output_type": "execute_result"
    }
   ],
   "source": [
    "myDet(A)"
   ]
  },
  {
   "cell_type": "markdown",
   "metadata": {
    "collapsed": false
   },
   "source": [
    "## Some more properties\n",
    "\n"
   ]
  },
  {
   "cell_type": "code",
   "execution_count": 50,
   "metadata": {
    "collapsed": false
   },
   "outputs": [
   ],
   "source": [
    "A = Matrix(ZZ, [[3,1,0],[-1,2,1],[0,-1,2]])"
   ]
  },
  {
   "cell_type": "markdown",
   "metadata": {
    "collapsed": false
   },
   "source": [
    "Determinant of the inverse of a matrix is $1/det(A)$\n"
   ]
  },
  {
   "cell_type": "code",
   "execution_count": 51,
   "metadata": {
    "collapsed": false
   },
   "outputs": [
    {
     "data": {
      "text/plain": [
       "[ 5/17 -2/17  1/17]\n",
       "[ 2/17  6/17 -3/17]\n",
       "[ 1/17  3/17  7/17]"
      ]
     },
     "execution_count": 51,
     "metadata": {
     },
     "output_type": "execute_result"
    }
   ],
   "source": [
    "B= A.inverse()\n",
    "B"
   ]
  },
  {
   "cell_type": "code",
   "execution_count": 53,
   "metadata": {
    "collapsed": false
   },
   "outputs": [
    {
     "data": {
      "text/plain": [
       "17"
      ]
     },
     "execution_count": 53,
     "metadata": {
     },
     "output_type": "execute_result"
    }
   ],
   "source": [
    "det(A)"
   ]
  },
  {
   "cell_type": "code",
   "execution_count": 54,
   "metadata": {
    "collapsed": false
   },
   "outputs": [
    {
     "data": {
      "text/plain": [
       "1/17"
      ]
     },
     "execution_count": 54,
     "metadata": {
     },
     "output_type": "execute_result"
    }
   ],
   "source": [
    "det(B)"
   ]
  },
  {
   "cell_type": "code",
   "execution_count": 55,
   "metadata": {
    "collapsed": false
   },
   "outputs": [
    {
     "data": {
      "text/plain": [
       "[ 3  1  0]\n",
       "[-1  2  1]\n",
       "[ 0 -1  2]"
      ]
     },
     "execution_count": 55,
     "metadata": {
     },
     "output_type": "execute_result"
    }
   ],
   "source": [
    "A"
   ]
  },
  {
   "cell_type": "markdown",
   "metadata": {
    "collapsed": false
   },
   "source": [
    "## $A^{T}$has the same Determinant\n",
    "\n"
   ]
  },
  {
   "cell_type": "code",
   "execution_count": 0,
   "metadata": {
    "collapsed": false
   },
   "outputs": [
   ],
   "source": [
   ]
  },
  {
   "cell_type": "code",
   "execution_count": 58,
   "metadata": {
    "collapsed": false
   },
   "outputs": [
    {
     "data": {
      "text/plain": [
       "[ 3 -1  0]\n",
       "[ 1  2 -1]\n",
       "[ 0  1  2]"
      ]
     },
     "execution_count": 58,
     "metadata": {
     },
     "output_type": "execute_result"
    }
   ],
   "source": [
    "B= A.transpose()\n",
    "B"
   ]
  },
  {
   "cell_type": "code",
   "execution_count": 59,
   "metadata": {
    "collapsed": false
   },
   "outputs": [
    {
     "data": {
      "text/plain": [
       "17"
      ]
     },
     "execution_count": 59,
     "metadata": {
     },
     "output_type": "execute_result"
    }
   ],
   "source": [
    "det(B)"
   ]
  },
  {
   "cell_type": "code",
   "execution_count": 60,
   "metadata": {
    "collapsed": false
   },
   "outputs": [
    {
     "data": {
      "text/plain": [
       "17"
      ]
     },
     "execution_count": 60,
     "metadata": {
     },
     "output_type": "execute_result"
    }
   ],
   "source": [
    "det(A)"
   ]
  },
  {
   "cell_type": "markdown",
   "metadata": {
    "collapsed": false
   },
   "source": [
    "## Inverses from Determinants\n",
    "\n",
    "<span style='font-size:large'>In the textbook, we learn that If A is an invertible matrix, then </span>$A^{-1} = 1/det(A) * adj(A)$\n"
   ]
  },
  {
   "cell_type": "code",
   "execution_count": 0,
   "metadata": {
    "collapsed": false
   },
   "outputs": [
   ],
   "source": [
   ]
  },
  {
   "cell_type": "code",
   "execution_count": 61,
   "metadata": {
    "collapsed": false
   },
   "outputs": [
    {
     "data": {
      "text/plain": [
       "[ 5 -2  1]\n",
       "[ 2  6 -3]\n",
       "[ 1  3  7]"
      ]
     },
     "execution_count": 61,
     "metadata": {
     },
     "output_type": "execute_result"
    }
   ],
   "source": [
    "C=A.adjugate()\n",
    "C"
   ]
  },
  {
   "cell_type": "code",
   "execution_count": 63,
   "metadata": {
    "collapsed": false
   },
   "outputs": [
    {
     "data": {
      "text/plain": [
       "[ 5/17 -2/17  1/17]\n",
       "[ 2/17  6/17 -3/17]\n",
       "[ 1/17  3/17  7/17]"
      ]
     },
     "execution_count": 63,
     "metadata": {
     },
     "output_type": "execute_result"
    }
   ],
   "source": [
    "D= 1/(det(A)) * C\n",
    "D"
   ]
  },
  {
   "cell_type": "code",
   "execution_count": 64,
   "metadata": {
    "collapsed": false
   },
   "outputs": [
    {
     "data": {
      "text/plain": [
       "[ 5/17 -2/17  1/17]\n",
       "[ 2/17  6/17 -3/17]\n",
       "[ 1/17  3/17  7/17]"
      ]
     },
     "execution_count": 64,
     "metadata": {
     },
     "output_type": "execute_result"
    }
   ],
   "source": [
    "E = A.inverse()\n",
    "E"
   ]
  },
  {
   "cell_type": "code",
   "execution_count": 0,
   "metadata": {
    "collapsed": false
   },
   "outputs": [
   ],
   "source": [
   ]
  },
  {
   "cell_type": "code",
   "execution_count": 17,
   "metadata": {
    "collapsed": false
   },
   "outputs": [
    {
     "ename": "TypeError",
     "evalue": "unable to coerce <class 'sage.matrix.matrix_symbolic_dense.Matrix_symbolic_dense'> to an integer",
     "output_type": "error",
     "traceback": [
      "\u001b[0;31m---------------------------------------------------------------------------\u001b[0m",
      "\u001b[0;31mTypeError\u001b[0m                                 Traceback (most recent call last)",
      "Cell \u001b[0;32mIn [17], line 2\u001b[0m\n\u001b[1;32m      1\u001b[0m \u001b[38;5;66;03m# Exercise 4 (c): Fill in entries for A and B to find a counterexample.\u001b[39;00m\n\u001b[0;32m----> 2\u001b[0m A \u001b[38;5;241m=\u001b[39m \u001b[43mMatrix\u001b[49m\u001b[43m(\u001b[49m\u001b[43mZZ\u001b[49m\u001b[43m,\u001b[49m\u001b[43m \u001b[49m\u001b[43m[\u001b[49m\u001b[43m[\u001b[49m\u001b[43m_\u001b[49m\u001b[43m,\u001b[49m\u001b[43m \u001b[49m\u001b[43m_\u001b[49m\u001b[43m,\u001b[49m\u001b[43m \u001b[49m\u001b[43m_\u001b[49m\u001b[43m]\u001b[49m\u001b[43m,\u001b[49m\u001b[43m \u001b[49m\u001b[43m[\u001b[49m\u001b[43m_\u001b[49m\u001b[43m,\u001b[49m\u001b[43m \u001b[49m\u001b[43m_\u001b[49m\u001b[43m,\u001b[49m\u001b[43m \u001b[49m\u001b[43m_\u001b[49m\u001b[43m]\u001b[49m\u001b[43m,\u001b[49m\u001b[43m \u001b[49m\u001b[43m[\u001b[49m\u001b[43m_\u001b[49m\u001b[43m,\u001b[49m\u001b[43m \u001b[49m\u001b[43m_\u001b[49m\u001b[43m,\u001b[49m\u001b[43m \u001b[49m\u001b[43m_\u001b[49m\u001b[43m]\u001b[49m\u001b[43m]\u001b[49m\u001b[43m)\u001b[49m\n\u001b[1;32m      3\u001b[0m B \u001b[38;5;241m=\u001b[39m Matrix(ZZ, [[_, _, _], [_, _, _], [_, _, _]])\n\u001b[1;32m      5\u001b[0m A\u001b[38;5;241m.\u001b[39mdeterminant() \u001b[38;5;241m-\u001b[39m B\u001b[38;5;241m.\u001b[39mdeterminant() \u001b[38;5;241m==\u001b[39m (A\u001b[38;5;241m-\u001b[39mB)\u001b[38;5;241m.\u001b[39mdeterminant()\n",
      "File \u001b[0;32m/ext/sage/10.1/src/sage/matrix/constructor.pyx:643\u001b[0m, in \u001b[0;36msage.matrix.constructor.matrix\u001b[0;34m()\u001b[0m\n\u001b[1;32m    641\u001b[0m \"\"\"\n\u001b[1;32m    642\u001b[0m immutable = kwds.pop('immutable', False)\n\u001b[0;32m--> 643\u001b[0m M = MatrixArgs(*args, **kwds).matrix()\n\u001b[1;32m    644\u001b[0m if immutable:\n\u001b[1;32m    645\u001b[0m     M.set_immutable()\n",
      "File \u001b[0;32m/ext/sage/10.1/src/sage/matrix/args.pyx:668\u001b[0m, in \u001b[0;36msage.matrix.args.MatrixArgs.matrix\u001b[0;34m()\u001b[0m\n\u001b[1;32m    666\u001b[0m             break\n\u001b[1;32m    667\u001b[0m else:\n\u001b[0;32m--> 668\u001b[0m     M = self.space(self, coerce=convert)\n\u001b[1;32m    669\u001b[0m \n\u001b[1;32m    670\u001b[0m # Also store the matrix to support multiple calls of matrix()\n",
      "File \u001b[0;32m/ext/sage/10.1/src/sage/structure/parent.pyx:903\u001b[0m, in \u001b[0;36msage.structure.parent.Parent.__call__\u001b[0;34m()\u001b[0m\n\u001b[1;32m    901\u001b[0m         return mor._call_(x)\n\u001b[1;32m    902\u001b[0m     else:\n\u001b[0;32m--> 903\u001b[0m         return mor._call_with_args(x, args, kwds)\n\u001b[1;32m    904\u001b[0m \n\u001b[1;32m    905\u001b[0m raise TypeError(_LazyString(\"No conversion defined from %s to %s\", (R, self), {}))\n",
      "File \u001b[0;32m/ext/sage/10.1/src/sage/structure/coerce_maps.pyx:182\u001b[0m, in \u001b[0;36msage.structure.coerce_maps.DefaultConvertMap_unique._call_with_args\u001b[0;34m()\u001b[0m\n\u001b[1;32m    180\u001b[0m     print(type(C), C)\n\u001b[1;32m    181\u001b[0m     print(type(C._element_constructor), C._element_constructor)\n\u001b[0;32m--> 182\u001b[0m raise\n\u001b[1;32m    183\u001b[0m \n\u001b[1;32m    184\u001b[0m \n",
      "File \u001b[0;32m/ext/sage/10.1/src/sage/structure/coerce_maps.pyx:172\u001b[0m, in \u001b[0;36msage.structure.coerce_maps.DefaultConvertMap_unique._call_with_args\u001b[0;34m()\u001b[0m\n\u001b[1;32m    170\u001b[0m         return C._element_constructor(x)\n\u001b[1;32m    171\u001b[0m     else:\n\u001b[0;32m--> 172\u001b[0m         return C._element_constructor(x, **kwds)\n\u001b[1;32m    173\u001b[0m else:\n\u001b[1;32m    174\u001b[0m     if len(kwds) == 0:\n",
      "File \u001b[0;32m/ext/sage/10.1/src/sage/matrix/matrix_space.py:945\u001b[0m, in \u001b[0;36mMatrixSpace._element_constructor_\u001b[0;34m(self, entries, **kwds)\u001b[0m\n\u001b[1;32m    835\u001b[0m \u001b[38;5;28;01mdef\u001b[39;00m \u001b[38;5;21m_element_constructor_\u001b[39m(\u001b[38;5;28mself\u001b[39m, entries, \u001b[38;5;241m*\u001b[39m\u001b[38;5;241m*\u001b[39mkwds):\n\u001b[1;32m    836\u001b[0m \u001b[38;5;250m    \u001b[39m\u001b[38;5;124;03m\"\"\"\u001b[39;00m\n\u001b[1;32m    837\u001b[0m \u001b[38;5;124;03m    Construct an element of ``self`` from ``entries``.\u001b[39;00m\n\u001b[1;32m    838\u001b[0m \n\u001b[0;32m   (...)\u001b[0m\n\u001b[1;32m    943\u001b[0m \u001b[38;5;124;03m        False\u001b[39;00m\n\u001b[1;32m    944\u001b[0m \u001b[38;5;124;03m    \"\"\"\u001b[39;00m\n\u001b[0;32m--> 945\u001b[0m     \u001b[38;5;28;01mreturn\u001b[39;00m \u001b[38;5;28;43mself\u001b[39;49m\u001b[38;5;241;43m.\u001b[39;49m\u001b[43melement_class\u001b[49m\u001b[43m(\u001b[49m\u001b[38;5;28;43mself\u001b[39;49m\u001b[43m,\u001b[49m\u001b[43m \u001b[49m\u001b[43mentries\u001b[49m\u001b[43m,\u001b[49m\u001b[43m \u001b[49m\u001b[38;5;241;43m*\u001b[39;49m\u001b[38;5;241;43m*\u001b[39;49m\u001b[43mkwds\u001b[49m\u001b[43m)\u001b[49m\n",
      "File \u001b[0;32m/ext/sage/10.1/src/sage/matrix/matrix_integer_dense.pyx:309\u001b[0m, in \u001b[0;36msage.matrix.matrix_integer_dense.Matrix_integer_dense.__init__\u001b[0;34m()\u001b[0m\n\u001b[1;32m    307\u001b[0m ma = MatrixArgs_init(parent, entries)\n\u001b[1;32m    308\u001b[0m cdef Integer z\n\u001b[0;32m--> 309\u001b[0m for t in ma.iter(coerce, True):\n\u001b[1;32m    310\u001b[0m     se = <SparseEntry>t\n\u001b[1;32m    311\u001b[0m     z = <Integer>se.entry\n",
      "File \u001b[0;32m/ext/sage/10.1/src/sage/matrix/args.pyx:534\u001b[0m, in \u001b[0;36miter\u001b[0;34m()\u001b[0m\n\u001b[1;32m    532\u001b[0m x = next(it)\n\u001b[1;32m    533\u001b[0m if convert and self.need_to_convert(x):\n\u001b[0;32m--> 534\u001b[0m     x = self.base(x)\n\u001b[1;32m    535\u001b[0m if sparse:\n\u001b[1;32m    536\u001b[0m     yield make_SparseEntry(i, j, x)\n",
      "File \u001b[0;32m/ext/sage/10.1/src/sage/structure/parent.pyx:901\u001b[0m, in \u001b[0;36msage.structure.parent.Parent.__call__\u001b[0;34m()\u001b[0m\n\u001b[1;32m    899\u001b[0m if mor is not None:\n\u001b[1;32m    900\u001b[0m     if no_extra_args:\n\u001b[0;32m--> 901\u001b[0m         return mor._call_(x)\n\u001b[1;32m    902\u001b[0m     else:\n\u001b[1;32m    903\u001b[0m         return mor._call_with_args(x, args, kwds)\n",
      "File \u001b[0;32m/ext/sage/10.1/src/sage/structure/coerce_maps.pyx:163\u001b[0m, in \u001b[0;36msage.structure.coerce_maps.DefaultConvertMap_unique._call_\u001b[0;34m()\u001b[0m\n\u001b[1;32m    161\u001b[0m             print(type(C), C)\n\u001b[1;32m    162\u001b[0m             print(type(C._element_constructor), C._element_constructor)\n\u001b[0;32m--> 163\u001b[0m         raise\n\u001b[1;32m    164\u001b[0m \n\u001b[1;32m    165\u001b[0m cpdef Element _call_with_args(self, x, args=(), kwds={}):\n",
      "File \u001b[0;32m/ext/sage/10.1/src/sage/structure/coerce_maps.pyx:158\u001b[0m, in \u001b[0;36msage.structure.coerce_maps.DefaultConvertMap_unique._call_\u001b[0;34m()\u001b[0m\n\u001b[1;32m    156\u001b[0m cdef Parent C = self._codomain\n\u001b[1;32m    157\u001b[0m try:\n\u001b[0;32m--> 158\u001b[0m     return C._element_constructor(x)\n\u001b[1;32m    159\u001b[0m except Exception:\n\u001b[1;32m    160\u001b[0m     if print_warnings:\n",
      "File \u001b[0;32m/ext/sage/10.1/src/sage/rings/integer.pyx:710\u001b[0m, in \u001b[0;36msage.rings.integer.Integer.__init__\u001b[0;34m()\u001b[0m\n\u001b[1;32m    708\u001b[0m                 return\n\u001b[1;32m    709\u001b[0m \n\u001b[0;32m--> 710\u001b[0m             raise TypeError(\"unable to coerce %s to an integer\" % type(x))\n\u001b[1;32m    711\u001b[0m \n\u001b[1;32m    712\u001b[0m def __reduce__(self):\n",
      "\u001b[0;31mTypeError\u001b[0m: unable to coerce <class 'sage.matrix.matrix_symbolic_dense.Matrix_symbolic_dense'> to an integer"
     ]
    }
   ],
   "source": [
    "# Exercise 4 (c): Fill in entries for A and B to find a counterexample.\n",
    "A = Matrix(ZZ, [[_, _, _], [_, _, _], [_, _, _]])\n",
    "B = Matrix(ZZ, [[_, _, _], [_, _, _], [_, _, _]])\n",
    "\n",
    "A.determinant() - B.determinant() == (A-B).determinant()"
   ]
  },
  {
   "cell_type": "code",
   "execution_count": 20,
   "metadata": {
    "collapsed": false
   },
   "outputs": [
   ],
   "source": [
    "for a in range(-10, 10):\n",
    "    for b in range(-10, 10):\n",
    "        for c in range(-10, 10):\n",
    "            for d in range(-10, 10):\n",
    "                A = Matrix(ZZ, [[a,b],[c,d]])\n",
    "                # Skip the all zeroes matrix.\n",
    "                if a == 0 and b == 0 and c == 0 and d == 0:\n",
    "                    continue\n",
    "                # In order for this to hold, we need det(A) == 0.\n",
    "                if 3*det(A) == det(3*A) and det(A) != 0:\n",
    "                    print(\"Example found!\\n\", A)"
   ]
  },
  {
   "cell_type": "code",
   "execution_count": 0,
   "metadata": {
    "collapsed": false
   },
   "outputs": [
   ],
   "source": [
   ]
  }
 ],
 "metadata": {
  "kernelspec": {
   "argv": [
    "sage-10.1",
    "--python",
    "-m",
    "sage.repl.ipython_kernel",
    "--matplotlib=inline",
    "-f",
    "{connection_file}"
   ],
   "display_name": "SageMath 10.1",
   "env": {
   },
   "language": "sagemath",
   "metadata": {
    "cocalc": {
     "description": "Open-source mathematical software system",
     "priority": 10,
     "url": "https://www.sagemath.org/"
    }
   },
   "name": "sage-10.1",
   "resource_dir": "/ext/jupyter/kernels/sage-10.1"
  }
 },
 "nbformat": 4,
 "nbformat_minor": 4
}