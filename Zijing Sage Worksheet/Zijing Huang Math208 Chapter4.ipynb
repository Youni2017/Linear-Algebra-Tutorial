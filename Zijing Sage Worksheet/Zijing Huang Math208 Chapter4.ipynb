{
 "cells": [
  {
   "cell_type": "code",
   "execution_count": 1,
   "metadata": {
    "collapsed": false
   },
   "outputs": [
   ],
   "source": [
    "# import toEquations from Snigdha's code\n",
    "\n",
    "#functions\n",
    "var('x y z a c d e')\n",
    "xVect = vector([x, y, z, a, c, d, e])\n",
    "# Takes in a transposed matrix (matrix[[col][col]].transpose()) and a vector b\n",
    "# Throws an exception if b's elements is not equal to A's rows\n",
    "# returns a list of equations\n",
    "def toEquations (A, b):\n",
    "    if (len(A.rows()) != len(b)):\n",
    "        raise Exception(\"A and b don't have the correct number of elements\")\n",
    "    print(A, \"x = \", b)\n",
    "    print()\n",
    "\n",
    "    numOfrows = len(A.rows());\n",
    "    numOfcols = len(A.columns());\n",
    "    equations = []\n",
    "    for i in range(numOfrows):\n",
    "        equation = \"\"\n",
    "        for j in range(numOfcols):\n",
    "            equation = equation + \" + \" + str(A[i][j] * xVect[j])\n",
    "\n",
    "        equation = equation[2:] + \" == \" + str(b[i])\n",
    "        equations.append(equation)\n",
    "    return equations"
   ]
  },
  {
   "cell_type": "markdown",
   "metadata": {
    "collapsed": false
   },
   "source": [
    "<span style='font-size:xx-large'>Chapter 4</span>\n",
    "\n",
    "<span style='font-size:x-large'>Introduction to Subspaces</span>\n",
    "\n"
   ]
  },
  {
   "cell_type": "markdown",
   "metadata": {
    "collapsed": false
   },
   "source": [
    "<span style='font-size:x-large'>Subspace</span>\n",
    "\n",
    "<span style='font-size:large'>A subset S of $\\mathbb{R}^3$ is a subspace if S satisfies the following three conditions:</span>\n",
    "\n",
    "<span style='font-size:large'>\\(a\\) S contains </span><span style='font-size:large'>**0**</span><span style='font-size:large'>, the zero vector.</span>\n",
    "\n",
    "<span style='font-size:large'>\\(b\\) If </span><span style='font-size:large'>**u**</span><span style='font-size:large'> and </span><span style='font-size:large'>**v**</span><span style='font-size:large'> are in S, then </span><span style='font-size:large'>**u**</span><span style='font-size:large'> \\+ </span><span style='font-size:large'>**v**</span><span style='font-size:large'> is also in S.</span>\n",
    "\n",
    "<span style='font-size:large'>\\(c\\) If r is a real number and </span><span style='font-size:large'>**u**</span><span style='font-size:large'> is in S, then r</span><span style='font-size:large'>**u**</span><span style='font-size:large'> is also in S. </span>\n",
    "\n",
    "<span style='font-size:large'>A subset of </span>$\\mathbb{R}^n$<span style='font-size:large'> that satisfies condition \\(b\\) above is said to be</span> <span style='font-size:large'>**closed under addition**</span><span style='font-size:large'>, and if it satisfies condition \\(c\\), then it is </span><span style='font-size:large'>**closed under scalar multiplication**</span><span style='font-size:large'>. Closure under addition and scalar multiplication ensures that arithmetic performed on vectors in a subspace produce other vectors in the subspace.</span>\n",
    "\n"
   ]
  },
  {
   "cell_type": "markdown",
   "metadata": {
    "collapsed": false
   },
   "source": [
    "<span style='font-size:large'>If 0 is not in a subset S, then S is not a subspace.</span>\n"
   ]
  },
  {
   "cell_type": "code",
   "execution_count": 1,
   "metadata": {
    "collapsed": false
   },
   "outputs": [
    {
     "name": "stdout",
     "output_type": "stream",
     "text": [
      "Definition 1 - contains zero vectors: True\n",
      "Whether u in S: True\n",
      "Whether v in S: True\n",
      "Definition 2 - closed under addition: True\n",
      "Definition 3 - closed under multiplicity: True\n",
      "Whether the output is a subspace： True\n",
      "Whether w in S: False\n"
     ]
    }
   ],
   "source": [
    "# Define a 3-dimensional vector space\n",
    "V = VectorSpace(RR, 3)\n",
    "\n",
    "# Define a subspace by providing basis\n",
    "S = V.subspace([V([-3, 1, 0]),V([1, -5, 0])])\n",
    "\n",
    "# Check definition 1: The subspace must contain the zero vector\n",
    "has_zero_vector = zero_vector(V.dimension()) in S\n",
    "print(\"Definition 1 - contains zero vectors:\", has_zero_vector)\n",
    "\n",
    "# Check definition 2: The subspace is closed under addition\n",
    "u = vector(QQ, [1, 2, 0])\n",
    "v = vector(QQ, [2, 0, 0])\n",
    "print(\"Whether u in S:\", u in S)\n",
    "print(\"Whether v in S:\", v in S)\n",
    "print(\"Definition 2 - closed under addition:\", (u + v) in S)\n",
    "\n",
    "# Check definition 3: The subspace is closed under scalarxxxx\n",
    "c = 2.2\n",
    "print(\"Definition 3 - closed under multiplicity:\", (c * u) in S)\n",
    "\n",
    "# Whether the output is a subspace \n",
    "print(\"Whether the output is a subspace：\", has_zero_vector and (u + v) in S and (c * u) in S)\n",
    "\n",
    "# Example of a vector w that does is **not** in S.\n",
    "w = vector(QQ, [2, 2, 1])\n",
    "print(\"Whether w in S:\", w in S)"
   ]
  },
  {
   "cell_type": "markdown",
   "metadata": {
    "collapsed": false
   },
   "source": [
    "<span style='font-size:x-large'>Null space</span>\n",
    "\n",
    "<span style='font-size:large'>If A is an n × m matrix, then the set of solutions to the homogeneous linear system A</span><span style='font-size:large'>**x**</span><span style='font-size:large'> = 0 forms a subspace of </span>$R_{m}$<span style='font-size:large'>.</span>\n",
    "\n",
    "<span style='font-size:large'>If A is an n × m matrix, then the set of solutions to A</span><span style='font-size:large'>**x**</span><span style='font-size:large'> = 0 is called the null space of A and is denoted by null\\(A\\).</span>\n",
    "\n",
    "<span style='font-size:large'>Let T</span> : $R_{m}$ <span style='font-size:large'>→ </span>$R_{n}$ <span style='font-size:large'>be a linear transformation. Then the kernel of T is a subspace of the domain </span>$R_{m}$ <span style='font-size:large'> and the range of T is a subspace of the codomain </span>$R_{n}$<span style='font-size:large'>.</span>\n",
    "\n",
    "<span style='font-size:large'>ker\\(T\\) = null\\(A\\)</span>\n",
    "\n"
   ]
  },
  {
   "cell_type": "code",
   "execution_count": 11,
   "metadata": {
    "collapsed": false
   },
   "outputs": [
    {
     "name": "stdout",
     "output_type": "stream",
     "text": [
      "Null Space Basis Vectors: [(1, 0, 2, -1), (0, 1, -1, 3)]\n"
     ]
    }
   ],
   "source": [
    "# Define a new matrix A\n",
    "A = Matrix(QQ, [[3, -1, 7, -6], \n",
    "                [4, -1, 9, -7], \n",
    "                [-2, 1, -5, 5]])\n",
    "\n",
    "# Augment A with the zero vector\n",
    "augmented_matrix = A.augment(Matrix(QQ, 3, 1, [0, 0, 0]))\n",
    "\n",
    "# Perform Gaussian elimination\n",
    "reduced_row_echelon_form = augmented_matrix.echelon_form()\n",
    "\n",
    "# Extract the null space basis vectors\n",
    "null_space_basis = []\n",
    "for row in reduced_row_echelon_form.rows():\n",
    "    null_space_basis.append(row[:-1])  # Exclude the last column (the zero vector)\n",
    "\n",
    "print(\"Null Space Basis Vectors:\", null_space_basis[0:-1])"
   ]
  },
  {
   "cell_type": "markdown",
   "metadata": {
    "collapsed": false
   },
   "source": [
    "<span style='font-size:large'>Ex. Suppose that T : </span>$\\mathbb{R_2}$<span style='font-size:large'>  → </span>$\\mathbb{R_3}$<span style='font-size:large'> is defined by</span> \\begin{align*}T\\begin{pmatrix}\\begin{bmatrix} x_1\\\\x_2 \\end{bmatrix}\\end{pmatrix}=\\begin{bmatrix}x_1-2x_2\\\\-3x_1+6x_2\\\\2x_1-4x_2\\end{bmatrix}\\end{align*}\n",
    "<span style='font-size:large'>Find ker\\(T\\) and range\\(T\\).</span>\n"
   ]
  },
  {
   "cell_type": "markdown",
   "metadata": {
    "collapsed": false
   },
   "source": [
    "<span style='font-size:large'>Ex. Suppose that T : </span>$R_{2}$<span style='font-size:large'>  → </span>$R_{3}$<span style='font-size:large'> is defined by</span><img src=\".Zijing Huang Math208 Chapter4.ipynb.upload/paste-0.544029370466121\"   width=\"248.321px\"  height=\"93.3228px\"  style=\"object-fit:cover\"/>\n",
    "\n",
    "<span style='font-size:large'>Find ker\\(T\\) and range\\(T\\).</span>\n",
    "\n"
   ]
  },
  {
   "cell_type": "code",
   "execution_count": 22,
   "metadata": {
    "collapsed": false
   },
   "outputs": [
    {
     "name": "stdout",
     "output_type": "stream",
     "text": [
      "null space:\n",
      "[\n",
      "(1, 1/2)\n",
      "]\n",
      "range: [(1, -3, 2)]\n"
     ]
    }
   ],
   "source": [
    "# T(x) = Ax\n",
    "A = Matrix(QQ, [[1, -2], \n",
    "                [-3, 6], \n",
    "                [2, -4]])\n",
    "# ker(T) = null(A)\n",
    "null_space_basis = A.right_kernel().basis()\n",
    "# The range of T is equal to the span of the columns of A\n",
    "# So, we need to find the echelon_form and find the span of the columns of A\n",
    "echelon_form = A.rref()\n",
    "linearly_indep_cols = echelon_form.pivots()\n",
    "range = []\n",
    "for i in linearly_indep_cols:\n",
    "    range.append(A.transpose()[0])\n",
    "print(\"null space:\")\n",
    "print(null_space_basis)\n",
    "print(\"range:\", range)"
   ]
  },
  {
   "cell_type": "markdown",
   "metadata": {
    "collapsed": false
   },
   "source": [
    "<span style='font-size:x-large'>Basis</span>\n",
    "\n",
    "<span style='font-size:large'>A set </span><span style='font-size:large'>_B_</span><span style='font-size:large'> = {u1, ... , um} is a basis for a subspace S if</span>\n",
    "\n",
    "<span style='font-size:large'>\\(a\\) </span><span style='font-size:large'>_B_</span><span style='font-size:large'> spans S.</span>\n",
    "\n",
    "<span style='font-size:large'>\\(b\\) </span><span style='font-size:large'>_B_</span><span style='font-size:large'> is linearly independent.</span>\n",
    "\n"
   ]
  },
  {
   "cell_type": "markdown",
   "metadata": {
    "collapsed": false
   },
   "source": [
    "<span style='font-size:large'>Let </span><span style='font-size:large'>_B_</span><span style='font-size:large'> = {</span>$u_1$<span style='font-size:large'>, ..., </span>$u_m$<span style='font-size:large'>} be a basis for a subspace S. For every vector </span><span style='font-size:large'>**s**</span><span style='font-size:large'> in S there exists a unique set of scalars </span>$s_1$<span style='font-size:large'>, ..., </span>$s_m$<span style='font-size:large'> such that</span>\n",
    "\n",
    "<span style='font-size:large'>S = $s_1$$u_1$ + ... + $s_m$$u_m$</span>\n",
    "\n"
   ]
  },
  {
   "cell_type": "markdown",
   "metadata": {
    "collapsed": false
   },
   "source": [
    "<span style='font-size:large'>Suppose that </span><span style='font-size:large'>_U_</span><span style='font-size:large'> = \\[</span>$u_1$<span style='font-size:large'> … </span>$u_m$<span style='font-size:large'>\\] and </span><span style='font-size:large'>_V_</span><span style='font-size:large'> = \\[</span>$v_1$<span style='font-size:large'> … </span>$v_m$<span style='font-size:large'>\\] are two equivalent matrices. Then any linear dependence that exists among the vectors </span>$u_1$<span style='font-size:large'>, … , </span>$u_m$<span style='font-size:large'> also exists among the vectors </span>$v_1$<span style='font-size:large'>, … , </span>$v_m$<span style='font-size:large'>.</span>\n",
    "\n"
   ]
  },
  {
   "cell_type": "markdown",
   "metadata": {
    "collapsed": false
   },
   "source": [
    "<span style='font-size:large'>Let </span><span style='font-size:large'>_A_</span><span style='font-size:large'> and </span><span style='font-size:large'>_B_</span><span style='font-size:large'> be equivalent matrices. Then the subspace spanned by the rows of </span><span style='font-size:large'>_A_</span><span style='font-size:large'> is the same as the subspace spanned by the rows of </span><span style='font-size:large'>_B_</span><span style='font-size:large'>.</span>\n",
    "\n"
   ]
  },
  {
   "cell_type": "code",
   "execution_count": 23,
   "metadata": {
    "collapsed": false
   },
   "outputs": [
    {
     "name": "stdout",
     "output_type": "stream",
     "text": [
      "(0, 1)\n",
      "basis:\n",
      "[   1    0 11/5  3/5]\n",
      "[   0    1 13/5  4/5]\n"
     ]
    }
   ],
   "source": [
    "# Display a matrix\n",
    "# Here u1, u2, u3 are the rows of A.\n",
    "A = matrix(QQ,[[-1, -6, 4],\n",
    "               [2, 7, -3],\n",
    "               [3, 5, 1],\n",
    "               [1, 2, 0]])\n",
    "# Form the rows of a matrix\n",
    "A_row = A.transpose()\n",
    "# Find Echelon Form\n",
    "B = A_row.rref()\n",
    "# Find the basis\n",
    "row_pivot = B.pivot_rows()\n",
    "print(row_pivot)\n",
    "\n",
    "# We can find which rows are linearly independent from row_pivot, which is 0, 1\n",
    "basis_0 = B[row_pivot[0], :]\n",
    "basis_1 = B[row_pivot[1], :]\n",
    "print(\"basis:\")\n",
    "print(basis_0)\n",
    "print(basis_1)"
   ]
  },
  {
   "cell_type": "markdown",
   "metadata": {
    "collapsed": false
   },
   "source": [
    "<span style='font-size:large'>Summarizing this method: To find a basis for </span><span style='font-size:large'>_S_</span><span style='font-size:large'> = span{</span>$u_1$<span style='font-size:large'>, ...., </span>$u_m$<span style='font-size:large'>},</span>\n",
    "\n",
    "<span style='font-size:large'>\\(a\\) Use the vectors </span>$u_1$<span style='font-size:large'>, ...., </span>$u_m$<span style='font-size:large'> to form the rows of a matrix </span><span style='font-size:large'>_A_</span><span style='font-size:large'>.</span>\n",
    "\n",
    "<span style='font-size:large'>\\(b\\) Transform </span><span style='font-size:large'>_A_</span><span style='font-size:large'> to echelon form </span><span style='font-size:large'>_B_</span><span style='font-size:large'>.</span>\n",
    "\n",
    "<span style='font-size:large'>\\(c\\) The nonzero rows of </span><span style='font-size:large'>_B_</span><span style='font-size:large'> give a basis for S.</span>\n"
   ]
  },
  {
   "cell_type": "code",
   "execution_count": 15,
   "metadata": {
    "collapsed": false
   },
   "outputs": [
    {
     "name": "stdout",
     "output_type": "stream",
     "text": [
      "basis:\n",
      "[-1  2  3  1]\n",
      "[-6  7  5  2]\n"
     ]
    }
   ],
   "source": [
    "# Display a matrix\n",
    "# Here u1, u2, u3 are the columns of A\n",
    "A = matrix(QQ,[[-1, -6, 4],\n",
    "               [2, 7, -3],\n",
    "               [3, 5, 1],\n",
    "               [1, 2, 0]])\n",
    "# Find Echelon Form\n",
    "B = A.echelon_form()\n",
    "# Find the index of pivots\n",
    "linearly_indep_cols = B.pivots()\n",
    "# We can find which cols are linearly independent from linearly_indep_cols, which is 0, 1\n",
    "basis_0 = A.transpose()[row_pivot[0], :]\n",
    "basis_1 = A.transpose()[row_pivot[1], :]\n",
    "print(\"basis:\")\n",
    "print(basis_0)\n",
    "print(basis_1)"
   ]
  },
  {
   "cell_type": "markdown",
   "metadata": {
    "collapsed": false
   },
   "source": [
    "<span style='font-size:large'>Summarizing this method: To find a basis for </span><span style='font-size:large'>_S_</span><span style='font-size:large'> = span{</span>$u_1$<span style='font-size:large'>, ..., </span>$u_m$<span style='font-size:large'>},</span>\n",
    "\n",
    "<span style='font-size:large'>\\(a\\) Use the vectors </span>$u_1$<span style='font-size:large'>, ..., </span>$u_m$<span style='font-size:large'> to form the rows of a matrix </span><span style='font-size:large'>_A_</span><span style='font-size:large'>.</span>\n",
    "\n",
    "<span style='font-size:large'>\\(b\\) Transform </span><span style='font-size:large'>_A_</span><span style='font-size:large'> to echelon form </span><span style='font-size:large'>_B_</span><span style='font-size:large'>.</span>\n",
    "\n",
    "<span style='font-size:large'>\\(c\\) The nonzero rows of </span><span style='font-size:large'>_B_</span><span style='font-size:large'> give a basis for S.</span>\n"
   ]
  },
  {
   "cell_type": "markdown",
   "metadata": {
    "collapsed": false
   },
   "source": [
    "<span style='font-size:x-large'>Dimension</span>\n",
    "\n",
    "<span style='font-size:large'>If S is a subspace of $R_n$, then every basis of S has the same number of vectors.</span>\n",
    "\n",
    "<span style='font-size:large'>Let S be a subspace of $R_n$. Then the dimension of S is the number of vectors in any basis of S.</span>\n",
    "\n"
   ]
  },
  {
   "cell_type": "code",
   "execution_count": 1,
   "metadata": {
    "collapsed": false
   },
   "outputs": [
    {
     "name": "stdout",
     "output_type": "stream",
     "text": [
      "the dimension of this matrix: 2\n"
     ]
    }
   ],
   "source": [
    "# Display a matrix\n",
    "A = matrix(QQ,[[-1, 3, -3, 5],\n",
    "               [2, -6, 8, -3],\n",
    "               [5, -15, 19, -11],\n",
    "               [-1, 3, -5, -2],\n",
    "               [-4, 12, -18, -1]])\n",
    "# Find Echelon Form\n",
    "echelon_form = A.rref()\n",
    "# Find the index of pivots\n",
    "linearly_indep_cols = echelon_form.pivots()\n",
    "print(\"The dimension of this matrix:\", len(linearly_indep_cols))"
   ]
  },
  {
   "cell_type": "markdown",
   "metadata": {
    "collapsed": false
   },
   "source": [
    "<span style='font-size:large'>Let </span><span style='font-size:large'>_𝒰_</span><span style='font-size:large'> = {</span>$u_1$<span style='font-size:large'>, ...,</span>$u_m$<span style='font-size:large'>} be a set of vectors in a subspace </span><span style='font-size:large'>_S_</span><span style='font-size:large'> ≠ {0} of </span>$R^n$<span style='font-size:large'>.</span>\n",
    "\n",
    "<span style='font-size:large'>\\(a\\) If </span><span style='font-size:large'>_𝒰_</span><span style='font-size:large'> is linearly independent, then either </span><span style='font-size:large'>_𝒰_</span><span style='font-size:large'> is a basis for </span><span style='font-size:large'>_S_</span><span style='font-size:large'> or additional vectors can be added to </span><span style='font-size:large'>_𝒰_</span><span style='font-size:large'> to form a basis for </span><span style='font-size:large'>_S_</span><span style='font-size:large'>.</span>\n",
    "\n",
    "<span style='font-size:large'>\\(b\\) If </span><span style='font-size:large'>_𝒰_</span><span style='font-size:large'> spans </span><span style='font-size:large'>_S_</span><span style='font-size:large'>, then either </span><span style='font-size:large'>_𝒰_</span><span style='font-size:large'> is a basis for </span><span style='font-size:large'>_S_</span><span style='font-size:large'> or vectors can be removed from 𝒰 to form a basis for </span><span style='font-size:large'>_S_</span><span style='font-size:large'>.</span>\n"
   ]
  },
  {
   "cell_type": "markdown",
   "metadata": {
    "collapsed": false
   },
   "source": [
    "<span style='font-size:large'>Ex. Expand the set </span><img src=\".Zijing Huang Math208 Chapter4.ipynb.upload/paste-0.530779031647397\"   width=\"144.965px\"  height=\"68.971px\"  style=\"object-fit:cover\"/><span style='font-size:large'> to a basis for </span>$R^3$<span style='font-size:large'>.</span>\n"
   ]
  },
  {
   "cell_type": "code",
   "execution_count": 26,
   "metadata": {
    "collapsed": false
   },
   "outputs": [
    {
     "name": "stdout",
     "output_type": "stream",
     "text": [
      "basis:\n",
      "[ 1  1 -2]\n",
      "[ 3  2 -4]\n",
      "[0 1 0]\n"
     ]
    }
   ],
   "source": [
    "# Since R^3 has dimension 3, we know that 𝒰 does not have enough vectors to be a basis. We can see that the two vectors in 𝒰 are linearly independent, we can expand 𝒰 to a basis of R3. \n",
    "A = matrix(QQ,[[1, 3, 1, 0, 0],\n",
    "               [1, 2, 0, 1, 0],\n",
    "               [-2, -4, 0, 0, 1]])\n",
    "# Find Echelon Form\n",
    "B = A.echelon_form()\n",
    "linearly_indep_cols = B.pivots()\n",
    "# We can find which cols are linearly independent from linearly_indep_cols, which is 0, 1, 3\n",
    "basis_0 = A.transpose()[linearly_indep_cols[0], :]\n",
    "basis_1 = A.transpose()[linearly_indep_cols[1], :]\n",
    "basis_2 = A.transpose()[linearly_indep_cols[2], :]\n",
    "print(\"basis:\")\n",
    "print(basis_0)\n",
    "print(basis_1)\n",
    "print(basis_2)"
   ]
  },
  {
   "cell_type": "markdown",
   "metadata": {
    "collapsed": false
   },
   "source": [
    "<span style='font-size:large'>Let </span><span style='font-size:large'>_𝒰_</span><span style='font-size:large'> = {</span>$u_1$<span style='font-size:large'>, ..., </span>$u_m$<span style='font-size:large'>} be a set of m vectors in a subspace </span><span style='font-size:large'>_S_</span><span style='font-size:large'> of dimension m. If </span><span style='font-size:large'>_𝒰_</span><span style='font-size:large'> is either linearly independent or spans </span><span style='font-size:large'>_S_</span><span style='font-size:large'>, then </span><span style='font-size:large'>_𝒰_</span><span style='font-size:large'> is a basis for </span><span style='font-size:large'>_S_</span><span style='font-size:large'>.</span>\n"
   ]
  },
  {
   "cell_type": "markdown",
   "metadata": {
    "collapsed": false
   },
   "source": [
    "<span style='font-size:large'>Ex. Suppose that </span><span style='font-size:large'>_S_</span><span style='font-size:large'> is a subspace of </span>$\\mathbb{R}^3$<span style='font-size:large'> of dimension 2 containing the vectors in the set </span><img src=\".Zijing Huang Math208 Chapter4.ipynb.upload/paste-0.6971045675807424\"   width=\"172px\"  height=\"86.999px\"  style=\"object-fit:cover\"/>\n",
    "\n",
    "<span style='font-size:large'>Show that </span><span style='font-size:large'>_𝒰_</span><span style='font-size:large'> is a basis for </span><span style='font-size:large'>_S_</span><span style='font-size:large'>.</span>\n",
    "\n"
   ]
  },
  {
   "cell_type": "code",
   "execution_count": 120,
   "metadata": {
    "collapsed": false
   },
   "outputs": [
    {
     "name": "stdout",
     "output_type": "stream",
     "text": [
      "[1 0]\n",
      "[0 1]\n",
      "[0 0]\n"
     ]
    }
   ],
   "source": [
    "# All we need to do to show that 𝒰 is a basis for S is verify that 𝒰 is linearly independent or spans S\n",
    "A = matrix(QQ,[[1, 3],\n",
    "               [2, 7],\n",
    "               [0, 1]])\n",
    "B = A.echelon_form()\n",
    "print(B)\n",
    "# Since the two vectors are not multiples of each other, 𝒰 is a linearly independent set. Hence we can conclude that 𝒰 is a basis for S.\n"
   ]
  },
  {
   "cell_type": "markdown",
   "metadata": {
    "collapsed": false
   },
   "source": [
    "<span style='font-size:large'>Suppose that $S_1$ and $S_2$ are both subspaces of </span>$\\mathbb{R}^3$<span style='font-size:large'> and that </span>$S_1$<span style='font-size:large'> is a subset of </span>$S_2$<span style='font-size:large'>. Then dim\\(</span>$S_1$<span style='font-size:large'>\\) ≤ dim\\(</span>$S_2$<span style='font-size:large'>\\), and dim\\(</span>$S_1$<span style='font-size:large'>\\) = dim\\(</span>$S_2$<span style='font-size:large'>\\) only if </span>$S_1$<span style='font-size:large'> = </span>$S_2$.\n",
    "\n"
   ]
  },
  {
   "cell_type": "code",
   "execution_count": 10,
   "metadata": {
    "collapsed": false
   },
   "outputs": [
    {
     "name": "stdout",
     "output_type": "stream",
     "text": [
      "dim(V1) = 2, dim(V2) = 3\n",
      "Whether dim_V1 = dim_V2: False\n"
     ]
    }
   ],
   "source": [
    "# Define three-dimensional Euclidean space\n",
    "V = VectorSpace(RR, 3)\n",
    "\n",
    "# Define subspace V1, representing the xy-plane\n",
    "V1 = V3.subspace([V([-3, 1, 0]),V([1, -5, 0])])\n",
    "\n",
    "# Define subspace V2, representing the entire three-dimensional space\n",
    "V2 = V\n",
    "\n",
    "# Verify the conditions\n",
    "dim_V1 = V1.dimension()\n",
    "dim_V2 = V2.dimension()\n",
    "\n",
    "print(f\"dim(V1) = {dim_V1}, dim(V2) = {dim_V2}\")\n",
    "\n",
    "# Check if dim(V1) <= dim(V2) holds\n",
    "assert dim_V1 <= dim_V2, \"dim(V1) is not less than or equal to dim(V2)\"\n",
    "\n",
    "# Check if dim(V1) = dim(V2) holds\n",
    "if dim_V1 == dim_V2:\n",
    "    # Check if V1 is equal to V2\n",
    "    assert V1 == V2, \"V1 is not equal to V2\"\n",
    "\n",
    "print(\"Whether dim_V1 = dim_V2:\", dim_V1 == dim_V2)"
   ]
  },
  {
   "cell_type": "markdown",
   "metadata": {
    "collapsed": false
   },
   "source": [
    "<span style='font-size:large'>Let </span><span style='font-size:large'>_𝒰_ </span><span style='font-size:large'>= {</span>$u_1$<span style='font-size:large'>, ..., </span>$u_m$<span style='font-size:large'>} be a set of vectors in a subspace</span><span style='font-size:large'> _S_</span><span style='font-size:large'> of dimension k.</span>\n",
    "\n",
    "<span style='font-size:large'>\\(a\\) If m &lt; k, then </span><span style='font-size:large'>_𝒰_</span><span style='font-size:large'> does not span </span><span style='font-size:large'>_S_</span><span style='font-size:large'>.</span>\n",
    "\n",
    "<span style='font-size:large'>\\(b\\) If m &gt; k, then </span><span style='font-size:large'>_𝒰_</span><span style='font-size:large'> is not linearly independent.</span>\n"
   ]
  },
  {
   "cell_type": "code",
   "execution_count": 3,
   "metadata": {
    "collapsed": false
   },
   "outputs": [
    {
     "name": "stdout",
     "output_type": "stream",
     "text": [
      "If k = 4 and m = 2, does U span S? No\n"
     ]
    }
   ],
   "source": [
    "# Define symbolic variables\n",
    "k, m = var('k m')\n",
    "\n",
    "# Given values\n",
    "k_value = 4\n",
    "m_value = 2  # Number of vectors is fewer than dimension\n",
    "\n",
    "# Define the vector space\n",
    "V = VectorSpace(QQ, k_value)\n",
    "\n",
    "# Create a set of vectors U with m vectors\n",
    "U = [vector(QQ, [i+1 for i in range(k_value)]) for _ in range(m_value)]\n",
    "\n",
    "# Check if U spans S\n",
    "spans_S = V.span(U) == V\n",
    "\n",
    "# Display results\n",
    "result = f\"If k = {k_value} and m = {m_value}, does U span S? {'Yes' if spans_S else 'No'}\"\n",
    "\n",
    "print(result)"
   ]
  },
  {
   "cell_type": "code",
   "execution_count": 4,
   "metadata": {
    "collapsed": false
   },
   "outputs": [
    {
     "name": "stdout",
     "output_type": "stream",
     "text": [
      "If k = 3 and m = 4, is U linearly independent? No\n"
     ]
    }
   ],
   "source": [
    "# Define symbolic variables\n",
    "k, m = var('k m')\n",
    "\n",
    "# Given values\n",
    "k_value = 3\n",
    "m_value = 4  # Number of vectors is more than dimension\n",
    "\n",
    "# Create a set of vectors U with m vectors\n",
    "U = [vector(QQ, [i+1 for i in range(k_value)]) for _ in range(m_value)]\n",
    "\n",
    "# Create a matrix using the vectors\n",
    "matrix_U = Matrix(U)\n",
    "\n",
    "# Check if the vectors in U are linearly independent\n",
    "linearly_independent = matrix_U.rank() == len(U)\n",
    "\n",
    "# Display results\n",
    "result = f\"If k = {k_value} and m = {m_value}, is U linearly independent? {'Yes' if linearly_independent else 'No'}\"\n",
    "\n",
    "print(result)"
   ]
  },
  {
   "cell_type": "markdown",
   "metadata": {
    "collapsed": false
   },
   "source": [
    "<span style='font-size:x-large'>Row and Column spaces</span>\n",
    "\n",
    "<span style='font-size:large'>Let A be an n x m matrix.</span>\n",
    "\n",
    "<span style='font-size:large'>\\(a\\) The </span><span style='font-size:large'>**row space**</span><span style='font-size:large'> of A is the subspace of </span>$\\mathbb{R}^m$<span style='font-size:large'> spanned by the row vectors of A and is denoted by row\\(A\\).</span>\n",
    "\n",
    "<span style='font-size:large'>\\(b\\) The </span><span style='font-size:large'>**column space** </span><span style='font-size:large'>of A is the subspace of </span>$\\mathbb{R}^n$<span style='font-size:large'> spanned by the column vectors of A and is denoted by col\\(A\\).</span>\n",
    "\n",
    "<span style='font-size:large'>Let A be a matrix and B an echelon form of A.</span>\n",
    "\n",
    "<span style='font-size:large'>\\(a\\) The nonzero rows of B form a basis for row\\(A\\).</span>\n",
    "\n",
    "<span style='font-size:large'>\\(b\\) The columns of A corresponding to the pivot columns of B form a basis for col\\(A\\).</span>\n",
    "\n"
   ]
  },
  {
   "cell_type": "code",
   "execution_count": 28,
   "metadata": {
    "collapsed": false
   },
   "outputs": [
    {
     "name": "stdout",
     "output_type": "stream",
     "text": [
      "basis for the row space:\n",
      "[   1    0    5 19/5]\n",
      "[   0    1   -1 -3/5]\n",
      "basis for the column space:\n",
      "[ 1 -2  1]\n",
      "[-2 -1 13]\n"
     ]
    }
   ],
   "source": [
    "A = matrix(QQ,[[1, -2, 7, 5],\n",
    "               [-2, -1, -9, -7],\n",
    "               [1, 13, -8, -4]])\n",
    "# Find the echelon form of the matrix\n",
    "B = A.rref()\n",
    "row_pivot = B.pivot_rows()\n",
    "# We know that a basis for the row space of A is given by the nonzero rows of B\n",
    "# We can find which rows are linearly independent from row_pivot, which is 0, 1\n",
    "basis_0 = B[0, :]\n",
    "basis_1 = B[1, :]\n",
    "\n",
    "linearly_indep_cols = B.pivots()\n",
    "# We know that a basis for the column space of A is given by the columns of A corresponding to the pivot columns of B\n",
    "# We can find which cols are linearly independent from linearly_indep_cols, which is 0, 1\n",
    "basis_00 = A.transpose()[row_pivot[0], :]\n",
    "basis_11 = A.transpose()[row_pivot[1], :]\n",
    "\n",
    "print(\"basis for the row space:\")\n",
    "print(basis_0)\n",
    "print(basis_1)\n",
    "print(\"basis for the column space:\")\n",
    "print(basis_00)\n",
    "print(basis_11)"
   ]
  },
  {
   "cell_type": "markdown",
   "metadata": {
    "collapsed": false
   },
   "source": [
    "<span style='font-size:large'>For any matrix A, the dimension of the row space equals the dimension of the column space.</span>\n"
   ]
  },
  {
   "cell_type": "markdown",
   "metadata": {
    "collapsed": false
   },
   "source": [
    "<span style='font-size:large'>The rank of a matrix A is the dimension of the row \\(or column\\) space of A, and is denoted by rank\\(A\\).</span>\n"
   ]
  },
  {
   "cell_type": "code",
   "execution_count": 3,
   "metadata": {
    "collapsed": false
   },
   "outputs": [
    {
     "name": "stdout",
     "output_type": "stream",
     "text": [
      "rank: 2\n",
      "nullity: 3\n",
      "nullity_quick: Vector space of degree 3 and dimension 1 over Rational Field\n",
      "Basis matrix:\n",
      "[   1 -1/5 -1/5]\n"
     ]
    }
   ],
   "source": [
    "# Display a matrix\n",
    "A = matrix(QQ,[[1, -2, 3, 0, -1],\n",
    "               [2, -4, 7, -3, 3],\n",
    "               [3, -6, 8, 3, -8]])\n",
    "# Find the echelon form of the matrix\n",
    "echelon_form = A.rref()\n",
    "linearly_indep_cols = echelon_form.pivots()\n",
    "# Find the number of cols that have pivots\n",
    "pivot_cols = 0\n",
    "for i in linearly_indep_cols:\n",
    "    pivot_cols += 1\n",
    "# Find the rank\n",
    "rank = pivot_cols\n",
    "# m of this matrix is 5\n",
    "m = 5\n",
    "# Find the nullity of the matrix\n",
    "nullity = m - rank\n",
    "# nullity = A.right_nullity()\n",
    "print(\"rank:\", rank)\n",
    "print(\"nullity:\", nullity)\n",
    "\n",
    "# show the quick way\n",
    "nullity_quick = A.kernel()\n",
    "print(\"nullity_quick:\", nullity_quick)"
   ]
  },
  {
   "cell_type": "markdown",
   "metadata": {
    "collapsed": false
   },
   "source": [
    "<span style='font-size:large'>rank\\(A\\) \\+ nullity\\(A\\) = m.</span>\n"
   ]
  },
  {
   "cell_type": "markdown",
   "metadata": {
    "collapsed": false
   },
   "source": [
    "<span style='font-size:large'>Let A be an n × m matrix and </span><span style='font-size:large'>**b**</span><span style='font-size:large'> a vector in </span>$\\mathbb{R}^n$<span style='font-size:large'>.</span>\n",
    "\n",
    "<span style='font-size:large'>\\(a\\) The system A</span><span style='font-size:large'>**x**</span><span style='font-size:large'> = </span><span style='font-size:large'>**b**</span><span style='font-size:large'> is consistent if and only if </span><span style='font-size:large'>**b**</span><span style='font-size:large'> is in the column space of A.</span>\n",
    "\n",
    "<span style='font-size:large'>\\(b\\) The system A</span><span style='font-size:large'>**x**</span><span style='font-size:large'> = </span><span style='font-size:large'>**b**</span><span style='font-size:large'> has a unique solution if and only if </span><span style='font-size:large'>**b**</span><span style='font-size:large'> is in the column space of A and the columns of A are linearly independent.</span>\n"
   ]
  },
  {
   "cell_type": "markdown",
   "metadata": {
    "collapsed": false
   },
   "source": [
    "<span style='font-size:x-large'>Change Basis</span>\n",
    "\n",
    "<span style='font-size:large'></span>\n",
    "\n",
    "<span style='font-size:large'>Let x be expressed with respect to the standard basis, and let B ={u1,... , un} be any basis for Rn.</span>\n",
    "\n",
    "<span style='font-size:large'>\\(a\\) x = U$[x]_B$</span>\n",
    "\n",
    "<span style='font-size:large'>\\(b) $[x]_B$ = $U^{-1}$x</span>\n",
    "\n"
   ]
  },
  {
   "cell_type": "code",
   "execution_count": 25,
   "metadata": {
    "collapsed": false
   },
   "outputs": [
    {
     "name": "stdout",
     "output_type": "stream",
     "text": [
      "(2, -1, 1)\n"
     ]
    }
   ],
   "source": [
    "# Define a 3-dimensional vector space\n",
    "V = VectorSpace(QQ, 3)\n",
    "\n",
    "# Define the vector x\n",
    "x = V([3, 4, 4])\n",
    "\n",
    "# Define the new basis vectors u1, u2, u3\n",
    "u1 = V([1, 1, 2])\n",
    "u2 = V([0, -3, 1])\n",
    "u3 = V([1, 0, 2])\n",
    "\n",
    "# Letting U be the matrix with columns given by the vectors in ℬ\n",
    "U = matrix(QQ,[[1, 1, 2],\n",
    "               [0, -3, 1],\n",
    "               [1, 0, 2]])\n",
    "U_inverse = U.inverse()\n",
    "x_B = U_inverse * x\n",
    "print(x_B)"
   ]
  },
  {
   "cell_type": "markdown",
   "metadata": {
    "collapsed": false
   },
   "source": [
    "<span style='font-size:large'>Let </span>$ℬ_1$<span style='font-size:large'> = {</span>$u_1$<span style='font-size:large'>,… ,</span>$u_m$<span style='font-size:large'>} and $ℬ_2 =$ {</span>$v_1$<span style='font-size:large'>,… ,</span>$v_m$<span style='font-size:large'>} be bases for $\\mathbb{R}^n$. If U = [</span>$u_1$<span style='font-size:large'> … </span>$u_m$<span style='font-size:large'>\\] and V = \\[</span>$v_1$<span style='font-size:large'> … </span>$v_m$<span style='font-size:large'>], then</span>\n",
    "\n",
    "<span style='font-size:large'>\\(a\\) </span>$[x]_{ℬ_2}$ <span style='font-size:large'>=</span>  $V^{−1}$<span style='font-size:large'>U</span>$[x]_{ℬ_1}$\n",
    "\n",
    "<span style='font-size:large'>\\(b\\) </span>$[x]_{ℬ_1}$<span style='font-size:large'> = </span>$U^{−1}$<span style='font-size:large'>V</span>$[x]_{ℬ_2}$<span style='font-size:large'> </span>\n",
    "\n"
   ]
  },
  {
   "cell_type": "markdown",
   "metadata": {
    "collapsed": false
   },
   "source": [
    "<span style='font-size:large'>Suppose that </span>$\\mathscr{B}_1 = \\left\\{ \\begin{bmatrix}1 \\\\ 3 \\end{bmatrix}, \\begin{bmatrix}2 \\\\ 7\\end{bmatrix} \\right\\}$<span style='font-size:large'> and </span>$\\mathscr{B}_2 = \\left\\{ \\begin{bmatrix}3 \\\\ 5 \\end{bmatrix}, \\begin{bmatrix}2 \\\\ 3\\end{bmatrix} \\right\\}$.\n",
    "\n",
    "<span style='font-size:large'>Find </span>$[x]_{\\mathscr{B}_2}$<span style='font-size:large'> if </span>$[x]_{\\mathscr{B}_1} = \\left\\{ \\begin{bmatrix}-1 \\\\ 4 \\end{bmatrix} \\right\\}$.\n",
    "\n"
   ]
  },
  {
   "cell_type": "code",
   "execution_count": 147,
   "metadata": {
    "collapsed": false
   },
   "outputs": [
    {
     "name": "stdout",
     "output_type": "stream",
     "text": [
      "[ 29]\n",
      "[-40]\n",
      "Check: True\n"
     ]
    }
   ],
   "source": [
    "# We start by setting U and V\n",
    "U = matrix(QQ,[[1, 2],\n",
    "               [3, 7]])\n",
    "V = matrix(QQ,[[3, 2],\n",
    "               [5, 3]])\n",
    "x_B1 = matrix(QQ, [[-1],\n",
    "                   [4]])\n",
    "# The change of basis matrix from ℬ_1 to ℬ_2 is V^-1*U\n",
    "V_inverse = V.inverse()\n",
    "change_of_basis = V_inverse * U\n",
    "\n",
    "# Use V^-1*U*x_B1 to findx_B2\n",
    "change_of_basis_matrix = matrix(QQ,[[3, 8],\n",
    "                                    [-4, -11]])\n",
    "x_B2 = change_of_basis_matrix * x_B1\n",
    "print(x_B2)\n",
    "\n",
    "# Check\n",
    "# U*x_B1\n",
    "U_xB1 = U * x_B1\n",
    "# V*x_B2\n",
    "V_xB2 = V * x_B2\n",
    "print(\"Check:\", U_xB1==V_xB2)"
   ]
  },
  {
   "cell_type": "markdown",
   "metadata": {
    "collapsed": false
   },
   "source": [
    "<span style='font-size:x-large'>Change of Basis in Subspaces</span>\n",
    "\n",
    "<span style='font-size:large'>Let S be a subspace of </span>$\\mathbb{R}^n$<span style='font-size:large'> with bases </span>$\\mathscr{B}_1$<span style='font-size:large'> = {</span>$u_1$<span style='font-size:large'>, ..., </span>$u_m$<span style='font-size:large'>} and </span>$\\mathscr{B}_2$<span style='font-size:large'> = {</span>$v_1$<span style='font-size:large'>, ..., </span>$v_m$<span style='font-size:large'>}.</span>\n",
    "\n",
    "<span style='font-size:large'>If </span>$C =[ [u_1]_{\\mathscr{B}_2}... [u_k]_{\\mathscr{B}_2}]$\n",
    "\n",
    "<span style='font-size:large'>then </span>$[x]_{\\mathscr{B}_2}= C[x]_{\\mathscr{B}_1}$\n"
   ]
  },
  {
   "cell_type": "code",
   "execution_count": 21,
   "metadata": {
    "collapsed": false
   },
   "outputs": [
    {
     "name": "stdout",
     "output_type": "stream",
     "text": [
      "[ 1 -1]\n",
      "[-3  2]\n",
      "[ 2  1] x =  (1, -5, 8)\n",
      "\n",
      "Generated Equations:  [' x + -y == 1', ' -3*x + 2*y == -5', ' 2*x + y == 8'] \n",
      "\n",
      "s =  [{x: 3, y: 2}]\n",
      "c11 =  3\n",
      "c12 =  2\n",
      "[ 1 -1]\n",
      "[-3  2]\n",
      "[ 2  1] x =  (3, -8, 3)\n",
      "\n",
      "Generated Equations:  [' x + -y == 3', ' -3*x + 2*y == -8', ' 2*x + y == 3'] \n",
      "\n",
      "s =  [{x: 2, y: -1}]\n",
      "c21 =  2\n",
      "c22 =  -1\n",
      "[{x: 2, y: -1}]\n",
      "[ 3  2]\n",
      "[ 2 -1]\n",
      "x_B2:\n",
      "(7, 7)\n"
     ]
    }
   ],
   "source": [
    "# Define a 3-dimensional vector space\n",
    "V = VectorSpace(RR, 3)\n",
    "\n",
    "B_1 = matrix(QQ,[[1, -5, 8], [3, -8, 3]]).transpose()\n",
    "B_2 = matrix(QQ,[[1, -3, 2], [-1, 2, 1]]).transpose()\n",
    "# Find the change of basis matrix from B_1 to B_2 and find x_B2 if x_B1 = [3\n",
    "#                                                                          -1]\n",
    "x_B1 = vector([3, -1])\n",
    "B1_col1 = vector(B_1[:, 0])\n",
    "#toEquations takes in a transposed matrix and a vectors and returns a list of corresponding linear equations\n",
    "equations = toEquations(B_2, B1_col1); print(\"Generated Equations: \", equations, \"\\n\")\n",
    "s = solve([eval(equations[0]), eval(equations[1]), eval(equations[2])], x, y, solution_dict=True)\n",
    "c11 = s[0][x]\n",
    "c12 = s[0][y]\n",
    "print(\"s = \", s)\n",
    "print(\"c11 = \", c11)\n",
    "print(\"c12 = \", c12)\n",
    "\n",
    "\n",
    "B1_col2 = vector(B_1[:, 1])\n",
    "equations = toEquations(B_2, B1_col2); print(\"Generated Equations: \", equations, \"\\n\")\n",
    "s = solve([eval(equations[0]), eval(equations[1]), eval(equations[2])], x, y, solution_dict=True)\n",
    "c21 = s[0][x]\n",
    "c22 = s[0][y]\n",
    "print(\"s = \", s)\n",
    "print(\"c21 = \", c21)\n",
    "print(\"c22 = \", c22)\n",
    "print(s)\n",
    "\n",
    "C = matrix(QQ,[[c11, c12], [c21, c22]]).transpose()\n",
    "print(C)\n",
    "\n",
    "x_B2 = C * x_B1\n",
    "print(\"x_B2:\")\n",
    "print(x_B2)"
   ]
  },
  {
   "cell_type": "markdown",
   "metadata": {
    "collapsed": false
   },
   "source": [
    "<span style='font-size:x-large'>Quiver Matrix</span>\n",
    "\n",
    "<span style='font-size:large'>We want to fine the relationship between quiver matrix and subspace</span>\n",
    "\n"
   ]
  },
  {
   "cell_type": "markdown",
   "metadata": {
    "collapsed": false
   },
   "source": [
    "<span style='font-size:x-large'>Quiver Mutation</span>\n",
    "\n",
    "1. <span style='font-size:large'>For each i → k→ j, make new edges i → j</span>\n",
    "2. <span style='font-size:large'>Reverse all edges at k</span>\n",
    "3. <span style='font-size:large'>Remove any 2\\-cycles</span>\n",
    "\n"
   ]
  },
  {
   "cell_type": "markdown",
   "metadata": {
    "collapsed": false
   },
   "source": [
    "<span style='font-size:large'>We have 4 points, and there are some arrows between them. By using Quiver Mutation, we can find the final format.</span>\n",
    "\n",
    "<img src=\".Zijing Huang Math208 Chapter4.ipynb.upload/paste-0.4188275615061243\"   width=\"1032.47px\"  height=\"243.663px\"  style=\"object-fit:cover\"/>\n",
    "\n",
    "<span style='font-size:large'>Then we want to express them into Quiver Matrix by these following theorem:</span>\n",
    "\n",
    "\\begin{align*}b_{ij} =\\begin{cases}\n",
    "    -b_{ij} \\text{ , if i = k or j = k} \\\\\n",
    "    b_{ij} + b_{ik} * b_{kj} \\text{ , if $b_{ik}$, $b_{kj}$ > 0} \\\\\n",
    "    b_{ij} \\text{ , otherwise}\n",
    "\\end{cases}\\end{align*}\n",
    "\n"
   ]
  },
  {
   "cell_type": "code",
   "execution_count": 4,
   "metadata": {
    "collapsed": false
   },
   "outputs": [
    {
     "name": "stdout",
     "output_type": "stream",
     "text": [
      "A_mutated: [ 0  1  0 -2]\n",
      "[-1  0 -1  1]\n",
      "[ 0  1  0 -1]\n",
      "[ 2 -1  1  0]\n",
      "basis_A: [ 0 -1  0  2]\n",
      "basis_A_mutated: [ 0 -1  0  2]\n"
     ]
    }
   ],
   "source": [
    "A = Matrix(QQ, [[0, -1, 0, 2], \n",
    "                [1, 0, 0, -1], \n",
    "                [0, 0, 0, 1],\n",
    "                [-2, 1, -1, 0]])\n",
    "\n",
    "# After appling upon theorem:\n",
    "A_mutated = Matrix(QQ, [[0, 1, 0,-2], \n",
    "                        [-1, 0, -1, 1], \n",
    "                        [0, 1, 0, -1],\n",
    "                        [2, -1, 1, 0]])\n",
    "\n",
    "# We want to find the basis for A and A_mutated\n",
    "linearly_indep_cols_A = A.pivots()\n",
    "linearly_indep_cols_A_mutated = A_mutated.pivots()\n",
    "basis_A = A[linearly_indep_cols_A[0], :]\n",
    "basis_A_mutated = A[linearly_indep_cols_A_mutated[0], :]\n",
    "\n",
    "print(\"A_mutated:\", A_mutated)\n",
    "print(\"basis_A:\",basis_A)\n",
    "print(\"basis_A_mutated:\" ,basis_A_mutated)\n",
    "\n",
    "# We can find that their basis are equivalent"
   ]
  },
  {
   "cell_type": "markdown",
   "metadata": {
    "collapsed": false
   },
   "source": [
    "<span style='font-size:x-large'>Find relationship between quiver matrix and null space.</span>\n"
   ]
  },
  {
   "cell_type": "code",
   "execution_count": 3,
   "metadata": {
    "collapsed": false
   },
   "outputs": [
   ],
   "source": [
    "import itertools\n",
    "\n",
    "# Run this under Python3\n",
    "\n",
    "def mutate(M, i):\n",
    "    # Return M mutated at vertex i.\n",
    "    n = len(M)\n",
    "    M_ = [row[::] for row in M]\n",
    "    for j in range(len(M)):\n",
    "        for k in range(len(M)):\n",
    "            if j != k and M[j][i] > 0 and M[i][k] > 0:\n",
    "                print(j,k)\n",
    "                M_[j][k] += M[j][i] * M[i][k]\n",
    "                M_[k][j] -= M[j][i] * M[i][k]\n",
    "    for j in range(len(M)):\n",
    "        M_[j][i] *= -1\n",
    "        M_[i][j] *= -1\n",
    "    return M_\n",
    "\n",
    "def is_3_cyclic(M):\n",
    "    # Returns whether M contains a 3 cycle or not.\n",
    "    n = len(M)\n",
    "    for (a,b,c) in itertools.permutations(range(n), 3):\n",
    "        if M[a][b] > 0 and M[b][c] > 0 and M[c][a] > 0:\n",
    "            return True\n",
    "    return False\n",
    "\n",
    "def is_4_cyclic(M):\n",
    "    # Returns whether M contains a 4 cycle or not.\n",
    "    n = len(M)\n",
    "    for (a,b,c,d) in itertools.permutations(range(n), 4):\n",
    "        if M[a][b] > 0 and M[b][c] > 0 and M[c][d] > 0 and M[d][a] > 0:\n",
    "            return True\n",
    "    return False\n",
    "\n",
    "for (a,b,c,d,e,f) in itertools.combinations(range(-10, 11), 6):\n",
    "    M = [\n",
    "        [0,  a,  b,  c],\n",
    "        [-a, 0,  d,  e],\n",
    "        [-b, -d, 0,  f],\n",
    "        [-c, -e, -f, 0],\n",
    "    ]\n"
   ]
  },
  {
   "cell_type": "code",
   "execution_count": 3,
   "metadata": {
    "collapsed": false
   },
   "outputs": [
    {
     "name": "stdout",
     "output_type": "stream",
     "text": [
      "Vector space of degree 4 and dimension 1 over Rational Field\n",
      "Basis matrix:\n",
      "[ 1  0 -1  0]\n"
     ]
    }
   ],
   "source": [
    "A = Matrix(QQ, [[0,-1,0,1],\n",
    "                [1,0,1,-1],\n",
    "                [0,-1,0,1], \n",
    "                [-1,1,1,0]])\n",
    "nullity_quick = A.kernel()\n",
    "print(nullity_quick)"
   ]
  },
  {
   "cell_type": "code",
   "execution_count": 8,
   "metadata": {
    "collapsed": false
   },
   "outputs": [
    {
     "name": "stdout",
     "output_type": "stream",
     "text": [
      "True\n",
      "False\n"
     ]
    }
   ],
   "source": [
    "# Run this under Python3\n",
    "M = [[0,-1,0,1],[1,0,1,-1],[0,-1,0,1], [-1,1,1,0]]\n",
    "print(is_3_cyclic(M))\n",
    "print(is_4_cyclic(M))"
   ]
  },
  {
   "cell_type": "markdown",
   "metadata": {
    "collapsed": false
   },
   "source": [
    "<span style='font-size:large'>This is a 3 cyclic quiver matrix, and its null space has nonzero vectors.</span>\n"
   ]
  },
  {
   "cell_type": "code",
   "execution_count": 1,
   "metadata": {
    "collapsed": false
   },
   "outputs": [
    {
     "name": "stdout",
     "output_type": "stream",
     "text": [
      "Vector space of degree 4 and dimension 0 over Rational Field\n",
      "Basis matrix:\n",
      "[]\n"
     ]
    }
   ],
   "source": [
    "A = Matrix(QQ, [[0, -3, -3, -3], \n",
    "                [3, 0, -3, 1], \n",
    "                [3, 3, 0, -3], \n",
    "                [3, -1, 3, 0]])\n",
    "nullity_quick = A.kernel()\n",
    "print(nullity_quick)"
   ]
  },
  {
   "cell_type": "code",
   "execution_count": 4,
   "metadata": {
    "collapsed": false
   },
   "outputs": [
    {
     "name": "stdout",
     "output_type": "stream",
     "text": [
      "True\n",
      "False\n"
     ]
    }
   ],
   "source": [
    "# Run this under Python3\n",
    "M = [[0, -3, -3, -3], [3, 0, -3, 1], [3, 3, 0, -3], [3, -1, 3, 0]]\n",
    "print(is_3_cyclic(M))\n",
    "print(is_4_cyclic(M))"
   ]
  },
  {
   "cell_type": "markdown",
   "metadata": {
    "collapsed": false
   },
   "source": [
    "<span style='font-size:large'>This is a 3 cyclic quiver matrix, but its null space only have zero vector.</span>\n"
   ]
  },
  {
   "cell_type": "markdown",
   "metadata": {
    "collapsed": false
   },
   "source": [
    "<span style='font-size:large'>This found out that there is no relationship between null space and 3\\-cyclic quiver.</span>\n"
   ]
  },
  {
   "cell_type": "markdown",
   "metadata": {
    "collapsed": false
   },
   "source": [
    "<span style='font-size:xx-large'>Thank you!</span>\n"
   ]
  },
  {
   "cell_type": "code",
   "execution_count": 0,
   "metadata": {
    "collapsed": false
   },
   "outputs": [
   ],
   "source": [
   ]
  }
 ],
 "metadata": {
  "kernelspec": {
   "argv": [
    "sage-10.1",
    "--python",
    "-m",
    "sage.repl.ipython_kernel",
    "--matplotlib=inline",
    "-f",
    "{connection_file}"
   ],
   "display_name": "SageMath 10.1",
   "env": {
   },
   "language": "sagemath",
   "metadata": {
    "cocalc": {
     "description": "Open-source mathematical software system",
     "priority": 10,
     "url": "https://www.sagemath.org/"
    }
   },
   "name": "sage-10.1",
   "resource_dir": "/ext/jupyter/kernels/sage-10.1"
  },
  "language_info": {
   "codemirror_mode": {
    "name": "ipython",
    "version": 2
   },
   "file_extension": ".py",
   "mimetype": "text/x-python",
   "name": "python",
   "nbconvert_exporter": "python",
   "pygments_lexer": "ipython2",
   "version": "2.7.12+"
  }
 },
 "nbformat": 4,
 "nbformat_minor": 4
}